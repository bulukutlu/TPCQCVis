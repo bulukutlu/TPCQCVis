{
 "cells": [
  {
   "cell_type": "code",
   "execution_count": null,
   "id": "d8545111",
   "metadata": {},
   "outputs": [],
   "source": [
    "%%capture\n",
    "import ROOT\n",
    "import glob\n",
    "import math\n",
    "import numpy as np\n",
    "from IPython.display import display, Markdown\n",
    "from IPython.display import display, HTML\n",
    "from TPCQCVis.src.drawHistograms import *\n",
    "from TPCQCVis.src.drawTrending import *\n",
    "from TPCQCVis.src.checkHistograms import *\n",
    "from TPCQCVis.src.EmptyClustersChecker import *\n",
    "from copy import copy\n",
    "ROOT.gErrorIgnoreLevel = ROOT.kError"
   ]
  },
  {
   "cell_type": "code",
   "execution_count": null,
   "id": "6d1411b6",
   "metadata": {},
   "outputs": [],
   "source": [
    "display(HTML(\"<style>.container { width:95% !important; }</style>\"))\n",
    "display(HTML(\"<style>table {float:left;}</style>\"))"
   ]
  },
  {
   "cell_type": "code",
   "execution_count": null,
   "id": "e295defb-6ecb-4ae9-a3e3-4d2f2252dc68",
   "metadata": {},
   "outputs": [],
   "source": [
    "def checkIfExists(files, title):\n",
    "    objectAvailable = False\n",
    "    hist = None\n",
    "    if type(files) is list:\n",
    "        file = files[0]\n",
    "    else:\n",
    "        file = files\n",
    "    try:\n",
    "        hist = file.PIDQC.Get(title)\n",
    "        if not hist : hist = file.TracksQC.Get(title)\n",
    "        if not hist : hist = file.ClusterQC.Get(title)\n",
    "        if not hist : hist = file.PID.Get(title)\n",
    "        if not hist : hist = file.Tracks.Get(title)\n",
    "    except:\n",
    "        objectAvailable = False\n",
    "    else:\n",
    "        if hist:\n",
    "            objectAvailable = True\n",
    "        else:\n",
    "            objectAvailable = False\n",
    "    if not objectAvailable:\n",
    "        print(title,\"not found\")\n",
    "    return objectAvailable\n",
    "    \n",
    "def sliceAndFit(objectName,rootDataFile,fitFunc=\"gaus\",fitRange=[40,60]):\n",
    "    from copy import copy\n",
    "    canvas = ROOT.TCanvas()\n",
    "    legend = ROOT.TLegend()\n",
    "    [hist,leg,canvo,pad1] = drawHistograms(objectName,rootDataFile,normalize=False,legend=False,\n",
    "                                           pads=True,drawOption=\"COLZ\",maxColumns=3)\n",
    "    fits = []\n",
    "    myFunc = ROOT.TF1(\"myFunc\",\"gaus\",40,60)\n",
    "    canvas.cd()\n",
    "    for i,histo in enumerate(hist):\n",
    "        histo.FitSlicesY(myFunc)\n",
    "        fit = copy(ROOT.gDirectory.Get(histo.GetName()+\"_1\"))\n",
    "        fit.SetYTitle(\"Gaus Fit Mean \"+ histo.GetYaxis().GetTitle())\n",
    "        fit.SetXTitle(histo.GetXaxis().GetTitle())\n",
    "        fit.SetTitle(quant.GetYaxis().GetTitle()+\" vs. \"+quant.GetXaxis().GetTitle())\n",
    "        fit.SetLineWidth(2)\n",
    "        fits.append(fit)\n",
    "        #legend.AddEntry(fit,runList[i])\n",
    "        #fit.Draw(\"SAME L\")\n",
    "    #legend.Draw()\n",
    "    return fits, legend, canvas\n",
    "    \n",
    "def quantileProfile(hist,quantileOrder=0.5, axis=\"x\"):\n",
    "    from copy import copy\n",
    "    quants = []\n",
    "    for i,histo in enumerate(hist):\n",
    "        if axis == \"y\":\n",
    "            quant = copy(histo.QuantilesY(quantileOrder))\n",
    "        else:\n",
    "            quant = copy(histo.QuantilesX(quantileOrder))\n",
    "        quant.SetYTitle(\"Median \"+ histo.GetYaxis().GetTitle())\n",
    "        quant.SetXTitle(histo.GetXaxis().GetTitle())\n",
    "        quant.SetTitle(quant.GetYaxis().GetTitle()+\" vs. \"+quant.GetXaxis().GetTitle())\n",
    "        quant.SetLineWidth(2)\n",
    "        quants.append(quant)\n",
    "        quants[i].SetStats(0)\n",
    "    return quants"
   ]
  },
  {
   "cell_type": "code",
   "execution_count": null,
   "id": "bb0c55ba",
   "metadata": {},
   "outputs": [],
   "source": [
    "# Notebook variables\n",
    "periodName = \"myPeriod\"\n",
    "passName = \"myPass\"\n",
    "runNumber = 123456\n",
    "path = \"myPath\"\n",
    "# Read QC root file\n",
    "rootDataFile=[]\n",
    "rootDataFile.append(ROOT.TFile.Open(path+\"/\"+periodName+\"/\"+passName+\"/\"+str(runNumber)+\"_QC.root\",\"READ\"))"
   ]
  },
  {
   "cell_type": "markdown",
   "id": "d70f767c",
   "metadata": {},
   "source": [
    "# TPC Async QC Report - myPeriod - myPass - Run 123456\n",
    "### RCT Tables\n",
    "+ [2022](https://docs.google.com/spreadsheets/d/14vXFYVx3oVE8wgJKmIBhjvAt6NpGp7D6H4AmBM9E0Cw/edit#gid=0), [2023](https://docs.google.com/spreadsheets/d/1YBQLXWwwc3aC3B_PYVpFkTgEP0n6u1ovtYfiCOMWnTc/edit?pli=1#gid=0), [2023 PbPb](https://docs.google.com/spreadsheets/d/1vsl-pkLdUoNXZm6muPyMENWdDSKM7UDtQLcXc2B9QhE/edit#gid=492527515)"
   ]
  },
  {
   "cell_type": "markdown",
   "id": "b9faae5a",
   "metadata": {
    "toc": true
   },
   "source": [
    "<h1>Table of Contents<span class=\"tocSkip\"></span></h1>\n",
    "<div class=\"toc\"><ul class=\"toc-item\"><li><span><a href=\"#Per-Pad-(Clusters)\" data-toc-modified-id=\"Per-Pad-(Clusters)-1\">Per Pad (Clusters)</a></span><ul class=\"toc-item\"><li><ul class=\"toc-item\"><li><span><a href=\"#nClusters\" data-toc-modified-id=\"nClusters-1.0.1\">nClusters</a></span></li><li><span><a href=\"#Q_Max\" data-toc-modified-id=\"Q_Max-1.0.2\">Q_Max</a></span></li><li><span><a href=\"#Q_Tot\" data-toc-modified-id=\"Q_Tot-1.0.3\">Q_Tot</a></span></li><li><span><a href=\"#Time_Bin\" data-toc-modified-id=\"Time_Bin-1.0.4\">Time_Bin</a></span></li><li><span><a href=\"#Sigma_Pad\" data-toc-modified-id=\"Sigma_Pad-1.0.5\">Sigma_Pad</a></span></li><li><span><a href=\"#Sigma_Time\" data-toc-modified-id=\"Sigma_Time-1.0.6\">Sigma_Time</a></span></li></ul></li></ul></li><li><span><a href=\"#Tracks\" data-toc-modified-id=\"Tracks-2\">Tracks</a></span><ul class=\"toc-item\"><li><span><a href=\"#Geometrical-distributions\" data-toc-modified-id=\"Geometrical-distributions-2.1\">Geometrical distributions</a></span><ul class=\"toc-item\"><li><span><a href=\"#Phi\" data-toc-modified-id=\"Phi-2.1.1\">Phi</a></span></li><li><span><a href=\"#Eta\" data-toc-modified-id=\"Eta-2.1.2\">Eta</a></span></li><li><span><a href=\"#Eta-vs-phi\" data-toc-modified-id=\"Eta-vs-phi-2.1.3\">Eta vs phi</a></span></li></ul></li><li><span><a href=\"#Track-properties\" data-toc-modified-id=\"Track-properties-2.2\">Track properties</a></span><ul class=\"toc-item\"><li><span><a href=\"#nClusters\" data-toc-modified-id=\"nClusters-2.2.1\">nClusters</a></span></li><li><span><a href=\"#nClusters-vs-eta\" data-toc-modified-id=\"nClusters-vs-eta-2.2.2\">nClusters vs eta</a></span></li><li><span><a href=\"#nClusters-vs-pT\" data-toc-modified-id=\"nClusters-vs-pT-2.2.3\">nClusters vs pT</a></span></li><li><span><a href=\"#pT\" data-toc-modified-id=\"pT-2.2.4\">pT</a></span></li><li><span><a href=\"#Q/pT\" data-toc-modified-id=\"Q/pT-2.2.5\">Q/pT</a></span></li><li><span><a href=\"#Sign\" data-toc-modified-id=\"Sign-2.2.6\">Sign</a></span></li></ul></li><li><span><a href=\"#Energy-Loss\" data-toc-modified-id=\"Energy-Loss-2.3\">Energy Loss</a></span><ul class=\"toc-item\"><li><span><a href=\"#dEdxTot-for-MIPs\" data-toc-modified-id=\"dEdxTot-for-MIPs-2.3.1\">dEdxTot for MIPs</a></span></li><li><span><a href=\"#dEdxTot-vs-p\" data-toc-modified-id=\"dEdxTot-vs-p-2.3.2\">dEdxTot vs p</a></span></li><li><span><a href=\"#dEdxTotMip-vs-sector-(phi)\" data-toc-modified-id=\"dEdxTotMip-vs-sector-(phi)-2.3.3\">dEdxTotMip vs sector (phi)</a></span></li><li><span><a href=\"#dEdxTotMip-vs-nClusters\" data-toc-modified-id=\"dEdxTotMip-vs-nClusters-2.3.4\">dEdxTotMip vs nClusters</a></span></li><li><span><a href=\"#dEdxTotMip-vs-sin(phi)\" data-toc-modified-id=\"dEdxTotMip-vs-sin(phi)-2.3.5\">dEdxTotMip vs sin(phi)</a></span></li><li><span><a href=\"#dEdxTotMip-vs-tan(lambda)\" data-toc-modified-id=\"dEdxTotMip-vs-tan(lambda)-2.3.6\">dEdxTotMip vs tan(lambda)</a></span></li><li><span><a href=\"#dEdxMax-for-MIPs\" data-toc-modified-id=\"dEdxMax-for-MIPs-2.3.7\">dEdxMax for MIPs</a></span></li><li><span><a href=\"#dEdxMax-vs-p\" data-toc-modified-id=\"dEdxMax-vs-p-2.3.8\">dEdxMax vs p</a></span></li><li><span><a href=\"#dEdxMaxMip-vs-sector-(phi)\" data-toc-modified-id=\"dEdxMaxMip-vs-sector-(phi)-2.3.9\">dEdxMaxMip vs sector (phi)</a></span></li><li><span><a href=\"#dEdxMaxMip-vs-nClusters\" data-toc-modified-id=\"dEdxMaxMip-vs-nClusters-2.3.10\">dEdxMaxMip vs nClusters</a></span></li><li><span><a href=\"#dEdxMaxMip-vs-sin(phi)\" data-toc-modified-id=\"dEdxMaxMip-vs-sin(phi)-2.3.11\">dEdxMaxMip vs sin(phi)</a></span></li><li><span><a href=\"#dEdxMaxMip-vs-tan(lambda)\" data-toc-modified-id=\"dEdxMaxMip-vs-tan(lambda)-2.3.12\">dEdxMaxMip vs tan(lambda)</a></span></li></ul></li></ul></li></ul></div>"
   ]
  },
  {
   "cell_type": "markdown",
   "id": "fe39e71a",
   "metadata": {},
   "source": [
    "## Per Pad (Clusters)"
   ]
  },
  {
   "cell_type": "markdown",
   "id": "57571f13",
   "metadata": {},
   "source": [
    "#### nClusters"
   ]
  },
  {
   "cell_type": "code",
   "execution_count": null,
   "id": "11024082",
   "metadata": {},
   "outputs": [],
   "source": [
    "%jsroot on\n",
    "objectName = \"c_N_Clusters\"\n",
    "if checkIfExists(rootDataFile,objectName):\n",
    "    c = rootDataFile[0].ClusterQC.Get(objectName)\n",
    "    c.Draw()"
   ]
  },
  {
   "cell_type": "code",
   "execution_count": null,
   "id": "b7b7cd95",
   "metadata": {},
   "outputs": [],
   "source": [
    "analyze_histogram_from_canvas(c)"
   ]
  },
  {
   "cell_type": "markdown",
   "id": "0ecad280",
   "metadata": {},
   "source": [
    "#### Q_Max"
   ]
  },
  {
   "cell_type": "code",
   "execution_count": null,
   "id": "9432dcd2",
   "metadata": {},
   "outputs": [],
   "source": [
    "%jsroot on\n",
    "objectName = \"c_Q_Max\"\n",
    "if checkIfExists(rootDataFile,objectName):\n",
    "    c = rootDataFile[0].ClusterQC.Get(objectName)\n",
    "    c.Draw()"
   ]
  },
  {
   "cell_type": "code",
   "execution_count": null,
   "id": "3549469e",
   "metadata": {},
   "outputs": [],
   "source": [
    "analyze_histogram_from_canvas(c)"
   ]
  },
  {
   "cell_type": "markdown",
   "id": "7d1504f0",
   "metadata": {},
   "source": [
    "#### Q_Tot"
   ]
  },
  {
   "cell_type": "code",
   "execution_count": null,
   "id": "1bbbd33b",
   "metadata": {},
   "outputs": [],
   "source": [
    "%jsroot on\n",
    "objectName = \"c_Q_Tot\"\n",
    "if checkIfExists(rootDataFile,objectName):\n",
    "    c = rootDataFile[0].ClusterQC.Get(objectName)\n",
    "    c.Draw()"
   ]
  },
  {
   "cell_type": "code",
   "execution_count": null,
   "id": "06f1c1dc",
   "metadata": {},
   "outputs": [],
   "source": [
    "analyze_histogram_from_canvas(c)"
   ]
  },
  {
   "cell_type": "markdown",
   "id": "fafcd3f7",
   "metadata": {},
   "source": [
    "#### Time_Bin"
   ]
  },
  {
   "cell_type": "code",
   "execution_count": null,
   "id": "fa2ed549",
   "metadata": {},
   "outputs": [],
   "source": [
    "%jsroot on\n",
    "objectName = \"c_Time_Bin\"\n",
    "if checkIfExists(rootDataFile,objectName):\n",
    "    c = rootDataFile[0].ClusterQC.Get(objectName)\n",
    "    c.Draw()"
   ]
  },
  {
   "cell_type": "markdown",
   "id": "3c240aef",
   "metadata": {},
   "source": [
    "#### Sigma_Pad"
   ]
  },
  {
   "cell_type": "code",
   "execution_count": null,
   "id": "c737bb67",
   "metadata": {},
   "outputs": [],
   "source": [
    "%jsroot on\n",
    "objectName = \"c_Sigma_Pad\"\n",
    "if checkIfExists(rootDataFile,objectName):\n",
    "    c = rootDataFile[0].ClusterQC.Get(objectName)\n",
    "    c.Draw()"
   ]
  },
  {
   "cell_type": "markdown",
   "id": "9f18a0a6",
   "metadata": {},
   "source": [
    "#### Sigma_Time"
   ]
  },
  {
   "cell_type": "code",
   "execution_count": null,
   "id": "5a170831",
   "metadata": {},
   "outputs": [],
   "source": [
    "%jsroot on\n",
    "objectName = \"c_Sigma_Time\"\n",
    "if checkIfExists(rootDataFile,objectName):\n",
    "    c = rootDataFile[0].ClusterQC.Get(objectName)\n",
    "    c.Draw()"
   ]
  },
  {
   "cell_type": "markdown",
   "id": "f7475792",
   "metadata": {},
   "source": [
    "## Tracks"
   ]
  },
  {
   "cell_type": "code",
   "execution_count": null,
   "id": "4e0583ad-1ce8-4cb9-af16-0aee27c781e5",
   "metadata": {},
   "outputs": [],
   "source": [
    "ROOT.gStyle.SetGridStyle(3)\n",
    "ROOT.gStyle.SetGridWidth(1)"
   ]
  },
  {
   "cell_type": "markdown",
   "id": "339ce55d",
   "metadata": {},
   "source": [
    "### Geometrical distributions"
   ]
  },
  {
   "cell_type": "markdown",
   "id": "608cefbe",
   "metadata": {},
   "source": [
    "#### Phi"
   ]
  },
  {
   "cell_type": "code",
   "execution_count": null,
   "id": "f591b039",
   "metadata": {},
   "outputs": [],
   "source": [
    "%jsroot on\n",
    "objectName=\"hPhiAside;1\"\n",
    "if checkIfExists(rootDataFile,objectName):\n",
    "    [hist,legend,canvas,pad1] = drawHistograms(objectName,rootDataFile,drawOption=\"HIST\")\n",
    "    #Sector boundatries\n",
    "    pad1.cd()\n",
    "    sectorBoundary = ROOT.TLine(0,hist[0].GetMinimum(),0,hist[0].GetMaximum())\n",
    "    sectorBoundary.SetLineStyle(2)\n",
    "    sectorNum = ROOT.TText(.5,.5,\"test\")\n",
    "    sectorNum.SetTextAlign(22)\n",
    "    sectorNum.SetTextColor(ROOT.kGray+1)\n",
    "    sectorNum.SetTextFont(0)\n",
    "    for j in range(19):\n",
    "        sectorBoundary.DrawLine((j*2*math.pi)/18,hist[0].GetMinimum(),(j*2*math.pi)/18,hist[0].GetMaximum())\n",
    "        if j < 18 : sectorNum.DrawText(((j+0.5)*2*math.pi)/18,hist[0].GetMaximum(),str(j))\n",
    "    canvas.SetCanvasSize(1000,400)\n",
    "    pad1.SetGridy(1)\n",
    "    canvas.Draw()"
   ]
  },
  {
   "cell_type": "code",
   "execution_count": null,
   "id": "d49f0e71",
   "metadata": {},
   "outputs": [],
   "source": [
    "%jsroot on\n",
    "objectName=\"hPhiCside;1\"\n",
    "if checkIfExists(rootDataFile,objectName):\n",
    "    [hist,legend,canvas,pad1] = drawHistograms(objectName,rootDataFile,drawOption=\"HIST\")\n",
    "    #Sector boundatries\n",
    "    pad1.cd()\n",
    "    sectorBoundary = ROOT.TLine(0,hist[0].GetMinimum(),0,hist[0].GetMaximum())\n",
    "    sectorBoundary.SetLineStyle(2)\n",
    "    sectorNum = ROOT.TText(.5,.5,\"test\")\n",
    "    sectorNum.SetTextAlign(22)\n",
    "    sectorNum.SetTextColor(ROOT.kGray+1)\n",
    "    sectorNum.SetTextFont(0)\n",
    "    for j in range(19):\n",
    "        sectorBoundary.DrawLine((j*2*math.pi)/18,hist[0].GetMinimum(),(j*2*math.pi)/18,hist[0].GetMaximum())\n",
    "        if j < 18 : sectorNum.DrawText(((j+0.5)*2*math.pi)/18,hist[0].GetMaximum(),str(j))\n",
    "    canvas.SetCanvasSize(1000,400)\n",
    "    pad1.SetGridy(1)\n",
    "    canvas.Draw()"
   ]
  },
  {
   "cell_type": "markdown",
   "id": "d1343d5f",
   "metadata": {},
   "source": [
    "#### Eta"
   ]
  },
  {
   "cell_type": "code",
   "execution_count": null,
   "id": "7c2871ea",
   "metadata": {},
   "outputs": [],
   "source": [
    "%jsroot on\n",
    "objectName=\"hEta;1\"\n",
    "if checkIfExists(rootDataFile,objectName):\n",
    "    [hist,legend,canvas,pad1] = drawHistograms(objectName,rootDataFile,xAxisRange = [-1.1,1.1],drawOption=\"HIST\")\n",
    "    canvas.SetCanvasSize(700,400)\n",
    "    pad1.SetGrid(1)\n",
    "    canvas.Draw()"
   ]
  },
  {
   "cell_type": "markdown",
   "id": "151f143b",
   "metadata": {},
   "source": [
    "#### Eta vs phi"
   ]
  },
  {
   "cell_type": "code",
   "execution_count": null,
   "id": "c46708d9",
   "metadata": {},
   "outputs": [],
   "source": [
    "%jsroot on\n",
    "objectName=\"h2DEtaPhi;1\"\n",
    "if checkIfExists(rootDataFile,objectName):\n",
    "    [hist,legend,canvas,pad1] = drawHistograms(objectName,rootDataFile,drawOption=\"COLZ\",yAxisRange = [-1,1])\n",
    "    pad1.cd()\n",
    "    sectorBoundary = ROOT.TLine(0,hist[0].GetMinimum(),0,hist[0].GetMaximum())\n",
    "    sectorBoundary.SetLineStyle(2)\n",
    "    sectorNum = ROOT.TText(.5,.5,\"test\")\n",
    "    sectorNum.SetTextAlign(22)\n",
    "    sectorNum.SetTextColor(ROOT.kGray+1)\n",
    "    sectorNum.SetTextFont(0)\n",
    "    for j in range(19):\n",
    "        sectorBoundary.DrawLine((j*2*math.pi)/18,-1,(j*2*math.pi)/18,1)\n",
    "        if j < 18 : sectorNum.DrawText(((j+0.5)*2*math.pi)/18,1.05,str(j))\n",
    "    canvas.SetCanvasSize(1000,400)\n",
    "    #hist[0].GetXaxis().SetRangeUser(-1,1)\n",
    "    #hist[0].GetYaxis().SetRangeUser(60,180)\n",
    "    canvas.Draw()"
   ]
  },
  {
   "cell_type": "markdown",
   "id": "c2796075",
   "metadata": {},
   "source": [
    "### Track properties"
   ]
  },
  {
   "cell_type": "markdown",
   "id": "7f8e9079",
   "metadata": {},
   "source": [
    "#### nClusters"
   ]
  },
  {
   "cell_type": "code",
   "execution_count": null,
   "id": "86b0458a",
   "metadata": {},
   "outputs": [],
   "source": [
    "%jsroot on\n",
    "objectName=\"hNClustersAfterCuts;1\"\n",
    "if checkIfExists(rootDataFile,objectName):\n",
    "    [hist,legend,canvas,pad1] = drawHistograms(objectName,rootDataFile,xAxisRange = [50,160],drawOption=\"HIST\")\n",
    "    canvas.SetCanvasSize(700,400)\n",
    "    pad1.SetGrid(1)\n",
    "    canvas.Draw()"
   ]
  },
  {
   "cell_type": "markdown",
   "id": "4a038c6d",
   "metadata": {},
   "source": [
    "#### nClusters vs eta"
   ]
  },
  {
   "cell_type": "code",
   "execution_count": null,
   "id": "24fbd02f",
   "metadata": {},
   "outputs": [],
   "source": [
    "%jsroot on\n",
    "objectName=\"h2DNClustersEta;1\"\n",
    "if checkIfExists(rootDataFile,objectName):\n",
    "    [hist,legend,canvas,pad1] = drawHistograms(objectName,rootDataFile,drawOption=\"COLZ\")#,xAxisRange = [-1,1],yAxisRange = [60,180])\n",
    "    canvas.SetCanvasSize(700,400)\n",
    "    pad1.cd()\n",
    "    prof = quantileProfile(hist,quantileOrder=0.5)[0]#.ProfileX()\n",
    "    prof.SetMarkerStyle(21)\n",
    "    prof.SetMarkerSize(0.4)\n",
    "    prof.SetMarkerColor(1)\n",
    "    prof.Draw(\"SAME\")\n",
    "    hist[0].GetXaxis().SetRangeUser(-1,1)\n",
    "    hist[0].GetYaxis().SetRangeUser(60,180)\n",
    "    canvas.Draw()"
   ]
  },
  {
   "cell_type": "markdown",
   "id": "aff501d2",
   "metadata": {},
   "source": [
    "#### nClusters vs pT"
   ]
  },
  {
   "cell_type": "code",
   "execution_count": null,
   "id": "3667e650",
   "metadata": {},
   "outputs": [],
   "source": [
    "%jsroot on\n",
    "objectName=\"h2DNClustersPt;1\"\n",
    "if checkIfExists(rootDataFile,objectName):\n",
    "    [hist,legend,canvas,pad1] = drawHistograms(objectName,rootDataFile,drawOption=\"COLZ\",log=\"logx\",yAxisRange = [60,180])\n",
    "    canvas.SetCanvasSize(700,400)\n",
    "    pad1.cd()\n",
    "    prof = quantileProfile(hist,quantileOrder=0.5)[0]#.ProfileX()\n",
    "    prof.SetMarkerStyle(21)\n",
    "    prof.SetMarkerSize(0.4)\n",
    "    prof.SetMarkerColor(1)\n",
    "    prof.Draw(\"SAME\")\n",
    "    hist[0].GetYaxis().SetRangeUser(60,180)\n",
    "    canvas.Draw()"
   ]
  },
  {
   "cell_type": "markdown",
   "id": "e008ee6f-f38e-4cad-ae63-3c0c86c8783a",
   "metadata": {},
   "source": [
    "#### nClusters vs phi (A-Side)"
   ]
  },
  {
   "cell_type": "code",
   "execution_count": null,
   "id": "80fd96a7-0859-4d3a-aa64-a017607ab6aa",
   "metadata": {},
   "outputs": [],
   "source": [
    "%jsroot on\n",
    "objectName=\"h2DNClustersPhiAside;1\"\n",
    "if checkIfExists(rootDataFile,objectName):\n",
    "    [hist,legend,canvas,pad1] = drawHistograms(objectName,rootDataFile,drawOption=\"COLZ\")#,yAxisRange = [60,180])\n",
    "    pad1.cd()\n",
    "    canvas.SetCanvasSize(1000,400)\n",
    "    sectorBoundary = ROOT.TLine(0,hist[0].GetMinimum(),0,hist[0].GetMaximum())\n",
    "    sectorBoundary.SetLineStyle(2)\n",
    "    sectorNum = ROOT.TText(.5,.5,\"test\")\n",
    "    sectorNum.SetTextAlign(22)\n",
    "    sectorNum.SetTextColor(ROOT.kGray+1)\n",
    "    sectorNum.SetTextFont(0)\n",
    "    for j in range(19):\n",
    "        sectorBoundary.DrawLine((j*2*math.pi)/18,60,(j*2*math.pi)/18,180)\n",
    "        if j < 18 : sectorNum.DrawText(((j+0.5)*2*math.pi)/18,175,str(j))\n",
    "    pad1.cd()\n",
    "    prof = quantileProfile(hist,quantileOrder=0.5)[0]#.ProfileX()\n",
    "    prof.SetMarkerStyle(21)\n",
    "    prof.SetMarkerSize(0.4)\n",
    "    prof.SetMarkerColor(1)\n",
    "    prof.Draw(\"SAME\")\n",
    "    #hist[0].GetXaxis().SetRangeUser(-1,1)\n",
    "    hist[0].GetYaxis().SetRangeUser(60,180)\n",
    "    canvas.Draw()"
   ]
  },
  {
   "cell_type": "markdown",
   "id": "9b9af083-f18d-439e-be65-6001919b841b",
   "metadata": {},
   "source": [
    "#### nClusters vs phi (C-Side)"
   ]
  },
  {
   "cell_type": "code",
   "execution_count": null,
   "id": "6d697ccb-8a37-4b7f-bacb-6996ad8f981b",
   "metadata": {},
   "outputs": [],
   "source": [
    "%jsroot on\n",
    "objectName=\"h2DNClustersPhiCside;1\"\n",
    "if checkIfExists(rootDataFile,objectName):\n",
    "    [hist,legend,canvas,pad1] = drawHistograms(objectName,rootDataFile,drawOption=\"COLZ\")#,yAxisRange = [60,180])\n",
    "    pad1.cd()\n",
    "    canvas.SetCanvasSize(1000,400)\n",
    "    sectorBoundary = ROOT.TLine(0,hist[0].GetMinimum(),0,hist[0].GetMaximum())\n",
    "    sectorBoundary.SetLineStyle(2)\n",
    "    sectorNum = ROOT.TText(.5,.5,\"test\")\n",
    "    sectorNum.SetTextAlign(22)\n",
    "    sectorNum.SetTextColor(ROOT.kGray+1)\n",
    "    sectorNum.SetTextFont(0)\n",
    "    for j in range(19):\n",
    "        sectorBoundary.DrawLine((j*2*math.pi)/18,60,(j*2*math.pi)/18,180)\n",
    "        if j < 18 : sectorNum.DrawText(((j+0.5)*2*math.pi)/18,175,str(j))\n",
    "    pad1.cd()\n",
    "    prof = quantileProfile(hist,quantileOrder=0.5)[0]#.ProfileX()\n",
    "    prof.SetMarkerStyle(21)\n",
    "    prof.SetMarkerSize(0.4)\n",
    "    prof.SetMarkerColor(1)\n",
    "    prof.Draw(\"SAME\")\n",
    "    #hist[0].GetXaxis().SetRangeUser(-1,1)\n",
    "    hist[0].GetYaxis().SetRangeUser(60,180)\n",
    "    canvas.Draw()"
   ]
  },
  {
   "cell_type": "markdown",
   "id": "af18a446",
   "metadata": {},
   "source": [
    "#### pT"
   ]
  },
  {
   "cell_type": "code",
   "execution_count": null,
   "id": "7200055a",
   "metadata": {},
   "outputs": [],
   "source": [
    "%jsroot on\n",
    "objectName=\"hPt;1\"\n",
    "if checkIfExists(rootDataFile,objectName):\n",
    "    [hist,legend,canvas,pad1] = drawHistograms(objectName,rootDataFile,log=\"logxy\",drawOption=\"HIST\")\n",
    "    canvas.SetCanvasSize(700,400)\n",
    "    pad1.SetGrid(1)\n",
    "    canvas.Draw()"
   ]
  },
  {
   "cell_type": "markdown",
   "id": "ea8494a7",
   "metadata": {},
   "source": [
    "#### Q/pT"
   ]
  },
  {
   "cell_type": "code",
   "execution_count": null,
   "id": "54be6298",
   "metadata": {},
   "outputs": [],
   "source": [
    "%jsroot on\n",
    "objectName=\"hQOverPt;1\"\n",
    "if checkIfExists(rootDataFile,objectName):\n",
    "    [hist,legend,canvas,pad1] = drawHistograms(objectName,rootDataFile,drawOption=\"HIST\")\n",
    "    canvas.SetCanvasSize(700,400)\n",
    "    pad1.SetGrid(1)\n",
    "    canvas.Draw()"
   ]
  },
  {
   "cell_type": "markdown",
   "id": "160ee70b",
   "metadata": {},
   "source": [
    "#### Sign"
   ]
  },
  {
   "cell_type": "code",
   "execution_count": null,
   "id": "f46a8d9c",
   "metadata": {},
   "outputs": [],
   "source": [
    "%jsroot on\n",
    "objectName=\"hSign;1\"\n",
    "if checkIfExists(rootDataFile,objectName):\n",
    "    [hist,legend,canvas,pad1] = drawHistograms(objectName,rootDataFile,drawOption=\"HIST\")\n",
    "    canvas.SetCanvasSize(700,400)\n",
    "    pad1.SetGridy(1)\n",
    "    canvas.Draw()"
   ]
  },
  {
   "cell_type": "markdown",
   "id": "ea514d2a-7530-4ce8-9c83-b14fb036ac74",
   "metadata": {},
   "source": [
    "### DCAr vs phi"
   ]
  },
  {
   "cell_type": "code",
   "execution_count": null,
   "id": "c3a0c627-1f54-4335-86a9-f55182a81d2d",
   "metadata": {},
   "outputs": [],
   "source": [
    "%jsroot on\n",
    "objectName=\"hDCAr_A_Pos\"\n",
    "if checkIfExists(rootDataFile,objectName):\n",
    "    [hist,legend,canvas,pad1] = drawHistograms(objectName,rootDataFile,drawOption=\"COLZ\",yAxisRange = [-5,5])\n",
    "    #[fits,legend2,canvas2] = sliceAndFit(objectName,rootDataFile)\n",
    "    pad1.cd()\n",
    "    sectorBoundary = ROOT.TLine(0,hist[0].GetMinimum(),0,hist[0].GetMaximum())\n",
    "    sectorBoundary.SetLineStyle(2)\n",
    "    sectorNum = ROOT.TText(.5,.5,\"test\")\n",
    "    sectorNum.SetTextAlign(22)\n",
    "    sectorNum.SetTextColor(ROOT.kGray+1)\n",
    "    sectorNum.SetTextFont(0)\n",
    "    for j in range(19):\n",
    "        sectorBoundary.DrawLine((j*2*math.pi)/18,-5,(j*2*math.pi)/18,5)\n",
    "        if j < 18 : sectorNum.DrawText(((j+0.5)*2*math.pi)/18,4.5,str(j))\n",
    "    targets = [ROOT.TLine(hist[0].GetXaxis().GetXmin(),val,hist[0].GetXaxis().GetXmax(),val) for val in [-0.2,0,0.2]]\n",
    "    for i,target in enumerate(targets):\n",
    "        target.SetLineStyle(1)\n",
    "        target.SetLineWidth(1)\n",
    "        if i == 1:\n",
    "            target.SetLineColor(1)\n",
    "        else: \n",
    "            target.SetLineColor(2)\n",
    "        target.Draw()\n",
    "    canvas.SetCanvasSize(1000,400)\n",
    "    leg = ROOT.TLegend()\n",
    "    hist[0].FitSlicesY()\n",
    "    fitMean = copy(ROOT.gDirectory.Get(hist[0].GetName()+\"_1\"))\n",
    "    fitRMS = copy(ROOT.gDirectory.Get(hist[0].GetName()+\"_2\"))\n",
    "    fitMean.SetMarkerStyle(21)\n",
    "    fitMean.SetMarkerSize(0.4)\n",
    "    fitMean.SetMarkerColor(1)\n",
    "    fitMean.Draw(\"SAME\")\n",
    "    fitRMS.SetMarkerStyle(25)\n",
    "    fitRMS.SetMarkerSize(0.4)\n",
    "    fitRMS.SetMarkerColor(2)\n",
    "    fitRMS.Draw(\"SAME\")\n",
    "    leg.AddEntry(fitMean,\"Mean\")\n",
    "    leg.AddEntry(fitRMS,\"RMS\")\n",
    "    leg.Draw()\n",
    "    canvas.Draw()"
   ]
  },
  {
   "cell_type": "code",
   "execution_count": null,
   "id": "4548d452-a423-4035-99b4-77440d2e016b",
   "metadata": {},
   "outputs": [],
   "source": [
    "%jsroot on\n",
    "objectName=\"hDCAr_A_Neg\"\n",
    "if checkIfExists(rootDataFile,objectName):\n",
    "    [hist,legend,canvas,pad1] = drawHistograms(objectName,rootDataFile,drawOption=\"COLZ\",yAxisRange = [-5,5])\n",
    "    #[fits,legend2,canvas2] = sliceAndFit(objectName,rootDataFile)\n",
    "    pad1.cd()\n",
    "    sectorBoundary = ROOT.TLine(0,hist[0].GetMinimum(),0,hist[0].GetMaximum())\n",
    "    sectorBoundary.SetLineStyle(2)\n",
    "    sectorNum = ROOT.TText(.5,.5,\"test\")\n",
    "    sectorNum.SetTextAlign(22)\n",
    "    sectorNum.SetTextColor(ROOT.kGray+1)\n",
    "    sectorNum.SetTextFont(0)\n",
    "    for j in range(19):\n",
    "        sectorBoundary.DrawLine((j*2*math.pi)/18,-5,(j*2*math.pi)/18,5)\n",
    "        if j < 18 : sectorNum.DrawText(((j+0.5)*2*math.pi)/18,4.5,str(j))\n",
    "    targets = [ROOT.TLine(hist[0].GetXaxis().GetXmin(),val,hist[0].GetXaxis().GetXmax(),val) for val in [-0.2,0,0.2]]\n",
    "    for i,target in enumerate(targets):\n",
    "        target.SetLineStyle(1)\n",
    "        target.SetLineWidth(1)\n",
    "        if i == 1:\n",
    "            target.SetLineColor(1)\n",
    "        else: \n",
    "            target.SetLineColor(2)\n",
    "        target.Draw()\n",
    "    canvas.SetCanvasSize(1000,400)\n",
    "    leg = ROOT.TLegend()\n",
    "    hist[0].FitSlicesY()\n",
    "    fitMean = copy(ROOT.gDirectory.Get(hist[0].GetName()+\"_1\"))\n",
    "    fitRMS = copy(ROOT.gDirectory.Get(hist[0].GetName()+\"_2\"))\n",
    "    fitMean.SetMarkerStyle(21)\n",
    "    fitMean.SetMarkerSize(0.4)\n",
    "    fitMean.SetMarkerColor(1)\n",
    "    fitMean.Draw(\"SAME\")\n",
    "    fitRMS.SetMarkerStyle(25)\n",
    "    fitRMS.SetMarkerSize(0.4)\n",
    "    fitRMS.SetMarkerColor(2)\n",
    "    fitRMS.Draw(\"SAME\")\n",
    "    leg.AddEntry(fitMean,\"Mean\")\n",
    "    leg.AddEntry(fitRMS,\"RMS\")\n",
    "    leg.Draw()\n",
    "    canvas.Draw()"
   ]
  },
  {
   "cell_type": "code",
   "execution_count": null,
   "id": "c5a78048-b892-446d-8a40-25a63b404c42",
   "metadata": {},
   "outputs": [],
   "source": [
    "%jsroot on\n",
    "objectName=\"hDCAr_C_Pos\"\n",
    "if checkIfExists(rootDataFile,objectName):\n",
    "    [hist,legend,canvas,pad1] = drawHistograms(objectName,rootDataFile,drawOption=\"COLZ\",yAxisRange = [-5,5])\n",
    "    #[fits,legend2,canvas2] = sliceAndFit(objectName,rootDataFile)\n",
    "    pad1.cd()\n",
    "    sectorBoundary = ROOT.TLine(0,hist[0].GetMinimum(),0,hist[0].GetMaximum())\n",
    "    sectorBoundary.SetLineStyle(2)\n",
    "    sectorNum = ROOT.TText(.5,.5,\"test\")\n",
    "    sectorNum.SetTextAlign(22)\n",
    "    sectorNum.SetTextColor(ROOT.kGray+1)\n",
    "    sectorNum.SetTextFont(0)\n",
    "    for j in range(19):\n",
    "        sectorBoundary.DrawLine((j*2*math.pi)/18,-5,(j*2*math.pi)/18,5)\n",
    "        if j < 18 : sectorNum.DrawText(((j+0.5)*2*math.pi)/18,4.5,str(j))\n",
    "    targets = [ROOT.TLine(hist[0].GetXaxis().GetXmin(),val,hist[0].GetXaxis().GetXmax(),val) for val in [-0.2,0,0.2]]\n",
    "    for i,target in enumerate(targets):\n",
    "        target.SetLineStyle(1)\n",
    "        target.SetLineWidth(1)\n",
    "        if i == 1:\n",
    "            target.SetLineColor(1)\n",
    "        else: \n",
    "            target.SetLineColor(2)\n",
    "        target.Draw()\n",
    "    canvas.SetCanvasSize(1000,400)\n",
    "    leg = ROOT.TLegend()\n",
    "    hist[0].FitSlicesY()\n",
    "    fitMean = copy(ROOT.gDirectory.Get(hist[0].GetName()+\"_1\"))\n",
    "    fitRMS = copy(ROOT.gDirectory.Get(hist[0].GetName()+\"_2\"))\n",
    "    fitMean.SetMarkerStyle(21)\n",
    "    fitMean.SetMarkerSize(0.4)\n",
    "    fitMean.SetMarkerColor(1)\n",
    "    fitMean.Draw(\"SAME\")\n",
    "    fitRMS.SetMarkerStyle(25)\n",
    "    fitRMS.SetMarkerSize(0.4)\n",
    "    fitRMS.SetMarkerColor(2)\n",
    "    fitRMS.Draw(\"SAME\")\n",
    "    leg.AddEntry(fitMean,\"Mean\")\n",
    "    leg.AddEntry(fitRMS,\"RMS\")\n",
    "    leg.Draw()\n",
    "    canvas.Draw()"
   ]
  },
  {
   "cell_type": "code",
   "execution_count": null,
   "id": "111313e4-d054-4856-97c6-63df99ffe65c",
   "metadata": {},
   "outputs": [],
   "source": [
    "%jsroot on\n",
    "objectName=\"hDCAr_C_Neg\"\n",
    "if checkIfExists(rootDataFile,objectName):\n",
    "    [hist,legend,canvas,pad1] = drawHistograms(objectName,rootDataFile,drawOption=\"COLZ\",yAxisRange = [-5,5])\n",
    "    #[fits,legend2,canvas2] = sliceAndFit(objectName,rootDataFile)\n",
    "    pad1.cd()\n",
    "    sectorBoundary = ROOT.TLine(0,hist[0].GetMinimum(),0,hist[0].GetMaximum())\n",
    "    sectorBoundary.SetLineStyle(2)\n",
    "    sectorNum = ROOT.TText(.5,.5,\"test\")\n",
    "    sectorNum.SetTextAlign(22)\n",
    "    sectorNum.SetTextColor(ROOT.kGray+1)\n",
    "    sectorNum.SetTextFont(0)\n",
    "    for j in range(19):\n",
    "        sectorBoundary.DrawLine((j*2*math.pi)/18,-5,(j*2*math.pi)/18,5)\n",
    "        if j < 18 : sectorNum.DrawText(((j+0.5)*2*math.pi)/18,4.5,str(j))\n",
    "    targets = [ROOT.TLine(hist[0].GetXaxis().GetXmin(),val,hist[0].GetXaxis().GetXmax(),val) for val in [-0.2,0,0.2]]\n",
    "    for i,target in enumerate(targets):\n",
    "        target.SetLineStyle(1)\n",
    "        target.SetLineWidth(1)\n",
    "        if i == 1:\n",
    "            target.SetLineColor(1)\n",
    "        else: \n",
    "            target.SetLineColor(2)\n",
    "        target.Draw()\n",
    "    canvas.SetCanvasSize(1000,400)\n",
    "    leg = ROOT.TLegend()\n",
    "    hist[0].FitSlicesY()\n",
    "    fitMean = copy(ROOT.gDirectory.Get(hist[0].GetName()+\"_1\"))\n",
    "    fitRMS = copy(ROOT.gDirectory.Get(hist[0].GetName()+\"_2\"))\n",
    "    fitMean.SetMarkerStyle(21)\n",
    "    fitMean.SetMarkerSize(0.4)\n",
    "    fitMean.SetMarkerColor(1)\n",
    "    fitMean.Draw(\"SAME\")\n",
    "    fitRMS.SetMarkerStyle(25)\n",
    "    fitRMS.SetMarkerSize(0.4)\n",
    "    fitRMS.SetMarkerColor(2)\n",
    "    fitRMS.Draw(\"SAME\")\n",
    "    leg.AddEntry(fitMean,\"Mean\")\n",
    "    leg.AddEntry(fitRMS,\"RMS\")\n",
    "    leg.Draw()\n",
    "    canvas.Draw()"
   ]
  },
  {
   "cell_type": "markdown",
   "id": "b765236c",
   "metadata": {},
   "source": [
    "### Energy Loss"
   ]
  },
  {
   "cell_type": "markdown",
   "id": "58c470cf",
   "metadata": {},
   "source": [
    "#### dEdxTot for MIPs"
   ]
  },
  {
   "cell_type": "code",
   "execution_count": null,
   "id": "dc93b08f-9e29-4afd-ae14-e94f17b64bc4",
   "metadata": {},
   "outputs": [],
   "source": [
    "%jsroot on\n",
    "\n",
    "objects = [\"hdEdxTotMIP_\" + region for region in [\"TPC\",\"IROC\",\"OROC1\",\"OROC2\",\"OROC3\"]]\n",
    "if all([checkIfExists(rootDataFile,objectName) for objectName in objects]):\n",
    "    hists = []\n",
    "    for objectName in objects:\n",
    "        quality = checkHistograms(objectName,rootDataFile,check=\"(histogram.Fit(\\\"gaus\\\",\\\"Sq\\\",\\\"\\\",40,60)) and 48<histogram.GetFunction(\\\"gaus\\\").GetParameter(1)<52\",printQuality=False)\n",
    "        [hist,legend,canvas,pad1] = drawHistograms(objectName,rootDataFile,check=quality)\n",
    "        hists.append(copy(hist[0]))\n",
    "    c = ROOT.TCanvas(\"MIP\",\"MIP\",1100,600)\n",
    "    c.Divide(2)\n",
    "    leftPad = c.cd(1)\n",
    "    hists[0].Draw()\n",
    "    leftPad.SetGrid(1)\n",
    "    hists[0].SetStats(0)\n",
    "    #Draw target 50\n",
    "    targets = [ROOT.TLine(50,hist.GetMinimum(),50,hist.GetMaximum()) for hist in hists]\n",
    "    # Draw fit stats\n",
    "    fitMeans = [ROOT.TText(110,hist.GetMaximum()*0.7,\"MIP mean = \"+f'{hist.GetFunction(\"gaus\").GetParameter(1):.3f}') for hist in hists]\n",
    "    fitSigmas = [ROOT.TText(110,hist.GetMaximum()*0.62,\"MIP sigma = \"+f'{hist.GetFunction(\"gaus\").GetParameter(2):.3f}') for hist in hists]\n",
    "    for i in range(len(objects)):\n",
    "        targets[i].SetLineStyle(2)\n",
    "        targets[i].SetLineColor(3)\n",
    "        targets[i].SetLineWidth(3)\n",
    "        fitMeans[i].SetTextAlign(22)\n",
    "        fitMeans[i].SetTextFont(43)\n",
    "        fitSigmas[i].SetTextAlign(22)\n",
    "        fitSigmas[i].SetTextFont(43)\n",
    "    targets[0].Draw()\n",
    "    fitMeans[0].Draw()\n",
    "    fitSigmas[0].Draw()\n",
    "    rightPad = c.cd(2)\n",
    "    rightPad.Divide(2,2)\n",
    "    for i in range(1,5):\n",
    "        rightPad.cd(i)\n",
    "        ROOT.gPad.SetGrid(1)\n",
    "        hists[i].Draw()\n",
    "        targets[i].Draw()\n",
    "        hists[i].SetStats(0)\n",
    "        fitMeans[i].Draw()\n",
    "        fitSigmas[i].Draw()\n",
    "    c.Draw()"
   ]
  },
  {
   "cell_type": "markdown",
   "id": "42c58ba7",
   "metadata": {},
   "source": [
    "#### dEdxTotMip vs sector (phi)"
   ]
  },
  {
   "cell_type": "code",
   "execution_count": null,
   "id": "ab6a5eea-06bc-4c5a-923f-97c59506ac9f",
   "metadata": {},
   "outputs": [],
   "source": [
    "%jsroot on\n",
    "\n",
    "objects = [\"hdEdxTotMIPVsSec_\" + region for region in [\"TPC\",\"IROC\",\"OROC1\",\"OROC2\",\"OROC3\"]]\n",
    "if all([checkIfExists(rootDataFile,objectName) for objectName in objects]):\n",
    "    hists = []\n",
    "    fits = []\n",
    "    for objectName in objects:\n",
    "        [hist,legend,canvas,pad1] = drawHistograms(objectName,rootDataFile,drawOption=\"COLZ\",yAxisRange=[30,70])\n",
    "        hist[0].FitSlicesY(ROOT.TF1(\"myFunc\",\"gaus\",40,60))\n",
    "        hists.append(copy(hist[0]))\n",
    "        fits.append(copy(ROOT.gDirectory.Get(hist[0].GetName()+\"_1\")))\n",
    "    c = ROOT.TCanvas(\"MIP\",\"MIP\",1100,600)\n",
    "    c.Divide(2)\n",
    "    target = ROOT.TLine(hist[0].GetXaxis().GetXmin(),50,hist[0].GetXaxis().GetXmax(),50)\n",
    "    target.SetLineStyle(2)\n",
    "    target.SetLineWidth(2)\n",
    "    # TPC\n",
    "    leftPad = c.cd(1)\n",
    "    hists[0].Draw()\n",
    "    target.Draw()\n",
    "    hists[0].SetStats(0)\n",
    "    hists[0].FitSlicesY(ROOT.TF1(\"myFunc\",\"gaus\",40,60))\n",
    "    fits[0].SetMarkerStyle(21)\n",
    "    fits[0].SetMarkerSize(0.4)\n",
    "    fits[0].SetMarkerColor(1)\n",
    "    fits[0].Draw(\"SAME\")\n",
    "    # ROCs\n",
    "    rightPad = c.cd(2)\n",
    "    rightPad.Divide(2,2)\n",
    "    for i in range(1,5):\n",
    "        rightPad.cd(i)\n",
    "        hists[i].Draw()\n",
    "        target.Draw()\n",
    "        hists[i].SetStats(0)\n",
    "        fits[i].SetMarkerStyle(21)\n",
    "        fits[i].SetMarkerSize(0.4)\n",
    "        fits[i].SetMarkerColor(1)\n",
    "        fits[i].Draw(\"SAME\")\n",
    "    c.Draw()"
   ]
  },
  {
   "cell_type": "markdown",
   "id": "26b91a7a",
   "metadata": {},
   "source": [
    "#### dEdxTotMip vs nClusters"
   ]
  },
  {
   "cell_type": "code",
   "execution_count": null,
   "id": "9ac8ef7c",
   "metadata": {},
   "outputs": [],
   "source": [
    "%jsroot on\n",
    "objects = [\"hdEdxTotMIPVsNcl_\" + region for region in [\"TPC\",\"IROC\",\"OROC1\",\"OROC2\",\"OROC3\"]]\n",
    "if all([checkIfExists(rootDataFile,objectName) for objectName in objects]):\n",
    "    hists = []\n",
    "    fits = []\n",
    "    ranges = [[60,152],[55,63],[14,34],[12,30],[10,25]]\n",
    "    for i,objectName in enumerate(objects):\n",
    "        [hist,legend,canvas,pad1] = drawHistograms(objectName,rootDataFile,drawOption=\"COLZ\",xAxisRange=ranges[i],yAxisRange=[30,70])\n",
    "        hist[0].FitSlicesY(ROOT.TF1(\"myFunc\",\"gaus\",40,60))\n",
    "        hists.append(copy(hist[0]))\n",
    "        fits.append(copy(ROOT.gDirectory.Get(hist[0].GetName()+\"_1\")))\n",
    "    c = ROOT.TCanvas(\"MIP\",\"MIP\",1100,600)\n",
    "    c.Divide(2)\n",
    "    targets = [ROOT.TLine(range[0],50,range[1],50) for range in ranges]\n",
    "    for target in targets:\n",
    "        target.SetLineStyle(2)\n",
    "        target.SetLineWidth(2)\n",
    "    # TPC\n",
    "    leftPad = c.cd(1)\n",
    "    hists[0].Draw()\n",
    "    targets[0].Draw()\n",
    "    hists[0].SetStats(0)\n",
    "    hists[0].FitSlicesY(ROOT.TF1(\"myFunc\",\"gaus\",40,60))\n",
    "    fits[0].SetMarkerStyle(21)\n",
    "    fits[0].SetMarkerSize(0.4)\n",
    "    fits[0].SetMarkerColor(1)\n",
    "    fits[0].Draw(\"SAME\")\n",
    "    # ROCs\n",
    "    rightPad = c.cd(2)\n",
    "    rightPad.Divide(2,2)\n",
    "    for i in range(1,5):\n",
    "        rightPad.cd(i)\n",
    "        hists[i].Draw()\n",
    "        targets[i].Draw()\n",
    "        hists[i].SetStats(0)\n",
    "        fits[i].SetMarkerStyle(21)\n",
    "        fits[i].SetMarkerSize(0.4)\n",
    "        fits[i].SetMarkerColor(1)\n",
    "        fits[i].Draw(\"SAME\")\n",
    "    c.Draw()"
   ]
  },
  {
   "cell_type": "markdown",
   "id": "ebd96556",
   "metadata": {},
   "source": [
    "#### dEdxTotMip vs tan(lambda)"
   ]
  },
  {
   "cell_type": "code",
   "execution_count": null,
   "id": "75aec250-0eee-4ce9-8366-484f9834a5cf",
   "metadata": {},
   "outputs": [],
   "source": [
    "%jsroot on\n",
    "objects = [\"hdEdxTotMIPVsTgl_\" + region for region in [\"TPC\",\"IROC\",\"OROC1\",\"OROC2\",\"OROC3\"]]\n",
    "if all([checkIfExists(rootDataFile,objectName) for objectName in objects]):\n",
    "    hists = []\n",
    "    fits = []\n",
    "    ranges = [[-2,2]]*5\n",
    "    for i,objectName in enumerate(objects):\n",
    "        [hist,legend,canvas,pad1] = drawHistograms(objectName,rootDataFile,drawOption=\"COLZ\",xAxisRange=ranges[i],yAxisRange=[30,70])\n",
    "        hist[0].FitSlicesY(ROOT.TF1(\"myFunc\",\"gaus\",40,60))\n",
    "        hists.append(copy(hist[0]))\n",
    "        fits.append(copy(ROOT.gDirectory.Get(hist[0].GetName()+\"_1\")))\n",
    "    c = ROOT.TCanvas(\"MIP\",\"MIP\",1100,600)\n",
    "    c.Divide(2)\n",
    "    targets = [ROOT.TLine(range[0],50,range[1],50) for range in ranges]\n",
    "    for target in targets:\n",
    "        target.SetLineStyle(2)\n",
    "        target.SetLineWidth(2)\n",
    "    # TPC\n",
    "    leftPad = c.cd(1)\n",
    "    hists[0].Draw()\n",
    "    targets[0].Draw()\n",
    "    hists[0].SetStats(0)\n",
    "    hists[0].FitSlicesY(ROOT.TF1(\"myFunc\",\"gaus\",40,60))\n",
    "    fits[0].SetMarkerStyle(21)\n",
    "    fits[0].SetMarkerSize(0.4)\n",
    "    fits[0].SetMarkerColor(1)\n",
    "    fits[0].Draw(\"SAME\")\n",
    "    # ROCs\n",
    "    rightPad = c.cd(2)\n",
    "    rightPad.Divide(2,2)\n",
    "    for i in range(1,5):\n",
    "        rightPad.cd(i)\n",
    "        hists[i].Draw()\n",
    "        targets[i].Draw()\n",
    "        hists[i].SetStats(0)\n",
    "        fits[i].SetMarkerStyle(21)\n",
    "        fits[i].SetMarkerSize(0.4)\n",
    "        fits[i].SetMarkerColor(1)\n",
    "        fits[i].Draw(\"SAME\")\n",
    "    c.Draw()"
   ]
  },
  {
   "cell_type": "markdown",
   "id": "b728a4a1",
   "metadata": {},
   "source": [
    "#### dEdxTotMip vs sin(phi)"
   ]
  },
  {
   "cell_type": "code",
   "execution_count": null,
   "id": "c036ec86-b3c1-44c8-bae1-271cfdd8bd93",
   "metadata": {},
   "outputs": [],
   "source": [
    "%jsroot on\n",
    "objects = [\"hdEdxTotMIPVsSnp_\" + region for region in [\"TPC\",\"IROC\",\"OROC1\",\"OROC2\",\"OROC3\"]]\n",
    "if all([checkIfExists(rootDataFile,objectName) for objectName in objects]):\n",
    "    hists = []\n",
    "    fits = []\n",
    "    ranges = [[-.5,.5]]*5\n",
    "    for i,objectName in enumerate(objects):\n",
    "        [hist,legend,canvas,pad1] = drawHistograms(objectName,rootDataFile,drawOption=\"COLZ\",xAxisRange=ranges[i],yAxisRange=[30,70])\n",
    "        hist[0].FitSlicesY(ROOT.TF1(\"myFunc\",\"gaus\",40,60))\n",
    "        hists.append(copy(hist[0]))\n",
    "        fits.append(copy(ROOT.gDirectory.Get(hist[0].GetName()+\"_1\")))\n",
    "    c = ROOT.TCanvas(\"MIP\",\"MIP\",1100,600)\n",
    "    c.Divide(2)\n",
    "    targets = [ROOT.TLine(range[0],50,range[1],50) for range in ranges]\n",
    "    for target in targets:\n",
    "        target.SetLineStyle(2)\n",
    "        target.SetLineWidth(2)\n",
    "    # TPC\n",
    "    leftPad = c.cd(1)\n",
    "    hists[0].Draw()\n",
    "    targets[0].Draw()\n",
    "    hists[0].SetStats(0)\n",
    "    hists[0].FitSlicesY(ROOT.TF1(\"myFunc\",\"gaus\",40,60))\n",
    "    fits[0].SetMarkerStyle(21)\n",
    "    fits[0].SetMarkerSize(0.4)\n",
    "    fits[0].SetMarkerColor(1)\n",
    "    fits[0].Draw(\"SAME\")\n",
    "    # ROCs\n",
    "    rightPad = c.cd(2)\n",
    "    rightPad.Divide(2,2)\n",
    "    for i in range(1,5):\n",
    "        rightPad.cd(i)\n",
    "        hists[i].Draw()\n",
    "        targets[i].Draw()\n",
    "        hists[i].SetStats(0)\n",
    "        fits[i].SetMarkerStyle(21)\n",
    "        fits[i].SetMarkerSize(0.4)\n",
    "        fits[i].SetMarkerColor(1)\n",
    "        fits[i].Draw(\"SAME\")\n",
    "    c.Draw()"
   ]
  },
  {
   "cell_type": "markdown",
   "id": "bbbe675d",
   "metadata": {},
   "source": [
    "#### dEdxTot vs p"
   ]
  },
  {
   "cell_type": "code",
   "execution_count": null,
   "id": "0683246c-8e4d-4736-8720-99beb5a1c773",
   "metadata": {},
   "outputs": [],
   "source": [
    "%jsroot on\n",
    "objects = [\"hdEdxTotVsP_\" + region for region in [\"TPC\",\"IROC\",\"OROC1\",\"OROC2\",\"OROC3\"]]\n",
    "if all([checkIfExists(rootDataFile,objectName) for objectName in objects]):\n",
    "    hists = []\n",
    "    for i,objectName in enumerate(objects):\n",
    "        [hist,legend,canvas,pad1] = drawHistograms(objectName,rootDataFile,drawOption=\"COLZ\",log=\"logxyz\")\n",
    "        hists.append(copy(hist[0]))\n",
    "    c = ROOT.TCanvas(\"MIP\",\"MIP\",1100,600)\n",
    "    c.Divide(2)\n",
    "    # TPC\n",
    "    leftPad = c.cd(1)\n",
    "    hists[0].Draw()\n",
    "    hists[0].SetStats(0)\n",
    "    ROOT.gPad.SetLogx(1)\n",
    "    ROOT.gPad.SetLogy(1)\n",
    "    ROOT.gPad.SetLogz(1)\n",
    "    # ROCs\n",
    "    rightPad = c.cd(2)\n",
    "    rightPad.Divide(2,2)\n",
    "    for i in range(1,5):\n",
    "        rightPad.cd(i)\n",
    "        hists[i].Draw()\n",
    "        hists[i].SetStats(0)\n",
    "        ROOT.gPad.SetLogx(1)\n",
    "        ROOT.gPad.SetLogy(1)\n",
    "        ROOT.gPad.SetLogz(1)\n",
    "    c.Draw()"
   ]
  },
  {
   "cell_type": "markdown",
   "id": "df7759ae",
   "metadata": {},
   "source": [
    "#### dEdxMax for MIPs"
   ]
  },
  {
   "cell_type": "code",
   "execution_count": null,
   "id": "cf9d1c4d",
   "metadata": {},
   "outputs": [],
   "source": [
    "%jsroot on\n",
    "\n",
    "objects = [\"hdEdxMaxMIP_\" + region for region in [\"TPC\",\"IROC\",\"OROC1\",\"OROC2\",\"OROC3\"]]\n",
    "if all([checkIfExists(rootDataFile,objectName) for objectName in objects]):\n",
    "    hists = []\n",
    "    for objectName in objects:\n",
    "        quality = checkHistograms(objectName,rootDataFile,check=\"(histogram.Fit(\\\"gaus\\\",\\\"Sq\\\",\\\"\\\",40,60)) and 48<histogram.GetFunction(\\\"gaus\\\").GetParameter(1)<52\",printQuality=False)\n",
    "        [hist,legend,canvas,pad1] = drawHistograms(objectName,rootDataFile,check=quality)\n",
    "        hists.append(copy(hist[0]))\n",
    "    c = ROOT.TCanvas(\"MIP\",\"MIP\",1100,600)\n",
    "    c.Divide(2)\n",
    "    leftPad = c.cd(1)\n",
    "    hists[0].Draw()\n",
    "    leftPad.SetGrid(1)\n",
    "    hists[0].SetStats(0)\n",
    "    #Draw target 50\n",
    "    targets = [ROOT.TLine(50,hist.GetMinimum(),50,hist.GetMaximum()) for hist in hists]\n",
    "    # Draw fit stats\n",
    "    fitMeans = [ROOT.TText(110,hist.GetMaximum()*0.7,\"MIP mean = \"+f'{hist.GetFunction(\"gaus\").GetParameter(1):.3f}') for hist in hists]\n",
    "    fitSigmas = [ROOT.TText(110,hist.GetMaximum()*0.62,\"MIP sigma = \"+f'{hist.GetFunction(\"gaus\").GetParameter(2):.3f}') for hist in hists]\n",
    "    for i in range(len(objects)):\n",
    "        targets[i].SetLineStyle(2)\n",
    "        targets[i].SetLineColor(3)\n",
    "        targets[i].SetLineWidth(3)\n",
    "        fitMeans[i].SetTextAlign(22)\n",
    "        fitMeans[i].SetTextFont(43)\n",
    "        fitSigmas[i].SetTextAlign(22)\n",
    "        fitSigmas[i].SetTextFont(43)\n",
    "    targets[0].Draw()\n",
    "    fitMeans[0].Draw()\n",
    "    fitSigmas[0].Draw()\n",
    "    rightPad = c.cd(2)\n",
    "    rightPad.Divide(2,2)\n",
    "    for i in range(1,5):\n",
    "        rightPad.cd(i)\n",
    "        ROOT.gPad.SetGrid(1)\n",
    "        hists[i].Draw()\n",
    "        targets[i].Draw()\n",
    "        hists[i].SetStats(0)\n",
    "        fitMeans[i].Draw()\n",
    "        fitSigmas[i].Draw()\n",
    "    c.Draw()"
   ]
  },
  {
   "cell_type": "markdown",
   "id": "000103ce",
   "metadata": {},
   "source": [
    "#### dEdxMaxMip vs sector (phi)"
   ]
  },
  {
   "cell_type": "code",
   "execution_count": null,
   "id": "8d03f8dc",
   "metadata": {},
   "outputs": [],
   "source": [
    "%jsroot on\n",
    "objects = [\"hdEdxMaxMIPVsSec_\" + region for region in [\"TPC\",\"IROC\",\"OROC1\",\"OROC2\",\"OROC3\"]]\n",
    "if all([checkIfExists(rootDataFile,objectName) for objectName in objects]):\n",
    "    hists = []\n",
    "    fits = []\n",
    "    for objectName in objects:\n",
    "        [hist,legend,canvas,pad1] = drawHistograms(objectName,rootDataFile,drawOption=\"COLZ\",yAxisRange=[30,70])\n",
    "        hist[0].FitSlicesY(ROOT.TF1(\"myFunc\",\"gaus\",40,60))\n",
    "        hists.append(copy(hist[0]))\n",
    "        fits.append(copy(ROOT.gDirectory.Get(hist[0].GetName()+\"_1\")))\n",
    "    c = ROOT.TCanvas(\"MIP\",\"MIP\",1100,600)\n",
    "    c.Divide(2)\n",
    "    target = ROOT.TLine(hist[0].GetXaxis().GetXmin(),50,hist[0].GetXaxis().GetXmax(),50)\n",
    "    target.SetLineStyle(2)\n",
    "    target.SetLineWidth(2)\n",
    "    # TPC\n",
    "    leftPad = c.cd(1)\n",
    "    hists[0].Draw()\n",
    "    target.Draw()\n",
    "    hists[0].SetStats(0)\n",
    "    hists[0].FitSlicesY(ROOT.TF1(\"myFunc\",\"gaus\",40,60))\n",
    "    fits[0].SetMarkerStyle(21)\n",
    "    fits[0].SetMarkerSize(0.4)\n",
    "    fits[0].SetMarkerColor(1)\n",
    "    fits[0].Draw(\"SAME\")\n",
    "    # ROCs\n",
    "    rightPad = c.cd(2)\n",
    "    rightPad.Divide(2,2)\n",
    "    for i in range(1,5):\n",
    "        rightPad.cd(i)\n",
    "        hists[i].Draw()\n",
    "        target.Draw()\n",
    "        hists[i].SetStats(0)\n",
    "        fits[i].SetMarkerStyle(21)\n",
    "        fits[i].SetMarkerSize(0.4)\n",
    "        fits[i].SetMarkerColor(1)\n",
    "        fits[i].Draw(\"SAME\")\n",
    "    c.Draw()"
   ]
  },
  {
   "cell_type": "markdown",
   "id": "4ba0e978",
   "metadata": {},
   "source": [
    "#### dEdxMaxMip vs nClusters"
   ]
  },
  {
   "cell_type": "code",
   "execution_count": null,
   "id": "821458b9",
   "metadata": {},
   "outputs": [],
   "source": [
    "%jsroot on\n",
    "objects = [\"hdEdxMaxMIPVsNcl_\" + region for region in [\"TPC\",\"IROC\",\"OROC1\",\"OROC2\",\"OROC3\"]]\n",
    "if all([checkIfExists(rootDataFile,objectName) for objectName in objects]):\n",
    "    hists = []\n",
    "    fits = []\n",
    "    ranges = [[60,152],[55,63],[14,34],[12,30],[10,25]]\n",
    "    for i,objectName in enumerate(objects):\n",
    "        [hist,legend,canvas,pad1] = drawHistograms(objectName,rootDataFile,drawOption=\"COLZ\",xAxisRange=ranges[i],yAxisRange=[30,70])\n",
    "        hist[0].FitSlicesY(ROOT.TF1(\"myFunc\",\"gaus\",40,60))\n",
    "        hists.append(copy(hist[0]))\n",
    "        fits.append(copy(ROOT.gDirectory.Get(hist[0].GetName()+\"_1\")))\n",
    "    c = ROOT.TCanvas(\"MIP\",\"MIP\",1100,600)\n",
    "    c.Divide(2)\n",
    "    targets = [ROOT.TLine(range[0],50,range[1],50) for range in ranges]\n",
    "    for target in targets:\n",
    "        target.SetLineStyle(2)\n",
    "        target.SetLineWidth(2)\n",
    "    # TPC\n",
    "    leftPad = c.cd(1)\n",
    "    hists[0].Draw()\n",
    "    targets[0].Draw()\n",
    "    hists[0].SetStats(0)\n",
    "    hists[0].FitSlicesY(ROOT.TF1(\"myFunc\",\"gaus\",40,60))\n",
    "    fits[0].SetMarkerStyle(21)\n",
    "    fits[0].SetMarkerSize(0.4)\n",
    "    fits[0].SetMarkerColor(1)\n",
    "    fits[0].Draw(\"SAME\")\n",
    "    # ROCs\n",
    "    rightPad = c.cd(2)\n",
    "    rightPad.Divide(2,2)\n",
    "    for i in range(1,5):\n",
    "        rightPad.cd(i)\n",
    "        hists[i].Draw()\n",
    "        targets[i].Draw()\n",
    "        hists[i].SetStats(0)\n",
    "        fits[i].SetMarkerStyle(21)\n",
    "        fits[i].SetMarkerSize(0.4)\n",
    "        fits[i].SetMarkerColor(1)\n",
    "        fits[i].Draw(\"SAME\")\n",
    "    c.Draw()"
   ]
  },
  {
   "cell_type": "markdown",
   "id": "a4a0ffd1",
   "metadata": {},
   "source": [
    "#### dEdxMaxMip vs tan(lambda)"
   ]
  },
  {
   "cell_type": "code",
   "execution_count": null,
   "id": "a7ee4dfd",
   "metadata": {},
   "outputs": [],
   "source": [
    "%jsroot on\n",
    "objects = [\"hdEdxMaxMIPVsTgl_\" + region for region in [\"TPC\",\"IROC\",\"OROC1\",\"OROC2\",\"OROC3\"]]\n",
    "if all([checkIfExists(rootDataFile,objectName) for objectName in objects]):\n",
    "    hists = []\n",
    "    fits = []\n",
    "    ranges = [[-2,2]]*5\n",
    "    for i,objectName in enumerate(objects):\n",
    "        [hist,legend,canvas,pad1] = drawHistograms(objectName,rootDataFile,drawOption=\"COLZ\",xAxisRange=ranges[i],yAxisRange=[30,70])\n",
    "        hist[0].FitSlicesY(ROOT.TF1(\"myFunc\",\"gaus\",40,60))\n",
    "        hists.append(copy(hist[0]))\n",
    "        fits.append(copy(ROOT.gDirectory.Get(hist[0].GetName()+\"_1\")))\n",
    "    c = ROOT.TCanvas(\"MIP\",\"MIP\",1100,600)\n",
    "    c.Divide(2)\n",
    "    targets = [ROOT.TLine(range[0],50,range[1],50) for range in ranges]\n",
    "    for target in targets:\n",
    "        target.SetLineStyle(2)\n",
    "        target.SetLineWidth(2)\n",
    "    # TPC\n",
    "    leftPad = c.cd(1)\n",
    "    hists[0].Draw()\n",
    "    targets[0].Draw()\n",
    "    hists[0].SetStats(0)\n",
    "    hists[0].FitSlicesY(ROOT.TF1(\"myFunc\",\"gaus\",40,60))\n",
    "    fits[0].SetMarkerStyle(21)\n",
    "    fits[0].SetMarkerSize(0.4)\n",
    "    fits[0].SetMarkerColor(1)\n",
    "    fits[0].Draw(\"SAME\")\n",
    "    # ROCs\n",
    "    rightPad = c.cd(2)\n",
    "    rightPad.Divide(2,2)\n",
    "    for i in range(1,5):\n",
    "        rightPad.cd(i)\n",
    "        hists[i].Draw()\n",
    "        targets[i].Draw()\n",
    "        hists[i].SetStats(0)\n",
    "        fits[i].SetMarkerStyle(21)\n",
    "        fits[i].SetMarkerSize(0.4)\n",
    "        fits[i].SetMarkerColor(1)\n",
    "        fits[i].Draw(\"SAME\")\n",
    "    c.Draw()"
   ]
  },
  {
   "cell_type": "markdown",
   "id": "67ab5e87",
   "metadata": {},
   "source": [
    "#### dEdxMaxMip vs sin(phi)"
   ]
  },
  {
   "cell_type": "code",
   "execution_count": null,
   "id": "fe8d6fef",
   "metadata": {},
   "outputs": [],
   "source": [
    "%jsroot on\n",
    "objects = [\"hdEdxMaxMIPVsSnp_\" + region for region in [\"TPC\",\"IROC\",\"OROC1\",\"OROC2\",\"OROC3\"]]\n",
    "if all([checkIfExists(rootDataFile,objectName) for objectName in objects]):\n",
    "    hists = []\n",
    "    fits = []\n",
    "    ranges = [[-.5,.5]]*5\n",
    "    for i,objectName in enumerate(objects):\n",
    "        [hist,legend,canvas,pad1] = drawHistograms(objectName,rootDataFile,drawOption=\"COLZ\",xAxisRange=ranges[i],yAxisRange=[30,70])\n",
    "        hist[0].FitSlicesY(ROOT.TF1(\"myFunc\",\"gaus\",40,60))\n",
    "        hists.append(copy(hist[0]))\n",
    "        fits.append(copy(ROOT.gDirectory.Get(hist[0].GetName()+\"_1\")))\n",
    "    c = ROOT.TCanvas(\"MIP\",\"MIP\",1100,600)\n",
    "    c.Divide(2)\n",
    "    targets = [ROOT.TLine(range[0],50,range[1],50) for range in ranges]\n",
    "    for target in targets:\n",
    "        target.SetLineStyle(2)\n",
    "        target.SetLineWidth(2)\n",
    "    # TPC\n",
    "    leftPad = c.cd(1)\n",
    "    hists[0].Draw()\n",
    "    targets[0].Draw()\n",
    "    hists[0].SetStats(0)\n",
    "    hists[0].FitSlicesY(ROOT.TF1(\"myFunc\",\"gaus\",40,60))\n",
    "    fits[0].SetMarkerStyle(21)\n",
    "    fits[0].SetMarkerSize(0.4)\n",
    "    fits[0].SetMarkerColor(1)\n",
    "    fits[0].Draw(\"SAME\")\n",
    "    # ROCs\n",
    "    rightPad = c.cd(2)\n",
    "    rightPad.Divide(2,2)\n",
    "    for i in range(1,5):\n",
    "        rightPad.cd(i)\n",
    "        hists[i].Draw()\n",
    "        targets[i].Draw()\n",
    "        hists[i].SetStats(0)\n",
    "        fits[i].SetMarkerStyle(21)\n",
    "        fits[i].SetMarkerSize(0.4)\n",
    "        fits[i].SetMarkerColor(1)\n",
    "        fits[i].Draw(\"SAME\")\n",
    "    c.Draw()"
   ]
  },
  {
   "cell_type": "markdown",
   "id": "1545bf74-2650-42a2-90d6-9581552c16ed",
   "metadata": {},
   "source": [
    "#### dEdxMax vs p"
   ]
  },
  {
   "cell_type": "code",
   "execution_count": null,
   "id": "b72440f2-3f5c-4f70-ad76-e1688e59c25a",
   "metadata": {},
   "outputs": [],
   "source": [
    "%jsroot on\n",
    "objects = [\"hdEdxMaxVsP_\" + region for region in [\"TPC\",\"IROC\",\"OROC1\",\"OROC2\",\"OROC3\"]]\n",
    "if all([checkIfExists(rootDataFile,objectName) for objectName in objects]):\n",
    "    hists = []\n",
    "    for i,objectName in enumerate(objects):\n",
    "        [hist,legend,canvas,pad1] = drawHistograms(objectName,rootDataFile,drawOption=\"COLZ\",log=\"logxyz\")\n",
    "        hists.append(copy(hist[0]))\n",
    "    c = ROOT.TCanvas(\"MIP\",\"MIP\",1100,600)\n",
    "    c.Divide(2)\n",
    "    # TPC\n",
    "    leftPad = c.cd(1)\n",
    "    hists[0].Draw()\n",
    "    ROOT.gPad.SetLogx(1)\n",
    "    ROOT.gPad.SetLogy(1)\n",
    "    ROOT.gPad.SetLogz(1)\n",
    "    hists[0].SetStats(0)\n",
    "    # ROCs\n",
    "    rightPad = c.cd(2)\n",
    "    rightPad.Divide(2,2)\n",
    "    for i in range(1,5):\n",
    "        rightPad.cd(i)\n",
    "        hists[i].Draw()\n",
    "        hists[i].SetStats(0)\n",
    "        ROOT.gPad.SetLogx(1)\n",
    "        ROOT.gPad.SetLogy(1)\n",
    "        ROOT.gPad.SetLogz(1)\n",
    "    c.Draw()"
   ]
  },
  {
   "cell_type": "code",
   "execution_count": null,
   "id": "ec612d95-b7f4-48ca-8c31-bf37bf61d2e1",
   "metadata": {},
   "outputs": [],
   "source": []
  }
 ],
 "metadata": {
  "kernelspec": {
   "display_name": "Python 3 (ipykernel)",
   "language": "python",
   "name": "python3"
  },
  "language_info": {
   "codemirror_mode": {
    "name": "ipython",
    "version": 3
   },
   "file_extension": ".py",
   "mimetype": "text/x-python",
   "name": "python",
   "nbconvert_exporter": "python",
   "pygments_lexer": "ipython3",
   "version": "3.9.6"
  },
  "toc": {
   "base_numbering": 1,
   "nav_menu": {},
   "number_sections": false,
   "sideBar": false,
   "skip_h1_title": true,
   "title_cell": "Table of Contents",
   "title_sidebar": "Contents",
   "toc_cell": true,
   "toc_position": {},
   "toc_section_display": true,
   "toc_window_display": false
  }
 },
 "nbformat": 4,
 "nbformat_minor": 5
}
