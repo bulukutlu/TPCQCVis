{
 "cells": [
  {
   "cell_type": "code",
   "execution_count": null,
   "id": "6ba04481",
   "metadata": {},
   "outputs": [],
   "source": [
    "%%capture\n",
    "import ROOT\n",
    "import glob\n",
    "import math\n",
    "import sys\n",
    "import numpy as np\n",
    "import pandas as pd\n",
    "from IPython.display import display, Markdown, HTML\n",
    "import ipywidgets as widgets\n",
    "from TPCQCVis.src.drawHistograms import *\n",
    "from TPCQCVis.src.drawTrending import *\n",
    "from TPCQCVis.src.drawMultiTrending import *\n",
    "from TPCQCVis.src.checkHistograms import *\n",
    "from TPCQCVis.src.checkTrending import *\n",
    "from TPCQCVis.src.utility import *\n",
    "import warnings\n",
    "from copy import copy\n",
    "warnings.filterwarnings('ignore')"
   ]
  },
  {
   "cell_type": "code",
   "execution_count": null,
   "id": "7afb8d37",
   "metadata": {},
   "outputs": [],
   "source": [
    "%jsroot on\n",
    "display(HTML(\"<style>.container { width:95% !important; align-items: center;}</style>\"))\n",
    "display(HTML(\"<style>table {float:left;}</style>\"))\n",
    "ROOT.gErrorIgnoreLevel = ROOT.kFatal\n",
    "#display(HTML('<style>{}</style>'.format(CSS)))\n",
    "#ROOT.gStyle.SetPalette(57)"
   ]
  },
  {
   "cell_type": "code",
   "execution_count": null,
   "id": "1e556f7f-d199-4a14-bb9f-0515fb139009",
   "metadata": {},
   "outputs": [],
   "source": [
    "def drawQuantileProjection(objectName,rootDataFile,quantileOrder=0.5, axis=\"x\",size=[600,400]):\n",
    "    from copy import copy\n",
    "    canvas = ROOT.TCanvas(\"\",\"\",size[0],size[1])\n",
    "    legend = ROOT.TLegend()\n",
    "    [hist,leg,canvo,pad1] = drawHistograms(objectName,rootDataFile,normalize=False,legend=False,\n",
    "                                               legendNames=runList,pads=True,drawOption=\"COLZ\",maxColumns=3)\n",
    "    quants = []\n",
    "    canvas.cd()\n",
    "    ROOT.gPad.SetGridy(1)\n",
    "    for i,histo in enumerate(hist):\n",
    "        if axis == \"y\":\n",
    "            quant = copy(histo.QuantilesY(quantileOrder))\n",
    "        else:\n",
    "            quant = copy(histo.QuantilesX(quantileOrder))\n",
    "        quant.SetYTitle(\"Median \"+ histo.GetYaxis().GetTitle())\n",
    "        quant.SetXTitle(histo.GetXaxis().GetTitle())\n",
    "        quant.SetTitle(quant.GetYaxis().GetTitle()+\" vs. \"+quant.GetXaxis().GetTitle())\n",
    "        quant.SetLineWidth(2)\n",
    "        quants.append(quant)\n",
    "        quants[i].SetStats(0)\n",
    "        quants[i].Draw(\"HIST E SAME\")\n",
    "        #legend.AddEntry(quant,runList[i])\n",
    "        legend.AddEntry(quant,LegRunParam[i])\n",
    "    legend.SetNColumns(math.ceil(len(quants)/8))\n",
    "    legend.SetHeader(\"#Run polarity IRstart IRmid IRend\", \"C\")\n",
    "    return quants,legend,canvas\n",
    "\n",
    "\n",
    "def drawProjection(objectName,rootDataFile,quantileOrder=0.5, axis=\"x\",size=[600,400]):\n",
    "    from copy import copy\n",
    "    canvas = ROOT.TCanvas(\"\",\"\",size[0],size[1])\n",
    "    legend = ROOT.TLegend()\n",
    "    [hist,leg,canvo,pad1] = drawHistograms(objectName,rootDataFile,normalize=False,legend=False,\n",
    "                                               legendNames=runList,pads=True,drawOption=\"COLZ\",maxColumns=3)\n",
    "    quants = []\n",
    "    canvas.cd()\n",
    "    ROOT.gPad.SetGridy(1)\n",
    "    for i,histo in enumerate(hist):\n",
    "        if axis == \"y\":\n",
    "            quant = copy(histo.ProjectionY())\n",
    "        else:\n",
    "            quant = copy(histo.ProjectionX())\n",
    "        #quant.SetYTitle(\"Median \"+ histo.GetYaxis().GetTitle())\n",
    "        #quant.SetXTitle(histo.GetXaxis().GetTitle())\n",
    "        #quant.SetTitle(quant.GetYaxis().GetTitle()+\" vs. \"+quant.GetXaxis().GetTitle())\n",
    "        quant.SetLineWidth(2)\n",
    "        quants.append(quant)\n",
    "        quants[i].SetStats(0)\n",
    "        quants[i].Draw(\"HIST E SAME\")\n",
    "        #legend.AddEntry(quant,runList[i])\n",
    "        legend.AddEntry(quant,LegRunParam[i])\n",
    "    legend.SetNColumns(math.ceil(len(quants)/8))\n",
    "    legend.SetHeader(\"#Run polarity IRstart IRmid IRend\", \"C\")\n",
    "    return quants,legend,canvas\n",
    "\n",
    "def drawProfile(objectName,rootDataFile,quantileOrder=0.5, axis=\"x\",size=[600,400]):\n",
    "    from copy import copy\n",
    "    canvas = ROOT.TCanvas(\"\",\"\",size[0],size[1])\n",
    "    legend = ROOT.TLegend()\n",
    "    [hist,leg,canvo,pad1] = drawHistograms(objectName,rootDataFile,normalize=False,legend=False,\n",
    "                                               legendNames=runList,pads=True,drawOption=\"COLZ\",maxColumns=3)\n",
    "    quants = []\n",
    "    canvas.cd()\n",
    "    ROOT.gPad.SetGridy(1)\n",
    "    for i,histo in enumerate(hist):\n",
    "        if axis == \"y\":\n",
    "            quant = copy(histo.ProfileY())\n",
    "        else:\n",
    "            quant = copy(histo.ProfileX())\n",
    "        #quant.SetYTitle(\"Median \"+ histo.GetYaxis().GetTitle())\n",
    "        #quant.SetXTitle(histo.GetXaxis().GetTitle())\n",
    "        #quant.SetTitle(quant.GetYaxis().GetTitle()+\" vs. \"+quant.GetXaxis().GetTitle())\n",
    "        quant.SetLineWidth(2)\n",
    "        quants.append(quant)\n",
    "        quants[i].SetStats(0)\n",
    "        quants[i].Draw(\"HIST E SAME\")\n",
    "        #legend.AddEntry(quant,runList[i])\n",
    "        legend.AddEntry(quant,LegRunParam[i])\n",
    "    legend.SetNColumns(math.ceil(len(quants)/8))\n",
    "    legend.SetHeader(\"#Run polarity IRstart IRmid IRend\", \"C\")\n",
    "    return quants,legend,canvas\n",
    "\n",
    "    \n",
    "def sliceAndFit(objectName,rootDataFile,fitFunc=\"gaus\",fitRange=[40,60],size=[600,400]):\n",
    "    from copy import copy\n",
    "    canvas = ROOT.TCanvas(\"\",\"\",size[0],size[1])\n",
    "    legend = ROOT.TLegend()\n",
    "    [hist,leg,canvo,pad1] = drawHistograms(objectName,rootDataFile,normalize=False,legend=False,\n",
    "                                               legendNames=runList,pads=True,drawOption=\"COLZ\",maxColumns=3)\n",
    "    \n",
    "    fits = []\n",
    "    myFunc = ROOT.TF1(\"myFunc\",\"gaus\",40,60)\n",
    "    canvas.cd()\n",
    "    for i,histo in enumerate(hist):\n",
    "        try:\n",
    "            histo.FitSlicesY(myFunc, 0, -1, 0, \"QNR\")\n",
    "            fit = copy(ROOT.gDirectory.Get(histo.GetName()+\"_1\"))\n",
    "        except:\n",
    "            print(\"Could not perform fit.\")\n",
    "            return [],legend,canvas\n",
    "        fit.SetYTitle(\"Gaus Fit Mean \"+ histo.GetYaxis().GetTitle())\n",
    "        fit.SetXTitle(histo.GetXaxis().GetTitle())\n",
    "        fit.SetTitle(histo.GetYaxis().GetTitle()+\" vs. \"+histo.GetXaxis().GetTitle())\n",
    "        fit.SetLineWidth(2)\n",
    "        legend.AddEntry(fit, LegRunParam[i])\n",
    "        fits.append(fit)\n",
    "        fit.Draw(\"HIST E SAME\")\n",
    "    legend.SetNColumns(math.ceil(len(hist)/8))\n",
    "    legend.SetHeader(\"#Run polarity IRstart IRmid IRend\", \"C\")\n",
    "    legend.Draw()\n",
    "    return fits, legend, canvas\n",
    "\n",
    "def sliceAndFitWidth(objectName,rootDataFile,fitFunc=\"gaus\",fitRange=[40,60],size=[600,400]):\n",
    "    from copy import copy\n",
    "    canvas = ROOT.TCanvas(\"\",\"\",size[0],size[1])\n",
    "    legend = ROOT.TLegend()\n",
    "    [hist,leg,canvo,pad1] = drawHistograms(objectName,rootDataFile,normalize=False,legend=False,\n",
    "                                               legendNames=runList,pads=True,drawOption=\"COLZ\",maxColumns=3)\n",
    "    \n",
    "    fits = []\n",
    "    myFunc = ROOT.TF1(\"myFunc\",\"gaus\",40,60)\n",
    "    canvas.cd()\n",
    "    for i,histo in enumerate(hist):\n",
    "        try:\n",
    "            histo.FitSlicesY(myFunc, 0, -1, 0, \"QNR\")\n",
    "            fit = copy(ROOT.gDirectory.Get(histo.GetName()+\"_2\"))\n",
    "        except:\n",
    "            print(\"Could not perform fit.\")\n",
    "            return [],legend,canvas\n",
    "        fit.SetYTitle(\"Gaus Fit Width \"+ histo.GetYaxis().GetTitle())\n",
    "        fit.SetXTitle(histo.GetXaxis().GetTitle())\n",
    "        fit.SetTitle(histo.GetYaxis().GetTitle()+\" vs. \"+histo.GetXaxis().GetTitle())\n",
    "        fit.SetLineWidth(2)\n",
    "        legend.AddEntry(fit,LegRunParam[i])\n",
    "        fits.append(fit)\n",
    "        fit.Draw(\"HIST E SAME\")\n",
    "    legend.SetNColumns(math.ceil(len(hist)/8))\n",
    "    legend.SetHeader(\"#Run polarity IRstart IRmid IRend\", \"C\")\n",
    "    legend.Draw()\n",
    "    return fits, legend, canvas"
   ]
  },
  {
   "cell_type": "code",
   "execution_count": null,
   "id": "0b4c56f8-1009-40aa-8a1f-12c5bd2e1ffb",
   "metadata": {},
   "outputs": [],
   "source": [
    "ROOT.gStyle.SetPalette(57)\n",
    "ROOT.gStyle.SetPalette(55)\n",
    "ROOT.gStyle.SetGridStyle(3)\n",
    "ROOT.gStyle.SetGridWidth(1)\n",
    "ROOT.gStyle.SetOptStat(0)\n",
    "cols = list(ROOT.TColor.GetPalette())\n",
    "def updateColors(histograms,palette):\n",
    "    colors = []\n",
    "    for i,hist in enumerate(histograms):\n",
    "        if len(histograms)>1:\n",
    "            color = palette[math.floor((i/(len(histograms)-1))*(len(palette)-1))]\n",
    "        else:\n",
    "            color = palette[0]\n",
    "        #color = i\n",
    "        colors.append(color)\n",
    "        hist.SetLineColor(color)\n",
    "        hist.SetMarkerColor(color)\n",
    "    return colors\n",
    "\n",
    "def calculate_kl_divergence(P, Q):\n",
    "    epsilon = 1e-10  # A small value to avoid division by zero\n",
    "    kl_divergence = 0\n",
    "    for p, q in zip(P, Q):\n",
    "        # Only calculate if both p and q are greater than a very small value\n",
    "        if p > epsilon and q > epsilon:\n",
    "            kl_divergence += p * math.log(p / q)\n",
    "        # If q is too close to zero, we skip the calculation for this term\n",
    "        #elif q <= epsilon:\n",
    "            #print(f\"Warning: q is too close to zero, skipping the term (p={p}, q={q})\")\n",
    "    return kl_divergence\n",
    "\n",
    "def normalize_distribution(histogram):\n",
    "    total = sum(histogram)\n",
    "    return [x / total for x in histogram] if total > 0 else histogram\n",
    "\n",
    "def outlierDetection(histogram_name, histograms, runList, draw_plot=False):\n",
    "    \"\"\"\n",
    "    Detects the outlier run based on KL divergence from the mean distribution.\n",
    "\n",
    "    This function calculates the KL divergence between each distribution in 'histograms' \n",
    "    and the mean of all distributions. It identifies the run with the highest KL \n",
    "    divergence, which is considered the most divergent (outlier) distribution.\n",
    "\n",
    "    Parameters:\n",
    "    histogram_name (str): The name of the histogram, used as the title of the KL divergence plot.\n",
    "    histograms (list): A list of distributions to compare against the mean.\n",
    "    runList (list): A list of run numbers corresponding to the distributions in 'histograms'.\n",
    "    draw_plot (bool): If True, draws the KL divergence plot. If False, only prints the outlier information.\n",
    "\n",
    "    Returns:\n",
    "    hOutlier (ROOT.TH1F): The histogram of KL divergence values for each run (if draw_plot=True).\n",
    "    cOutlier (ROOT.TCanvas): The canvas object containing the KL divergence plot (if draw_plot=True).\n",
    "    \n",
    "    The function will print the run number that has the highest KL divergence, indicating \n",
    "    the most divergent (outlier) run.\n",
    "    \"\"\"\n",
    "    files = len(runList)\n",
    "\n",
    "    # Creating the canvas and histogram objects only if draw_plot is True\n",
    "    if draw_plot:\n",
    "        # Outlier canvas\n",
    "        cOutlier = ROOT.TCanvas(\"cOutlier\", \"KL divergence\", 1100, 400)\n",
    "        cOutlier.SetBottomMargin(0.15)\n",
    "        cOutlier.SetGridx()\n",
    "\n",
    "        # Outlier distribution\n",
    "        hOutlier = ROOT.TH1F(\"h_kl_divergence\", histogram_name + \";Run;KL divergence\", \n",
    "                             files, 0, files)\n",
    "        hOutlier.SetLineWidth(2)\n",
    "        hOutlier.SetMarkerSize(1.5)\n",
    "        hOutlier.SetMarkerStyle(ROOT.kFullCircle)\n",
    "        hOutlier.SetStats(0)\n",
    "\n",
    "    # Building mean histogram\n",
    "    meanHistogram = None\n",
    "    for i,histogram in enumerate(histograms):\n",
    "        if i == 0:\n",
    "            meanHistogram = histogram.Clone(\"meanHistogram\")\n",
    "        else:\n",
    "            meanHistogram.Add(histogram)\n",
    "        \n",
    "        if i == files - 1:\n",
    "            meanHistogram.Scale(1 / len(histograms))\n",
    "\n",
    "    kl_divergence_values = []\n",
    "    max_kl_run_number = -1\n",
    "    max_kl_divergence = - math.inf # starting with very low value to be compared\n",
    "\n",
    "    for i in range(len(histograms)):\n",
    "        kl_divergence_value = calculate_kl_divergence(normalize_distribution(histograms[i]), normalize_distribution(meanHistogram))\n",
    "        kl_divergence_values.append(kl_divergence_value)\n",
    "        if draw_plot:\n",
    "            hOutlier.Fill(i, kl_divergence_value)\n",
    "            hOutlier.GetXaxis().SetBinLabel(i + 1, runList[i])\n",
    "        if kl_divergence_value > max_kl_divergence:  # Change this condition\n",
    "            max_kl_divergence = kl_divergence_value\n",
    "            max_kl_run_number = int(runList[i])  # Store the corresponding run number as an integer (convert from string)\n",
    "    \n",
    "    # Outlier: the biggest kl value is the most divergent distribution\n",
    "    if max_kl_run_number > -1:\n",
    "        print(f\"The most divergent run is: {max_kl_run_number} with a KL divergence of {max_kl_divergence}\")\n",
    "    \n",
    "    # Draw the plot only if draw_plot is True\n",
    "    if draw_plot:\n",
    "        # Auto-adjust Y-axis to fit all KL divergence points\n",
    "        min_value = min(kl_divergence_values)\n",
    "        max_value = max(kl_divergence_values)\n",
    "        padding = 0.1 * (max_value - min_value)\n",
    "        hOutlier.GetYaxis().SetRangeUser(min_value - padding, max_value + padding)  # Add 10% padding\n",
    "        hOutlier.LabelsOption(\"v\")\n",
    "        # Draw the KL values distribution\n",
    "        #hOutlier.Draw(\"SAME L P E\")\n",
    "        hOutlier.Draw(\"HIST E SAME\")\n",
    "        cOutlier.Update()\n",
    "\n",
    "        return hOutlier, cOutlier\n",
    "\n",
    "    # Return None if plot is not drawn\n",
    "    return None, None"
   ]
  },
  {
   "cell_type": "code",
   "execution_count": null,
   "id": "bb0c55ba",
   "metadata": {},
   "outputs": [],
   "source": [
    "# Notebook variables\n",
    "periodName = \"myPeriod\"\n",
    "passName = \"myPass\"\n",
    "runNumber = 123456\n",
    "path = \"myPath\"\n",
    "\n",
    "#periodName = \"LHC23m\"\n",
    "#passName = \"apass3\"\n",
    "#runNumber = \"536545\"\n",
    "#path = \"/cave/alice-tpc-qc/data/2023/\"\n",
    "\n",
    "# periodName = \"LHC23zzk\"\n",
    "# passName = \"apass4\"\n",
    "# runNumber = \"544451\"\n",
    "# path = \"/home/ferrandi/alice/TPCQCVis/TPCQCVis/DownloadedData/2023\"\n",
    "\n",
    "# periodName = \"LHC24af\"\n",
    "# passName = \"apass1\"\n",
    "# runNumber = \"550367\"\n",
    "# path = \"/home/ferrandi/alice/TPCQCVis/TPCQCVis/DownloadedData/2024\"\n",
    "\n",
    "# Read the Root Files\n",
    "fileList = glob.glob(path+\"/\"+periodName+\"/\"+passName+\"/\"+\"*_QC.root\")\n",
    "fileList = [file for file in fileList if file[-13] != \"_\"]\n",
    "fileList.sort()\n",
    "#fileList = fileList[13:]\n",
    "runList = [fileList[i][-14:-8] for i in range(len(fileList))]\n",
    "rootDataFile=[]\n",
    "for file in fileList:\n",
    "    rootDataFile.append(ROOT.TFile.Open(file,\"READ\"))\n",
    "    \n",
    "colors = updateColors([ROOT.TH1C(\"\",\"\",0,0,0) for _ in range(len(rootDataFile))],cols)"
   ]
  },
  {
   "cell_type": "markdown",
   "id": "38300728",
   "metadata": {},
   "source": [
    "# TPC Async QC Report - myPeriod - myPass\n",
    "**[RCT Table](https://ali-bookkeeping.cern.ch/?page=lhc-period-overview)**"
   ]
  },
  {
   "cell_type": "code",
   "execution_count": null,
   "id": "69b3818a",
   "metadata": {},
   "outputs": [],
   "source": [
    "import datetime\n",
    "now = datetime.datetime.now()\n",
    "display(Markdown(\"Report automatically created on **\"+now.strftime(\"%d.%m.%Y @ %H:%M:%S\")+\"**\"))"
   ]
  },
  {
   "cell_type": "code",
   "execution_count": null,
   "id": "abf11d79",
   "metadata": {},
   "outputs": [],
   "source": [
    "runList_markdown = \"\"\n",
    "for run in runList:\n",
    "    runList_markdown += f\"`{run}` \"\n",
    "\n",
    "display(Markdown(\"**Runs:** \\n\\n\"+runList_markdown))"
   ]
  },
  {
   "cell_type": "markdown",
   "id": "8dbb9146",
   "metadata": {},
   "source": [
    "<h1>Table of Contents<span class=\"tocSkip\"></span></h1>\n",
    "<div class=\"toc\"><ul class=\"toc-item\"><li><span><a href=\"#Run-Parameters\"data-toc-modified-id=\"Run-Parameters-1\">Run Parameters</a></span></li></ul><ul class=\"toc-item\"><li><span><a href=\"#Quality-Observer\" data-toc-modified-id=\"Quality-Observer-1\">Quality Observer</a></span><ul class=\"toc-item\"><li><span><a href=\"#Clusters\" data-toc-modified-id=\"Clusters-1.1\">Clusters</a></span></li><li><span><a href=\"#Tracks\" data-toc-modified-id=\"Tracks-1.2\">Tracks</a></span></li></ul></li><li><span><a href=\"#Trendings\" data-toc-modified-id=\"Trendings-2\">Trendings</a></span><ul class=\"toc-item\"><li><span><a href=\"#Mean-phi-of-tracks\" data-toc-modified-id=\"Mean-phi-of-tracks-2.1\">Mean phi of tracks</a></span></li><li><span><a href=\"#Mean-eta-of-tracks\" data-toc-modified-id=\"Mean-eta-of-tracks-2.2\">Mean eta of tracks</a></span></li><li><span><a href=\"#Mean-tracks-transverse-momentum-of-tracks\" data-toc-modified-id=\"Mean-tracks-transverse-momentum-of-tracks-2.3\">Mean tracks transverse momentum of tracks</a></span></li><li><span><a href=\"#Mean-charge-sign-of-tracks\" data-toc-modified-id=\"Mean-charge-sign-of-tracks-2.4\">Mean charge sign of tracks</a></span></li><li><span><a href=\"#Mean-dEdxTot-of-MIPs-tracks\" data-toc-modified-id=\"Mean-dEdxTot-of-MIPs-tracks-2.5\">Mean dEdxTot of MIPs tracks</a></span></li></ul></li><li><span><a href=\"#Plots\" data-toc-modified-id=\"Plots-3\">Plots</a></span><ul class=\"toc-item\"><li><span><a href=\"#Clusters\" data-toc-modified-id=\"Clusters-3.1\">Clusters</a></span></li><li><span><a href=\"#Tracks\" data-toc-modified-id=\"Tracks-3.2\">Tracks</a></span><ul class=\"toc-item\"><li><span><a href=\"#Geometrical-distributions-of-tracks\" data-toc-modified-id=\"Geometrical-distributions-of-tracks-3.2.1\">Geometrical distributions of tracks</a></span></li><li><span><a href=\"#Track-properties\" data-toc-modified-id=\"Track-properties-3.2.2\">Track properties</a></span></li></ul></li><li><span><a href=\"#DCAr\" data-toc-modified-id=\"DCAr-3.3\">DCAr</a></span><ul class=\"toc-item\"><li><span><a href=\"#DCAr-vs-phi\" data-toc-modified-id=\"DCAr-vs-phi-3.3.1\">DCAr vs phi</a></span></li><li><span><a href=\"#DCAr-vs-eta\" data-toc-modified-id=\"DCAr-vs-eta-3.3.2\">DCAr vs eta</a></span></li><li><span><a href=\"#DCAr-vs-pT\" data-toc-modified-id=\"DCAr-vs-pT-3.3.3\">DCAr vs pT</a></span></li><li><span><a href=\"#DCAr-vs-nClusters\" data-toc-modified-id=\"DCAr-vs-nClusters-3.3.4\">DCAr vs nClusters</a></span></li></ul></li><li><span><a href=\"#PID\" data-toc-modified-id=\"PID-3.4\">PID</a></span><ul class=\"toc-item\"><li><span><a href=\"#dEdxTot-of-MIP\" data-toc-modified-id=\"dEdxTot-of-MIP-3.4.1\">dEdxTot of MIP</a></span></li><li><span><a href=\"#TPC-Gain-calibration\" data-toc-modified-id=\"TPC-Gain-calibration-3.4.2\">TPC Gain calibration</a></span></li><li><span><a href=\"#PID-Hypothesis-Profile\" data-toc-modified-id=\"PID-Hypothesis-Profile-3.4.3\">PID Hypothesis Profile</a></span></li></ul></li></ul></li></ul></div>"
   ]
  },
  {
   "cell_type": "markdown",
   "id": "227452d7",
   "metadata": {},
   "source": [
    "---\n",
    "## Run Parameters"
   ]
  },
  {
   "cell_type": "code",
   "execution_count": null,
   "id": "ddd293fc",
   "metadata": {},
   "outputs": [],
   "source": [
    "def PlotRunParam(ParamName, ParamUnit, ParamArray, Runs):\n",
    "  canvas = ROOT.TCanvas(ParamName+\"Canvas\", \"Canvas\", 1100, 400)\n",
    "  canvas.SetBottomMargin(0.15)\n",
    "  canvas.SetGridx()\n",
    "  runListArrayint = np.array(Runs, dtype='int')\n",
    "  NRuns = len(Runs)\n",
    "  # Histogram of parameters\n",
    "  hPar = ROOT.TH1F(ParamName, ParamName, NRuns, min(runListArrayint), max(runListArrayint))\n",
    "  for i in range(len(ParamArray)):\n",
    "      hPar.Fill(Runs[i], \n",
    "                    ParamArray[i])\n",
    "      hPar.SetBinError(i+1,0)\n",
    "  hPar.SetMarkerStyle(ROOT.kFullCircle)\n",
    "  hPar.SetLineWidth(2)\n",
    "  hPar.SetMarkerSize(1.5)\n",
    "  hPar.SetStats(0)\n",
    "  hPar.LabelsOption(\"v\") # Vertical labels\n",
    "  hPar.SetLineColor(ROOT.kBlack)\n",
    "  hPar.GetXaxis().SetTitle(\"Run\")\n",
    "  hPar.GetYaxis().SetTitle(ParamName+\" ({})\".format(ParamUnit))\n",
    "  hPar.Draw(\"SAME L P E\")\n",
    "  canvas.Update()\n",
    "  # needs to return canvas also otherwise jupyter notebook doesn't display\n",
    "  return hPar, canvas"
   ]
  },
  {
   "cell_type": "code",
   "execution_count": null,
   "id": "7badb2da",
   "metadata": {},
   "outputs": [],
   "source": [
    "# Minor issue: these variables are not used if none of the QC.root files contain the RunParameters tree\n",
    "# Table in HTML\n",
    "RunParamTable = f\"\"\"\n",
    "    <table style=\"border: 1px solid black; width: 50%;\">\n",
    "    <tr>\n",
    "        <th style=\"background-color: #f2f2f2; text-align: center;\">Run Number</th>\n",
    "        <th style=\"background-color: #f2f2f2; text-align: center;\">Interaction Rate (Hz)</th>\n",
    "        <th style=\"background-color: #f2f2f2; text-align: center;\">Duration (s)</th>\n",
    "        <th style=\"background-color: #f2f2f2; text-align: center;\">Magnetic Field (Amperes)</th>\n",
    "    </tr>\n",
    "    \"\"\"\n",
    "# Arrays for run parameters defined as initially containing only \"?\"\n",
    "IntRatesAvg = np.full(len(runList), \"?\", dtype=object)\n",
    "IntRatesStart = np.full(len(runList), \"?\", dtype=object)\n",
    "IntRatesMid = np.full(len(runList), \"?\", dtype=object)\n",
    "IntRatesEnd = np.full(len(runList), \"?\", dtype=object)\n",
    "Durations = np.full(len(runList), \"?\", dtype=object)\n",
    "BFields = np.full(len(runList), \"?\", dtype=object)\n",
    "Polarity = np.full(len(runList), \"?\", dtype=object)\n",
    "LegRunParam = runList.copy()\n",
    "runsWithParamList=np.array([]) # List of runs with RunParameters tree\n",
    "DisplayRunParam = False # Checks if at least 1 _QC.root has RunParameters\n",
    "for i in range(len(runList)):\n",
    "    RunParamTree = rootDataFile[i].Get(\"RunParameters\")\n",
    "    if RunParamTree:\n",
    "        DisplayRunParam = True \n",
    "        runsWithParamList=np.append(runsWithParamList, (runList[i]))\n",
    "        RunParamTree.GetEntry(0)\n",
    "        IntRateAvg = getattr(RunParamTree, \"IRavg\")\n",
    "        IntRatesAvg[i] = float(IntRateAvg)\n",
    "        IntRateStart = getattr(RunParamTree, \"IRstart\")\n",
    "        IntRatesStart[i] = float(IntRateStart)\n",
    "        IntRateMid = getattr(RunParamTree, \"IRmid\")\n",
    "        IntRatesMid[i] = float(IntRateMid)\n",
    "        IntRateEnd = getattr(RunParamTree, \"IRend\")\n",
    "        IntRatesEnd[i] = float(IntRateEnd)\n",
    "        Duration = getattr(RunParamTree, \"Duration\")\n",
    "        Durations[i] = float(Duration)\n",
    "        BField = getattr(RunParamTree, \"BField\")\n",
    "        BFields[i] = float(BField)\n",
    "        Polarity[i] = \"+\" if BField > 0 else \"-\"\n",
    "        LegIRavg = str(round(IntRatesAvg[i]/1000, 1))\n",
    "        LegIRstart = str(round(IntRatesStart[i]/1000, 1))\n",
    "        LegIRmid = str(round(IntRatesMid[i]/1000, 1))\n",
    "        LegIRend = str(round(IntRatesEnd[i]/1000, 1))\n",
    "        LegRunParam[i] += \" (\" + Polarity[i] + \") \" + LegIRstart + \" \" + LegIRmid + \" \" + LegIRend + \" (kHz)\"           \n",
    "        RunParamTable += f\"\"\"\n",
    "            <tr style=\"text-align: center;\">\n",
    "                <td style=\"text-align: center;\"><code>{runList[i]}</code></td>\n",
    "                <td style=\"text-align: center;\"><code>{IntRateAvg}</code></td>\n",
    "                <td style=\"text-align: center;\"><code>{Duration}</code></td>\n",
    "                <td style=\"text-align: center;\"><code>{BField}</code></td>\n",
    "            </tr>\n",
    "        \"\"\" # Row appended to table\n",
    "    else: #if no RunParameters tree, fills table with \"?\"\n",
    "        LegRunParam[i] += \" (\" + Polarity[i] + \") \" + \"?\" + \" kHz\"          \n",
    "        RunParamTable += f\"\"\"\n",
    "            <tr style=\"text-align: center;\">\n",
    "                <td style=\"text-align: center;\"><code>{runList[i]} (RunParameters tree not found)</code></td>\n",
    "                <td style=\"text-align: center;\"><code>?</code></td>\n",
    "                <td style=\"text-align: center;\"><code>?</code></td>\n",
    "                <td style=\"text-align: center;\"><code>?</code></td>\n",
    "            </tr>\n",
    "        \"\"\"\n",
    "if DisplayRunParam:\n",
    "    display(HTML(RunParamTable))\n",
    "    [hIR, canvasIR] = PlotRunParam(\"Interaction Rates\", \"Hz\", IntRatesAvg[IntRatesAvg != \"?\"], runsWithParamList)\n",
    "    canvasIR.Draw()\n",
    "    [hDur, canvasDur] = PlotRunParam(\"Duration\", \"s\", Durations[Durations  != \"?\"], runsWithParamList)\n",
    "    canvasDur.Draw()\n",
    "    [hBField, canvasBField] = PlotRunParam(\"BField\", \"Amperes\", BFields[BFields != \"?\"], runsWithParamList)\n",
    "    canvasBField.Draw()\n",
    "else:\n",
    "    display(HTML(f\"No RunParameters trees found for the runs.\"))"
   ]
  },
  {
   "cell_type": "markdown",
   "id": "a4b8dc0f",
   "metadata": {},
   "source": [
    "---\n",
    "## Quality Observer"
   ]
  },
  {
   "cell_type": "markdown",
   "id": "b1074ba1",
   "metadata": {},
   "source": [
    "### Clusters"
   ]
  },
  {
   "cell_type": "code",
   "execution_count": null,
   "id": "4052a354",
   "metadata": {},
   "outputs": [],
   "source": [
    "qualityDFClusters = pd.DataFrame({'runNumber':runList})\n",
    "names = []\n",
    "for i in range(72):\n",
    "    if i < 18*2: roc = \"IROC-\"\n",
    "    else: roc = \"OROC-\"\n",
    "    if i%(18*2) < 18: side = \"A\"\n",
    "    else : side = \"C\"\n",
    "    names.append(roc+side+str(i%18).zfill(2))"
   ]
  },
  {
   "cell_type": "code",
   "execution_count": null,
   "id": "69a20633",
   "metadata": {},
   "outputs": [],
   "source": [
    "%%capture\n",
    "objectName=\"c_ROCs_N_Clusters_1D;1\"\n",
    "trending = \"mean\"\n",
    "error = \"\"\n",
    "[trends,canvas] = drawMultiTrending(objectName,rootDataFile,names=runList,namesFromRunList=True,\n",
    "                               trend=trending,error=error,pads=True,normalize=True,\n",
    "                               log=\"none\",yAxisRange=[0,500])\n",
    "for iPad,pad in enumerate(canvas.GetListOfPrimitives()):\n",
    "    trend = trends[iPad]\n",
    "    [qualities,pad] = checkTrending(trend,canvas=pad,thresholds={\"GOOD\":1.5,\"MEDIUM\":3,\"BAD\":6})\n",
    "    qualityDFClusters[names[iPad]] = qualities\n",
    "    canvas.Update()\n",
    "#canvas.Draw()"
   ]
  },
  {
   "cell_type": "code",
   "execution_count": null,
   "id": "293f06ea",
   "metadata": {},
   "outputs": [],
   "source": [
    "if False:\n",
    "    for i,row in qualityDFClusters.iterrows():\n",
    "        probs = [columnName for (columnName, columnData) in row.items() if columnData in [\"MEDIUM\",\"BAD\"]]\n",
    "        if len(probs) != 0:\n",
    "            print([row.runNumber]+probs)"
   ]
  },
  {
   "cell_type": "code",
   "execution_count": null,
   "id": "957b6a56",
   "metadata": {},
   "outputs": [],
   "source": [
    "%jsroot on\n",
    "myPalette = np.array([920, 414, 801, 633],dtype=np.int32)\n",
    "ROOT.gStyle.SetPalette(4,myPalette)\n",
    "ROOT.gStyle.SetGridStyle(1)\n",
    "qualityLabels = {\"NULL\":0,\"GOOD\":1,\"MEDIUM\":2,\"BAD\":3}\n",
    "\n",
    "canvas = ROOT.TCanvas(\"QualityMatrixClusters\",\"\",1200,600)\n",
    "canvas.SetLeftMargin(0.15)\n",
    "canvas.SetBottomMargin(0.15)\n",
    "canvas.SetRightMargin(0.15)\n",
    "canvas.SetGrid()\n",
    "\n",
    "qualityHistClusters = ROOT.TH2I(\"QualityMatrixClusters\",\"Clusters - Quality Matrix\",\n",
    "                        len(qualityDFClusters.index),min(qualityDFClusters.index),max(qualityDFClusters.index)+1,\n",
    "                        len(qualityDFClusters.columns)-1,0,len(qualityDFClusters.columns)-1)\n",
    "qualityHistClusters.SetCanExtend(ROOT.TH1.kAllAxes)\n",
    "qualityHistClusters.SetStats(0)\n",
    "for runIndex,run in enumerate(qualityDFClusters.runNumber):\n",
    "    qualityHistClusters.GetXaxis().SetBinLabel(runIndex+1,str(run))\n",
    "    qualityHistClusters.GetXaxis().SetTickLength( 0.03)\n",
    "    for checkIndex,check in enumerate(qualityDFClusters.loc[:, qualityDFClusters.columns != \"runNumber\"].columns):\n",
    "        #print(checkIndex,runIndex)\n",
    "        qualityHistClusters.Fill(run,check,qualityLabels.get(qualityDFClusters.iloc[runIndex][check]))\n",
    "\n",
    "qualityHistClusters.LabelsOption(\"u\")\n",
    "qualityHistClusters.Draw(\"COLZ\")\n",
    "qualityHistClusters.GetZaxis().SetRangeUser(-0.5,3.5);\n",
    "qualityHistClusters.GetZaxis().SetTitle(\"Quality\")\n",
    "qualityHistClusters.LabelsOption(\"v\")\n",
    "canvas.Draw()"
   ]
  },
  {
   "cell_type": "markdown",
   "id": "217c98c8",
   "metadata": {},
   "source": [
    "### Tracks"
   ]
  },
  {
   "cell_type": "code",
   "execution_count": null,
   "id": "0969cccc",
   "metadata": {},
   "outputs": [],
   "source": [
    "%%capture\n",
    "qualityDF = pd.DataFrame({'runNumber':runList})\n",
    "objects = [\"hPhiAside;1\",\"hPhiCside;1\",\"hEta;1\",\"hPt;1\",\"hSign;1\",\"hdEdxTotMIP_TPC;1\",\"hNClustersAfterCuts;1\",\"hdEdxVsTgl;1\",\"hdEdxTotMIPVsSnp_TPC;1\"]\n",
    "trending = \"mean\"\n",
    "error = \"meanError\"\n",
    "for objectName in objects:\n",
    "    if objectName == \"hdEdxTotMIP_TPC;1\":\n",
    "        trending = \"fit(gaus,Sq,N,40,60)\"\n",
    "    else:\n",
    "        trending = \"mean\"\n",
    "    [trend,canvas] = drawTrending(objectName,rootDataFile,names=runList,namesFromRunList=True,\n",
    "                                   trend=trending,error=error,log=\"none\",axis=1)\n",
    "    [qualities,canvas] = checkTrending(trend,canvas=canvas,thresholds={\"GOOD\":1.5,\"MEDIUM\":3,\"BAD\":6})\n",
    "    qualityDF[objectName] = qualities"
   ]
  },
  {
   "cell_type": "code",
   "execution_count": null,
   "id": "3ac8fbbd",
   "metadata": {},
   "outputs": [],
   "source": [
    "canvas = ROOT.TCanvas(\"QualityMatrixTracks\",\"\",1200,500)\n",
    "canvas.SetLeftMargin(0.15)\n",
    "canvas.SetBottomMargin(0.15)\n",
    "canvas.SetRightMargin(0.15)\n",
    "canvas.SetGrid()\n",
    "\n",
    "qualityHist = ROOT.TH2I(\"QualityMatrixTracks\",\"Tracks Observables - Quality Matrix\",\n",
    "                        len(qualityDF.index),min(qualityDF.index),max(qualityDF.index)+1,\n",
    "                        len(qualityDF.columns)-1,0,len(qualityDF.columns)-1)\n",
    "qualityHist.SetCanExtend(ROOT.TH1.kAllAxes)\n",
    "qualityHist.SetStats(0)\n",
    "for runIndex,run in enumerate(qualityDF.runNumber):\n",
    "    qualityHist.GetXaxis().SetBinLabel(runIndex+1,str(run))\n",
    "    qualityHist.GetXaxis().SetTickLength( 0.03)\n",
    "    for checkIndex,check in enumerate(qualityDF.loc[:, qualityDF.columns != \"runNumber\"].columns):\n",
    "        #print(checkIndex,runIndex)\n",
    "        qualityHist.Fill(run,check,qualityLabels.get(qualityDF.iloc[runIndex][check]))\n",
    "\n",
    "qualityHist.LabelsOption(\"u\")\n",
    "qualityHist.Draw(\"COLZ\")\n",
    "qualityHist.GetZaxis().SetRangeUser(-0.5,3.5)\n",
    "qualityHist.GetZaxis().SetTitle(\"Quality\")\n",
    "qualityHist.LabelsOption(\"v\")\n",
    "\n",
    "# Update the canvas\n",
    "canvas.Update()\n",
    "canvas.Draw()"
   ]
  },
  {
   "cell_type": "markdown",
   "id": "126029ee",
   "metadata": {},
   "source": [
    "---\n",
    "## Trendings\n",
    "### Mean phi of tracks"
   ]
  },
  {
   "cell_type": "code",
   "execution_count": null,
   "id": "8ec22c83",
   "metadata": {},
   "outputs": [],
   "source": [
    "%jsroot on\n",
    "objectName=\"hPhiAside;1\"\n",
    "trending = \"mean\"\n",
    "error = \"meanError\"\n",
    "leg = ROOT.TLegend()\n",
    "[trend,canvas] = drawTrending(objectName,rootDataFile,names=runList,namesFromRunList=True,\n",
    "                               trend=trending,error=error,axis=1,log=\"none\")\n",
    "[qualities,canvas] = checkTrending(trend,canvas=canvas,thresholds={\"GOOD\":1.5,\"MEDIUM\":3,\"BAD\":6})\n",
    "canvas.SetCanvasSize(1000,400)\n",
    "qualityDF[objectName] = qualities\n",
    "canvas.Draw()"
   ]
  },
  {
   "cell_type": "code",
   "execution_count": null,
   "id": "f8d93b41",
   "metadata": {},
   "outputs": [],
   "source": [
    "%jsroot on\n",
    "objectName=\"hPhiCside;1\"\n",
    "trending = \"mean\"\n",
    "error = \"meanError\"\n",
    "leg = ROOT.TLegend()\n",
    "[trend,canvas] = drawTrending(objectName,rootDataFile,names=runList,namesFromRunList=True,\n",
    "                               trend=trending,error=error,log=\"none\")\n",
    "[qualities,canvas] = checkTrending(trend,canvas=canvas,thresholds={\"GOOD\":1.5,\"MEDIUM\":3,\"BAD\":6})\n",
    "qualityDF[objectName] = qualities\n",
    "canvas.SetCanvasSize(1000,400)\n",
    "#trend.SetTitle(\"Number of tracks - Trend\")\n",
    "canvas.Draw()"
   ]
  },
  {
   "cell_type": "markdown",
   "id": "e0c37372",
   "metadata": {},
   "source": [
    "### Mean eta of tracks"
   ]
  },
  {
   "cell_type": "code",
   "execution_count": null,
   "id": "e909f751",
   "metadata": {},
   "outputs": [],
   "source": [
    "%jsroot on\n",
    "objectName=\"hEta;1\"\n",
    "trending = \"mean\"\n",
    "error = \"meanError\"\n",
    "leg = ROOT.TLegend()\n",
    "[trend,canvas] = drawTrending(objectName,rootDataFile,names=runList,namesFromRunList=True,\n",
    "                               trend=trending,error=error,log=\"none\")\n",
    "[qualities,canvas] = checkTrending(trend,canvas=canvas,thresholds={\"GOOD\":1.5,\"MEDIUM\":3,\"BAD\":6})\n",
    "qualityDF[objectName] = qualities\n",
    "#trend.SetTitle(\"Number of tracks - Trend\")\n",
    "canvas.SetCanvasSize(1000,400)\n",
    "canvas.Draw()"
   ]
  },
  {
   "cell_type": "markdown",
   "id": "5dd7a37b",
   "metadata": {},
   "source": [
    "### Mean tracks transverse momentum of tracks"
   ]
  },
  {
   "cell_type": "code",
   "execution_count": null,
   "id": "68e05779",
   "metadata": {},
   "outputs": [],
   "source": [
    "%jsroot on\n",
    "objectName=\"hPt;1\"\n",
    "trending = \"mean\"\n",
    "error = \"meanError\"\n",
    "leg = ROOT.TLegend()\n",
    "[trend,canvas] = drawTrending(objectName,rootDataFile,names=runList,namesFromRunList=True,\n",
    "                               trend=trending,error=error,log=\"none\")\n",
    "[qualities,canvas] = checkTrending(trend,canvas=canvas,thresholds={\"GOOD\":1.5,\"MEDIUM\":3,\"BAD\":6})\n",
    "qualityDF[objectName] = qualities\n",
    "#trend.SetTitle(\"Number of tracks - Trend\")\n",
    "canvas.SetCanvasSize(1000,400)\n",
    "canvas.Draw()"
   ]
  },
  {
   "cell_type": "markdown",
   "id": "527b2c4d",
   "metadata": {},
   "source": [
    "### Mean charge sign of tracks"
   ]
  },
  {
   "cell_type": "code",
   "execution_count": null,
   "id": "b2784f4c",
   "metadata": {},
   "outputs": [],
   "source": [
    "%jsroot on\n",
    "objectName=\"hSign;1\"\n",
    "trending = \"mean\"\n",
    "error = \"meanError\"\n",
    "leg = ROOT.TLegend()\n",
    "[trend,canvas] = drawTrending(objectName,rootDataFile,names=runList,namesFromRunList=True,\n",
    "                               trend=trending,error=error,log=\"none\")\n",
    "[qualities,canvas] = checkTrending(trend,canvas=canvas,thresholds={\"GOOD\":1.5,\"MEDIUM\":3,\"BAD\":6})\n",
    "qualityDF[objectName] = qualities\n",
    "#trend.SetTitle(\"Number of tracks - Trend\")\n",
    "canvas.SetCanvasSize(1000,400)\n",
    "canvas.Draw()"
   ]
  },
  {
   "cell_type": "markdown",
   "id": "847683fb",
   "metadata": {},
   "source": [
    "### Mean dEdxTot of MIPs tracks"
   ]
  },
  {
   "cell_type": "code",
   "execution_count": null,
   "id": "accf51f9",
   "metadata": {},
   "outputs": [],
   "source": [
    "%jsroot on\n",
    "objectName=\"hdEdxTotMIP_TPC;1\"\n",
    "trending = \"fit(gaus,Sq,N,40,60)\"\n",
    "error = \"meanError\"\n",
    "leg = ROOT.TLegend()\n",
    "[trend,canvas] = drawTrending(objectName,rootDataFile,names=runList,namesFromRunList=True,\n",
    "                               trend=trending,error=error,log=\"none\",yAxisRange=[30,70])\n",
    "trend.Draw()\n",
    "[qualities,canvas] = checkTrending(trend,canvas=canvas,thresholds={\"GOOD\":1.5,\"MEDIUM\":3,\"BAD\":6})\n",
    "\n",
    "qualityDF[objectName] = qualities\n",
    "#trend.GetYaxis().SetRangeUser(45,55)\n",
    "#trend.SetTitle(\"Number of tracks - Trend\")\n",
    "canvas.SetCanvasSize(1000,400)\n",
    "canvas.Draw()"
   ]
  },
  {
   "cell_type": "markdown",
   "id": "5d518beb",
   "metadata": {},
   "source": [
    "**Mean number of clusters per tracks:**"
   ]
  },
  {
   "cell_type": "code",
   "execution_count": null,
   "id": "5249d911",
   "metadata": {},
   "outputs": [],
   "source": [
    "%jsroot on\n",
    "objectName=\"hNClustersAfterCuts;1\"\n",
    "trending = \"mean\"\n",
    "error = \"meanError\"\n",
    "leg = ROOT.TLegend()\n",
    "[trend,canvas] = drawTrending(objectName,rootDataFile,names=runList,namesFromRunList=True,\n",
    "                               trend=trending,error=error,log=\"none\")\n",
    "[qualities,canvas] = checkTrending(trend,canvas=canvas,thresholds={\"GOOD\":1.5,\"MEDIUM\":3,\"BAD\":6})\n",
    "qualityDF[objectName] = qualities\n",
    "#trend.SetTitle(\"Number of tracks - Trend\")\n",
    "canvas.SetCanvasSize(1000,400)\n",
    "canvas.Draw()"
   ]
  },
  {
   "cell_type": "markdown",
   "id": "d252f445",
   "metadata": {},
   "source": [
    "**Mean tan(lambda) of tracks:**"
   ]
  },
  {
   "cell_type": "code",
   "execution_count": null,
   "id": "573dac03",
   "metadata": {},
   "outputs": [],
   "source": [
    "%jsroot on\n",
    "objectName=\"hdEdxVsTgl;1\"\n",
    "trending = \"mean\"\n",
    "error = \"meanError\"\n",
    "leg = ROOT.TLegend()\n",
    "[trend,canvas] = drawTrending(objectName,rootDataFile,names=runList,namesFromRunList=True,\n",
    "                               trend=trending,error=error,log=\"none\")\n",
    "[qualities,canvas] = checkTrending(trend,canvas=canvas,thresholds={\"GOOD\":1.5,\"MEDIUM\":3,\"BAD\":6})\n",
    "qualityDF[objectName] = qualities\n",
    "#trend.SetTitle(\"Number of tracks - Trend\")\n",
    "canvas.SetCanvasSize(1000,400)\n",
    "canvas.Draw()"
   ]
  },
  {
   "cell_type": "markdown",
   "id": "14abf883",
   "metadata": {},
   "source": [
    "**Mean sin(phi) of tracks:**"
   ]
  },
  {
   "cell_type": "code",
   "execution_count": null,
   "id": "824fe439",
   "metadata": {},
   "outputs": [],
   "source": [
    "%jsroot on\n",
    "objectName=\"hdEdxTotMIPVsSnp_TPC;1\"\n",
    "trending = \"mean\"\n",
    "error = \"meanError\"\n",
    "leg = ROOT.TLegend()\n",
    "[trend,canvas] = drawTrending(objectName,rootDataFile,names=runList,namesFromRunList=True,\n",
    "                               trend=trending,error=error,axis=1,log=\"none\")\n",
    "[qualities,canvas] = checkTrending(trend,canvas=canvas,thresholds={\"GOOD\":1.5,\"MEDIUM\":3,\"BAD\":6})\n",
    "qualityDF[objectName] = qualities\n",
    "#trend.SetTitle(\"Number of tracks - Trend\")\n",
    "canvas.SetCanvasSize(1000,400)\n",
    "canvas.Draw()"
   ]
  },
  {
   "cell_type": "markdown",
   "id": "948bf442",
   "metadata": {},
   "source": [
    "**Mean DCA of A-side positive tracks:**"
   ]
  },
  {
   "cell_type": "code",
   "execution_count": null,
   "id": "46a2c2a1",
   "metadata": {
    "scrolled": false
   },
   "outputs": [],
   "source": [
    "%jsroot on\n",
    "objectName=\"hDCAr_A_Pos;1\"\n",
    "trending = \"mean\"\n",
    "error = \"meanError\"\n",
    "leg = ROOT.TLegend()\n",
    "[trend,canvas] = drawTrending(objectName,rootDataFile,names=runList,namesFromRunList=True,\n",
    "                               trend=trending,error=error,axis=2,log=\"none\")\n",
    "[qualities,canvas] = checkTrending(trend,canvas=canvas,thresholds={\"GOOD\":1.5,\"MEDIUM\":3,\"BAD\":6})\n",
    "qualityDF[objectName] = qualities\n",
    "#trend.SetTitle(\"Number of tracks - Trend\")\n",
    "canvas.SetCanvasSize(1000,400)\n",
    "canvas.Draw()"
   ]
  },
  {
   "cell_type": "markdown",
   "id": "bc5b713e",
   "metadata": {},
   "source": [
    "**Mean DCA of C-side positive tracks:**"
   ]
  },
  {
   "cell_type": "code",
   "execution_count": null,
   "id": "a461ac56",
   "metadata": {},
   "outputs": [],
   "source": [
    "%jsroot on\n",
    "objectName=\"hDCAr_C_Pos;1\"\n",
    "trending = \"mean\"\n",
    "error = \"meanError\"\n",
    "leg = ROOT.TLegend()\n",
    "[trend,canvas] = drawTrending(objectName,rootDataFile,names=runList,namesFromRunList=True,\n",
    "                               trend=trending,error=error,axis=2,log=\"none\")\n",
    "[qualities,canvas] = checkTrending(trend,canvas=canvas,thresholds={\"GOOD\":1.5,\"MEDIUM\":3,\"BAD\":6})\n",
    "qualityDF[objectName] = qualities\n",
    "#trend.SetTitle(\"Number of tracks - Trend\")\n",
    "canvas.SetCanvasSize(1000,400)\n",
    "canvas.Draw()"
   ]
  },
  {
   "cell_type": "markdown",
   "id": "903eb639",
   "metadata": {},
   "source": [
    "**Mean DCA of A-side negative tracks:**"
   ]
  },
  {
   "cell_type": "code",
   "execution_count": null,
   "id": "d4a811e5",
   "metadata": {},
   "outputs": [],
   "source": [
    "%jsroot on\n",
    "objectName=\"hDCAr_A_Neg;1\"\n",
    "trending = \"mean\"\n",
    "error = \"meanError\"\n",
    "leg = ROOT.TLegend()\n",
    "[trend,canvas] = drawTrending(objectName,rootDataFile,names=runList,namesFromRunList=True,\n",
    "                               trend=trending,error=error,axis=2,log=\"none\")\n",
    "[qualities,canvas] = checkTrending(trend,canvas=canvas,thresholds={\"GOOD\":1.5,\"MEDIUM\":3,\"BAD\":6})\n",
    "qualityDF[objectName] = qualities\n",
    "#trend.SetTitle(\"Number of tracks - Trend\")\n",
    "canvas.SetCanvasSize(1000,400)\n",
    "canvas.Draw()"
   ]
  },
  {
   "cell_type": "markdown",
   "id": "552ea109",
   "metadata": {},
   "source": [
    "**Mean DCA of C-side negative tracks:**"
   ]
  },
  {
   "cell_type": "code",
   "execution_count": null,
   "id": "e0f7bc38",
   "metadata": {},
   "outputs": [],
   "source": [
    "%jsroot on\n",
    "objectName=\"hDCAr_C_Neg;1\"\n",
    "trending = \"mean\"\n",
    "error = \"meanError\"\n",
    "leg = ROOT.TLegend()\n",
    "[trend,canvas] = drawTrending(objectName,rootDataFile,names=runList,namesFromRunList=True,\n",
    "                               trend=trending,error=error,axis=2,log=\"none\")\n",
    "[qualities,canvas] = checkTrending(trend,canvas=canvas,thresholds={\"GOOD\":1.5,\"MEDIUM\":3,\"BAD\":6})\n",
    "qualityDF[objectName] = qualities\n",
    "#trend.SetTitle(\"Number of tracks - Trend\")\n",
    "canvas.SetCanvasSize(1000,400)\n",
    "canvas.Draw()"
   ]
  },
  {
   "cell_type": "markdown",
   "id": "2ca94113",
   "metadata": {},
   "source": [
    "---\n",
    "## Plots"
   ]
  },
  {
   "cell_type": "code",
   "execution_count": null,
   "id": "94dac685",
   "metadata": {},
   "outputs": [],
   "source": [
    "ROOT.gStyle.SetPalette(57)\n",
    "ROOT.gStyle.SetGridStyle(3)\n",
    "ROOT.gStyle.SetGridWidth(1)"
   ]
  },
  {
   "cell_type": "markdown",
   "id": "03eca5ad",
   "metadata": {},
   "source": [
    "### Clusters\n",
    "**Number of clusters per pad, A-side:**"
   ]
  },
  {
   "cell_type": "code",
   "execution_count": null,
   "id": "37d0ba8e",
   "metadata": {},
   "outputs": [],
   "source": [
    "%jsroot on\n",
    "objectName=\"h2DRPhinClustersAside\"\n",
    "if checkIfExists(rootDataFile,objectName):\n",
    "    [quants,legend,canvas] = drawProjection(objectName,rootDataFile,size=[1200,400])\n",
    "    updateColors(quants,cols)\n",
    "    canvas.SetGridy(1)\n",
    "    for quant in quants:\n",
    "        quant.Scale(1/quant.GetEntries())\n",
    "        quant.SetTitle(objectName+\" Projection\")\n",
    "    updateRanges(quants)\n",
    "    canvas.cd()\n",
    "    sectorBoundary = ROOT.TLine(0,quant.GetMinimum(),0,quant.GetMaximum())\n",
    "    sectorBoundary.SetLineStyle(2)\n",
    "    sectorNum = ROOT.TText(.5,.5,\"test\")\n",
    "    sectorNum.SetTextAlign(22)\n",
    "    sectorNum.SetTextColor(ROOT.kGray+1)\n",
    "    sectorNum.SetTextFont(0)\n",
    "    for j in range(19):\n",
    "        sectorBoundary.DrawLine((j*2*math.pi)/18,quant.GetMinimum(),(j*2*math.pi)/18,quant.GetMaximum())\n",
    "        if j < 18 : sectorNum.DrawText(((j+0.5)*2*math.pi)/18,quant.GetMaximum()*0.95+quant.GetMinimum()*0.05,str(j))\n",
    "    \n",
    "    histoOut, canvasOut = outlierDetection(objectName,quants,runList)\n",
    "\n",
    "    legend.Draw()\n",
    "    canvas.Draw()"
   ]
  },
  {
   "cell_type": "code",
   "execution_count": null,
   "id": "a0b19d9a",
   "metadata": {},
   "outputs": [],
   "source": [
    "%jsroot on\n",
    "objectName=\"h2DRPhinClustersAside\"\n",
    "if checkIfExists(rootDataFile,objectName):\n",
    "    [quants,legend,canvas] = drawProjection(objectName,rootDataFile, axis=\"y\", size=[1200,400])\n",
    "    updateColors(quants,cols)\n",
    "    canvas.SetGridy(1)\n",
    "    for quant in quants:\n",
    "        quant.Scale(1/quant.GetEntries())\n",
    "        quant.SetTitle(objectName+\" Projection\")\n",
    "    updateRanges(quants)\n",
    "    canvas.cd()\n",
    "    sectorBoundary = ROOT.TLine(0,quant.GetMinimum(),0,quant.GetMaximum())\n",
    "    sectorBoundary.SetLineStyle(2)\n",
    "    sectorNum = ROOT.TText(.5,.5,\"test\")\n",
    "    sectorNum.SetTextAlign(22)\n",
    "    sectorNum.SetTextColor(ROOT.kGray+1)\n",
    "    sectorNum.SetTextFont(0)\n",
    "    for j in range(19):\n",
    "        sectorBoundary.DrawLine((j*2*math.pi)/18,quant.GetMinimum(),(j*2*math.pi)/18,quant.GetMaximum())\n",
    "        if j < 18 : sectorNum.DrawText(((j+0.5)*2*math.pi)/18,quant.GetMaximum()*0.95+quant.GetMinimum()*0.05,str(j))\n",
    "    \n",
    "    histoOut, canvasOut = outlierDetection(objectName,quants,runList)\n",
    "    \n",
    "    legend.Draw()\n",
    "    canvas.Draw()"
   ]
  },
  {
   "cell_type": "markdown",
   "id": "a09e8b4b",
   "metadata": {},
   "source": [
    "**Number of clusters per pad, C-side:**"
   ]
  },
  {
   "cell_type": "code",
   "execution_count": null,
   "id": "d43d9ed7",
   "metadata": {},
   "outputs": [],
   "source": [
    "%jsroot on\n",
    "objectName=\"h2DRPhinClustersCside\"\n",
    "if checkIfExists(rootDataFile,objectName):\n",
    "    [quants,legend,canvas] = drawProjection(objectName,rootDataFile,size=[1200,400])\n",
    "    updateColors(quants,cols)\n",
    "    canvas.SetGridy(1)\n",
    "    for quant in quants:\n",
    "        quant.Scale(1/quant.GetEntries())\n",
    "        quant.SetTitle(objectName+\" Projection\")\n",
    "    updateRanges(quants)\n",
    "    canvas.cd()\n",
    "    sectorBoundary = ROOT.TLine(0,quant.GetMinimum(),0,quant.GetMaximum())\n",
    "    sectorBoundary.SetLineStyle(2)\n",
    "    sectorNum = ROOT.TText(.5,.5,\"test\")\n",
    "    sectorNum.SetTextAlign(22)\n",
    "    sectorNum.SetTextColor(ROOT.kGray+1)\n",
    "    sectorNum.SetTextFont(0)\n",
    "    for j in range(19):\n",
    "        sectorBoundary.DrawLine((j*2*math.pi)/18,quant.GetMinimum(),(j*2*math.pi)/18,quant.GetMaximum())\n",
    "        if j < 18 : sectorNum.DrawText(((j+0.5)*2*math.pi)/18,quant.GetMaximum()*0.95+quant.GetMinimum()*0.05,str(j))\n",
    "    \n",
    "    histoOut, canvasOut = outlierDetection(objectName,quants,runList)\n",
    "    \n",
    "    legend.Draw()\n",
    "    canvas.Draw()"
   ]
  },
  {
   "cell_type": "code",
   "execution_count": null,
   "id": "6c5db418",
   "metadata": {},
   "outputs": [],
   "source": [
    "%jsroot on\n",
    "objectName=\"h2DRPhinClustersCside\"\n",
    "if checkIfExists(rootDataFile,objectName):\n",
    "    [quants,legend,canvas] = drawProjection(objectName,rootDataFile, axis=\"y\", size=[1200,400])\n",
    "    updateColors(quants,cols)\n",
    "    canvas.SetGridy(1)\n",
    "    for quant in quants:\n",
    "        quant.Scale(1/quant.GetEntries())\n",
    "        quant.SetTitle(objectName+\" Projection\")\n",
    "    updateRanges(quants)\n",
    "    canvas.cd()\n",
    "    sectorBoundary = ROOT.TLine(0,quant.GetMinimum(),0,quant.GetMaximum())\n",
    "    sectorBoundary.SetLineStyle(2)\n",
    "    sectorNum = ROOT.TText(.5,.5,\"test\")\n",
    "    sectorNum.SetTextAlign(22)\n",
    "    sectorNum.SetTextColor(ROOT.kGray+1)\n",
    "    sectorNum.SetTextFont(0)\n",
    "    for j in range(19):\n",
    "        sectorBoundary.DrawLine((j*2*math.pi)/18,quant.GetMinimum(),(j*2*math.pi)/18,quant.GetMaximum())\n",
    "        if j < 18 : sectorNum.DrawText(((j+0.5)*2*math.pi)/18,quant.GetMaximum()*0.95+quant.GetMinimum()*0.05,str(j))\n",
    "    \n",
    "    histoOut, canvasOut = outlierDetection(objectName,quants,runList)\n",
    "    \n",
    "    legend.Draw()\n",
    "    canvas.Draw()"
   ]
  },
  {
   "cell_type": "markdown",
   "id": "2847962e",
   "metadata": {},
   "source": [
    "---\n",
    "**Cluster total charge per pad, A-side:**"
   ]
  },
  {
   "cell_type": "code",
   "execution_count": null,
   "id": "d0fc2815",
   "metadata": {},
   "outputs": [],
   "source": [
    "%jsroot on\n",
    "objectName=\"h2DRPhiqTotAside\"\n",
    "if checkIfExists(rootDataFile,objectName):\n",
    "    [quants,legend,canvas] = drawProjection(objectName,rootDataFile,size=[1200,400])\n",
    "    updateColors(quants,cols)\n",
    "    canvas.SetGridy(1)\n",
    "    for quant in quants:\n",
    "        quant.Scale(1/quant.GetEntries())\n",
    "        quant.SetTitle(objectName+\" Projection\")\n",
    "    updateRanges(quants)\n",
    "    canvas.cd()\n",
    "    sectorBoundary = ROOT.TLine(0,quant.GetMinimum(),0,quant.GetMaximum())\n",
    "    sectorBoundary.SetLineStyle(2)\n",
    "    sectorNum = ROOT.TText(.5,.5,\"test\")\n",
    "    sectorNum.SetTextAlign(22)\n",
    "    sectorNum.SetTextColor(ROOT.kGray+1)\n",
    "    sectorNum.SetTextFont(0)\n",
    "    for j in range(19):\n",
    "        sectorBoundary.DrawLine((j*2*math.pi)/18,quant.GetMinimum(),(j*2*math.pi)/18,quant.GetMaximum())\n",
    "        if j < 18 : sectorNum.DrawText(((j+0.5)*2*math.pi)/18,quant.GetMaximum()*0.95+quant.GetMinimum()*0.05,str(j))\n",
    "    \n",
    "    histoOut, canvasOut = outlierDetection(objectName,quants,runList)\n",
    "    \n",
    "    legend.Draw()\n",
    "    canvas.Draw()"
   ]
  },
  {
   "cell_type": "code",
   "execution_count": null,
   "id": "e6c29ef2",
   "metadata": {
    "scrolled": false
   },
   "outputs": [],
   "source": [
    "%jsroot on\n",
    "objectName=\"h2DRPhiqTotAside\"\n",
    "if checkIfExists(rootDataFile,objectName):\n",
    "    [quants,legend,canvas] = drawProjection(objectName,rootDataFile, axis=\"y\", size=[1200,400])\n",
    "    updateColors(quants,cols)\n",
    "    canvas.SetGridy(1)\n",
    "    for quant in quants:\n",
    "        quant.Scale(1/quant.GetEntries())\n",
    "        quant.SetTitle(objectName+\" Projection\")\n",
    "    updateRanges(quants)\n",
    "    canvas.cd()\n",
    "    sectorBoundary = ROOT.TLine(0,quant.GetMinimum(),0,quant.GetMaximum())\n",
    "    sectorBoundary.SetLineStyle(2)\n",
    "    sectorNum = ROOT.TText(.5,.5,\"test\")\n",
    "    sectorNum.SetTextAlign(22)\n",
    "    sectorNum.SetTextColor(ROOT.kGray+1)\n",
    "    sectorNum.SetTextFont(0)\n",
    "    for j in range(19):\n",
    "        sectorBoundary.DrawLine((j*2*math.pi)/18,quant.GetMinimum(),(j*2*math.pi)/18,quant.GetMaximum())\n",
    "        if j < 18 : sectorNum.DrawText(((j+0.5)*2*math.pi)/18,quant.GetMaximum()*0.95+quant.GetMinimum()*0.05,str(j))\n",
    "    \n",
    "    histoOut, canvasOut = outlierDetection(objectName,quants,runList)\n",
    "    \n",
    "    legend.Draw()\n",
    "    canvas.Draw()"
   ]
  },
  {
   "cell_type": "markdown",
   "id": "c223a11e",
   "metadata": {},
   "source": [
    "**Cluster total charge per pad, C-side:**"
   ]
  },
  {
   "cell_type": "code",
   "execution_count": null,
   "id": "1e9afaad",
   "metadata": {},
   "outputs": [],
   "source": [
    "%jsroot on\n",
    "objectName=\"h2DRPhiqTotCside\"\n",
    "if checkIfExists(rootDataFile,objectName):\n",
    "    [quants,legend,canvas] = drawProjection(objectName,rootDataFile,size=[1200,400])\n",
    "    updateColors(quants,cols)\n",
    "    canvas.SetGridy(1)\n",
    "    for quant in quants:\n",
    "        quant.Scale(1/quant.GetEntries())\n",
    "        quant.SetTitle(objectName+\" Projection\")\n",
    "    updateRanges(quants)\n",
    "    canvas.cd()\n",
    "    sectorBoundary = ROOT.TLine(0,quant.GetMinimum(),0,quant.GetMaximum())\n",
    "    sectorBoundary.SetLineStyle(2)\n",
    "    sectorNum = ROOT.TText(.5,.5,\"test\")\n",
    "    sectorNum.SetTextAlign(22)\n",
    "    sectorNum.SetTextColor(ROOT.kGray+1)\n",
    "    sectorNum.SetTextFont(0)\n",
    "    for j in range(19):\n",
    "        sectorBoundary.DrawLine((j*2*math.pi)/18,quant.GetMinimum(),(j*2*math.pi)/18,quant.GetMaximum())\n",
    "        if j < 18 : sectorNum.DrawText(((j+0.5)*2*math.pi)/18,quant.GetMaximum()*0.95+quant.GetMinimum()*0.05,str(j))\n",
    "    \n",
    "    histoOut, canvasOut = outlierDetection(objectName,quants,runList)\n",
    "    \n",
    "    legend.Draw()\n",
    "    canvas.Draw()"
   ]
  },
  {
   "cell_type": "code",
   "execution_count": null,
   "id": "40ad9de4",
   "metadata": {},
   "outputs": [],
   "source": [
    "%jsroot on\n",
    "objectName=\"h2DRPhiqTotCside\"\n",
    "if checkIfExists(rootDataFile,objectName):\n",
    "    [quants,legend,canvas] = drawProjection(objectName,rootDataFile, axis=\"y\", size=[1200,400])\n",
    "    updateColors(quants,cols)\n",
    "    canvas.SetGridy(1)\n",
    "    for quant in quants:\n",
    "        quant.Scale(1/quant.GetEntries())\n",
    "        quant.SetTitle(objectName+\" Projection\")\n",
    "    updateRanges(quants)\n",
    "    canvas.cd()\n",
    "    sectorBoundary = ROOT.TLine(0,quant.GetMinimum(),0,quant.GetMaximum())\n",
    "    sectorBoundary.SetLineStyle(2)\n",
    "    sectorNum = ROOT.TText(.5,.5,\"test\")\n",
    "    sectorNum.SetTextAlign(22)\n",
    "    sectorNum.SetTextColor(ROOT.kGray+1)\n",
    "    sectorNum.SetTextFont(0)\n",
    "    for j in range(19):\n",
    "        sectorBoundary.DrawLine((j*2*math.pi)/18,quant.GetMinimum(),(j*2*math.pi)/18,quant.GetMaximum())\n",
    "        if j < 18 : sectorNum.DrawText(((j+0.5)*2*math.pi)/18,quant.GetMaximum()*0.95+quant.GetMinimum()*0.05,str(j))\n",
    "    \n",
    "    histoOut, canvasOut = outlierDetection(objectName,quants,runList)\n",
    "    \n",
    "    legend.Draw()\n",
    "    canvas.Draw()"
   ]
  },
  {
   "cell_type": "markdown",
   "id": "549deb42",
   "metadata": {},
   "source": [
    "---\n",
    "### Tracks\n",
    "#### Geometrical distributions of tracks\n",
    "**Phi distribution A-side tracks:**"
   ]
  },
  {
   "cell_type": "code",
   "execution_count": null,
   "id": "d4d46a67",
   "metadata": {},
   "outputs": [],
   "source": [
    "%jsroot on\n",
    "objectName=\"hPhiAside\"\n",
    "if checkIfExists(rootDataFile,objectName):\n",
    "    [hist,legend,canvas,pad1] = drawHistograms(objectName,rootDataFile,normalize=True,legend=True,legendNames=LegRunParam,pads=False,\n",
    "                                               drawOption=\"HIST E SAME\",yAxisRange=[2.2e-3,3.2e-3],grid=False,size=[1200,400])\n",
    "    #Sector boundatries\n",
    "    pad1.cd()\n",
    "    sectorBoundary = ROOT.TLine(0,hist[0].GetMinimum(),0,hist[0].GetMaximum())\n",
    "    sectorBoundary.SetLineStyle(2)\n",
    "    sectorNum = ROOT.TText(.5,.5,\"test\")\n",
    "    sectorNum.SetTextAlign(22)\n",
    "    sectorNum.SetTextColor(ROOT.kGray+1)\n",
    "    sectorNum.SetTextFont(0)\n",
    "    for j in range(19):\n",
    "        sectorBoundary.DrawLine((j*2*math.pi)/18,hist[0].GetMinimum(),(j*2*math.pi)/18,hist[0].GetMaximum())\n",
    "        if j < 18 : sectorNum.DrawText(((j+0.5)*2*math.pi)/18,hist[0].GetMaximum(),str(j))\n",
    "    \n",
    "    histoOut, canvasOut = outlierDetection(objectName,hist,runList)\n",
    "\n",
    "    pad1.SetGridy(1)\n",
    "    canvas.SetCanvasSize(1000,400)\n",
    "    updateColors(hist,cols)\n",
    "    legend.SetHeader(\"Normalized to integral, #Run polarity IRstart IRmid IRend\", \"C\")\n",
    "    legend.Draw()\n",
    "    canvas.Draw()"
   ]
  },
  {
   "cell_type": "markdown",
   "id": "6305738a",
   "metadata": {},
   "source": [
    "**Phi distribution C-side tracks:**"
   ]
  },
  {
   "cell_type": "code",
   "execution_count": null,
   "id": "347e4057",
   "metadata": {},
   "outputs": [],
   "source": [
    "%jsroot on\n",
    "objectName=\"hPhiCside\"\n",
    "if checkIfExists(rootDataFile,objectName):\n",
    "    [hist,legend,canvas,pad1] = drawHistograms(objectName,rootDataFile,normalize=True,legend=True,legendNames=LegRunParam,pads=False,\n",
    "                                               drawOption=\"HIST E SAME\",yAxisRange=[2.2e-3,3.2e-3],grid=False,size=[1200,400])\n",
    "    updateColors(hist,cols)\n",
    "    #Sector boundatries\n",
    "    pad1.cd()\n",
    "    sectorBoundary = ROOT.TLine(0,hist[0].GetMinimum(),0,hist[0].GetMaximum())\n",
    "    sectorBoundary.SetLineStyle(2)\n",
    "    sectorNum = ROOT.TText(.5,.5,\"test\")\n",
    "    sectorNum.SetTextAlign(22)\n",
    "    sectorNum.SetTextColor(ROOT.kGray+1)\n",
    "    sectorNum.SetTextFont(0)\n",
    "    for j in range(19):\n",
    "        sectorBoundary.DrawLine((j*2*math.pi)/18,hist[0].GetMinimum(),(j*2*math.pi)/18,hist[0].GetMaximum())\n",
    "        if j < 18 : sectorNum.DrawText(((j+0.5)*2*math.pi)/18,hist[0].GetMaximum(),str(j))\n",
    "    \n",
    "    histoOut, canvasOut = outlierDetection(objectName,hist,runList)\n",
    "\n",
    "    pad1.SetGridy(1)\n",
    "    canvas.SetCanvasSize(1000,400)\n",
    "    legend.SetHeader(\"Normalized to integral, #Run polarity IRstart IRmid IRend\", \"C\")\n",
    "    legend.Draw()\n",
    "    canvas.Draw()"
   ]
  },
  {
   "cell_type": "markdown",
   "id": "87f2c477",
   "metadata": {},
   "source": [
    "**Eta distribution:**"
   ]
  },
  {
   "cell_type": "code",
   "execution_count": null,
   "id": "e2d2dcfc",
   "metadata": {},
   "outputs": [],
   "source": [
    "%jsroot on\n",
    "objectName=\"hEta\"\n",
    "if checkIfExists(rootDataFile,objectName):\n",
    "    [hist,legend,canvas,pad1] = drawHistograms(objectName,rootDataFile,normalize=True,legend=True,legendNames=LegRunParam,pads=False,\n",
    "                                               drawOption=\"HIST E SAME\",xAxisRange=[-1.1,1.1],grid=True,size=[1000,400])\n",
    "    updateColors(hist,cols)\n",
    "    updateRanges(hist)\n",
    "\n",
    "    histoOut, canvasOut = outlierDetection(objectName,hist,runList)\n",
    "\n",
    "    pad1.SetGrid(1)\n",
    "    canvas.SetCanvasSize(700,400)\n",
    "    legend.SetHeader(\"Normalized to integral, #Run polarity IRstart IRmid IRend\", \"C\")\n",
    "    legend.Draw()\n",
    "    canvas.Draw()"
   ]
  },
  {
   "cell_type": "code",
   "execution_count": null,
   "id": "99e1195a-bfe1-450e-a934-f1d591424808",
   "metadata": {},
   "outputs": [],
   "source": [
    "%jsroot on\n",
    "objectName=\"h2DEtaPhi\"\n",
    "if checkIfExists(rootDataFile,objectName):\n",
    "    [quants,legend,canvas] = drawQuantileProjection(objectName,rootDataFile,size=[1200,400])\n",
    "    updateColors(quants,cols)\n",
    "    canvas.SetGridy(1)\n",
    "    canvas.SetCanvasSize(1000,400)\n",
    "    for quant in quants:\n",
    "        quant.GetYaxis().SetRangeUser(-.1,.1)\n",
    "        quant.SetTitle(\"Median eta vs phi\")\n",
    "    canvas.cd()\n",
    "    sectorBoundary = ROOT.TLine(0,quant.GetMinimum(),0,quant.GetMaximum())\n",
    "    sectorBoundary.SetLineStyle(2)\n",
    "    sectorNum = ROOT.TText(.5,.5,\"test\")\n",
    "    sectorNum.SetTextAlign(22)\n",
    "    sectorNum.SetTextColor(ROOT.kGray+1)\n",
    "    sectorNum.SetTextFont(0)\n",
    "    for j in range(19):\n",
    "        sectorBoundary.DrawLine((j*2*math.pi)/18,quant.GetMinimum(),(j*2*math.pi)/18,quant.GetMaximum())\n",
    "        if j < 18 : sectorNum.DrawText(((j+0.5)*2*math.pi)/18,quant.GetMaximum()*0.95+quant.GetMinimum()*0.05,str(j))\n",
    "    \n",
    "    histoOut, canvasOut = outlierDetection(objectName,quants,runList)\n",
    "\n",
    "    legend.Draw()\n",
    "    canvas.Draw()"
   ]
  },
  {
   "cell_type": "markdown",
   "id": "738f539d",
   "metadata": {},
   "source": [
    "#### Track properties\n",
    "**Transverse momentum**"
   ]
  },
  {
   "cell_type": "code",
   "execution_count": null,
   "id": "fe939830",
   "metadata": {},
   "outputs": [],
   "source": [
    "%jsroot on\n",
    "objectName=\"hPt\"\n",
    "if checkIfExists(rootDataFile,objectName):\n",
    "    [hist,legend,canvas,pad1] = drawHistograms(objectName,rootDataFile,normalize=True,legend=True,legendNames=LegRunParam,pads=False,\n",
    "                                               drawOption=\"HIST E SAME\",log=\"logxy\",\n",
    "                                               grid=True,size=[1000,400])\n",
    "    \n",
    "    histoOut, canvasOut = outlierDetection(objectName,hist,runList)\n",
    "\n",
    "    updateColors(hist,cols)\n",
    "    pad1.SetGrid(1)\n",
    "    canvas.SetCanvasSize(700,400)\n",
    "    legend.SetHeader(\"Normalized to integral, #Run polarity IRstart IRmid IRend\", \"C\")\n",
    "    legend.Draw()\n",
    "    canvas.Draw()"
   ]
  },
  {
   "cell_type": "markdown",
   "id": "5200e396",
   "metadata": {},
   "source": [
    "**Track sign**"
   ]
  },
  {
   "cell_type": "code",
   "execution_count": null,
   "id": "e222519f",
   "metadata": {},
   "outputs": [],
   "source": [
    "%jsroot on\n",
    "objectName=\"hSign\"\n",
    "if checkIfExists(rootDataFile,objectName):\n",
    "    [hist,legend,canvas,pad1] = drawHistograms(objectName,rootDataFile,normalize=True,legend=True,legendNames=LegRunParam,pads=False,\n",
    "                                               drawOption=\"SAME HIST\",grid=True,size=[1000,400])\n",
    "\n",
    "    histoOut, canvasOut = outlierDetection(objectName,hist,runList)\n",
    "    \n",
    "    updateColors(hist,cols)\n",
    "    pad1.SetGrid(1)\n",
    "    canvas.SetCanvasSize(700,400)\n",
    "    legend.SetHeader(\"Normalized to integral, #Run polarity IRstart IRmid IRend\", \"C\")\n",
    "    legend.Draw()\n",
    "    canvas.Draw()"
   ]
  },
  {
   "cell_type": "markdown",
   "id": "d58cf558",
   "metadata": {},
   "source": [
    "**Charge / transverse momentum**"
   ]
  },
  {
   "cell_type": "code",
   "execution_count": null,
   "id": "edc50695",
   "metadata": {},
   "outputs": [],
   "source": [
    "%jsroot on\n",
    "objectName=\"hQOverPt\"\n",
    "if checkIfExists(rootDataFile,objectName):\n",
    "    [hist,legend,canvas,pad1] = drawHistograms(objectName,rootDataFile,normalize=True,legend=True,legendNames=LegRunParam,pads=False,\n",
    "                                                        drawOption=\"HIST E SAME\",grid=True,size=[1000,400])\n",
    "    \n",
    "    histoOut, canvasOut = outlierDetection(objectName,hist,runList)\n",
    "    \n",
    "    updateColors(hist,cols)\n",
    "    pad1.SetGrid(1)\n",
    "    canvas.SetCanvasSize(700,400)\n",
    "    legend.SetHeader(\"Normalized to integral, #Run polarity IRstart IRmid IRend\", \"C\")\n",
    "    legend.Draw()\n",
    "    canvas.Draw()"
   ]
  },
  {
   "cell_type": "markdown",
   "id": "cb886e2a",
   "metadata": {},
   "source": [
    "**Number of clusters per track**"
   ]
  },
  {
   "cell_type": "code",
   "execution_count": null,
   "id": "4550be77",
   "metadata": {},
   "outputs": [],
   "source": [
    "%jsroot on\n",
    "objectNames=[\"hNClustersAfterCuts\",\"crossedRows\",\"sharedClusters\"]\n",
    "if all([checkIfExists(rootDataFile,objectName) for objectName in objectNames]):\n",
    "    bigCanvas = ROOT.TCanvas(\"\",\"\",1200,400)\n",
    "    bigCanvas.Divide(3,1)\n",
    "    [hist1,legend1,canvas1,pad1] = drawHistograms(objectNames[0],rootDataFile,xAxisRange = [50,160],normalize=True,legend=True,legendNames=LegRunParam)\n",
    "    [hist2,legend2,canvas2,pad2] = drawHistograms(objectNames[1],rootDataFile,xAxisRange = [50,160],normalize=True,legend=True,legendNames=LegRunParam)\n",
    "    [hist3,legend3,canvas3,pad3] = drawHistograms(objectNames[2],rootDataFile,xAxisRange = [0,152],normalize=True,legend=True,legendNames=LegRunParam)\n",
    "    #canvas.SetCanvasSize(700,400)\n",
    "    #hist.SetGrid(1)\n",
    "    updateColors(hist1,cols)\n",
    "    updateColors(hist2,cols)\n",
    "    updateColors(hist3,cols)\n",
    "    updateRanges(hist1)\n",
    "    updateRanges(hist2)\n",
    "    updateRanges(hist3)\n",
    "    histoOut, canvasOut = outlierDetection(objectName,hist1,runList)\n",
    "    bigCanvas.cd(1)\n",
    "    ROOT.gPad.SetGrid(1)\n",
    "    for hist in hist1 : hist.Draw(\"HIST E SAME\")\n",
    "    legend1.SetHeader(\"Normalized to integral, #Run polarity IRstart IRmid IRend\", \"C\")\n",
    "    legend1.Draw()\n",
    "    histoOut, canvasOut = outlierDetection(objectName,hist2,runList)\n",
    "    bigCanvas.cd(2)\n",
    "    ROOT.gPad.SetGrid(1)\n",
    "    for hist in hist2 : hist.Draw(\"HIST E SAME\")\n",
    "    legend2.SetHeader(\"Normalized to integral, #Run polarity IRstart IRmid IRend\", \"C\")\n",
    "    legend2.Draw()\n",
    "    histoOut, canvasOut = outlierDetection(objectName,hist3,runList)\n",
    "    bigCanvas.cd(3)\n",
    "    ROOT.gPad.SetGridx(1)\n",
    "    ROOT.gPad.SetLogy()\n",
    "    for hist in hist3 : hist.Draw(\"HIST E SAME\")\n",
    "    legend3.Draw()\n",
    "    bigCanvas.Draw()"
   ]
  },
  {
   "cell_type": "markdown",
   "id": "f2925ae9",
   "metadata": {},
   "source": [
    "**nClusters vs phi**"
   ]
  },
  {
   "cell_type": "code",
   "execution_count": null,
   "id": "f4295051-b300-4f80-a42b-1f00d9fc10aa",
   "metadata": {},
   "outputs": [],
   "source": [
    "%jsroot on\n",
    "objectName=\"h2DNClustersPhiAside\"\n",
    "if checkIfExists(rootDataFile,objectName):\n",
    "    [quants,legend,canvas] = drawQuantileProjection(objectName,rootDataFile,size=[1200,400])\n",
    "    updateColors(quants,cols)\n",
    "    canvas.SetGridy(1)\n",
    "    canvas.SetCanvasSize(1000,400)\n",
    "    for quant in quants:\n",
    "        quant.GetYaxis().SetRangeUser(60,160)\n",
    "        quant.SetTitle(\"A-Side - nClusters per track vs phi\")\n",
    "    canvas.cd()\n",
    "    sectorBoundary = ROOT.TLine(0,quant.GetMinimum(),0,quant.GetMaximum())\n",
    "    sectorBoundary.SetLineStyle(2)\n",
    "    sectorNum = ROOT.TText(.5,.5,\"test\")\n",
    "    sectorNum.SetTextAlign(22)\n",
    "    sectorNum.SetTextColor(ROOT.kGray+1)\n",
    "    sectorNum.SetTextFont(0)\n",
    "    for j in range(19):\n",
    "        sectorBoundary.DrawLine((j*2*math.pi)/18,quant.GetMinimum(),(j*2*math.pi)/18,quant.GetMaximum())\n",
    "        if j < 18 : sectorNum.DrawText(((j+0.5)*2*math.pi)/18,quant.GetMaximum()*0.95+quant.GetMinimum()*0.05,str(j))\n",
    "    \n",
    "    histoOut, canvasOut = outlierDetection(objectName,quants,runList)\n",
    "\n",
    "    legend.Draw()\n",
    "canvas.Draw()"
   ]
  },
  {
   "cell_type": "code",
   "execution_count": null,
   "id": "a8a24637-f8e4-49c8-9b0f-7dc8cdceebd4",
   "metadata": {},
   "outputs": [],
   "source": [
    "%jsroot on\n",
    "objectName=\"h2DNClustersPhiCside\"\n",
    "if checkIfExists(rootDataFile,objectName):\n",
    "    [quants,legend,canvas] = drawQuantileProjection(objectName,rootDataFile,size=[1200,400])\n",
    "    updateColors(quants,cols)\n",
    "    canvas.SetGridy(1)\n",
    "    canvas.SetCanvasSize(1000,400)\n",
    "    for quant in quants:\n",
    "        quant.GetYaxis().SetRangeUser(60,160)\n",
    "        quant.SetTitle(\"C-Side - nClusters per track vs phi\")\n",
    "    canvas.cd()\n",
    "    sectorBoundary = ROOT.TLine(0,quant.GetMinimum(),0,quant.GetMaximum())\n",
    "    sectorBoundary.SetLineStyle(2)\n",
    "    sectorNum = ROOT.TText(.5,.5,\"test\")\n",
    "    sectorNum.SetTextAlign(22)\n",
    "    sectorNum.SetTextColor(ROOT.kGray+1)\n",
    "    sectorNum.SetTextFont(0)\n",
    "    for j in range(19):\n",
    "        sectorBoundary.DrawLine((j*2*math.pi)/18,quant.GetMinimum(),(j*2*math.pi)/18,quant.GetMaximum())\n",
    "        if j < 18 : sectorNum.DrawText(((j+0.5)*2*math.pi)/18,quant.GetMaximum()*0.95+quant.GetMinimum()*0.05,str(j))\n",
    "    \n",
    "    histoOut, canvasOut = outlierDetection(objectName,quants,runList)\n",
    "    \n",
    "    legend.Draw()\n",
    "canvas.Draw()"
   ]
  },
  {
   "cell_type": "markdown",
   "id": "91903ed3",
   "metadata": {},
   "source": [
    "**nClusters vs eta**"
   ]
  },
  {
   "cell_type": "code",
   "execution_count": null,
   "id": "9fe0d2ad-6969-4d87-9ac2-ade8f2ab95e7",
   "metadata": {},
   "outputs": [],
   "source": [
    "%jsroot on\n",
    "objectName=\"h2DNClustersEta\"\n",
    "if checkIfExists(rootDataFile,objectName):\n",
    "    [quants,legend,canvas] = drawQuantileProjection(objectName,rootDataFile,size=[1200,400])\n",
    "    updateColors(quants,cols)\n",
    "    canvas.SetGrid(1)\n",
    "    canvas.SetCanvasSize(700,400)\n",
    "    for quant in quants:\n",
    "        quant.GetXaxis().SetRangeUser(-1.1,1.1)\n",
    "        quant.GetYaxis().SetRangeUser(60,160)\n",
    "    legend.Draw()\n",
    "\n",
    "    histoOut, canvasOut = outlierDetection(objectName,quants,runList)\n",
    "    \n",
    "canvas.Draw()"
   ]
  },
  {
   "cell_type": "markdown",
   "id": "9254b83e",
   "metadata": {},
   "source": [
    "**nClusters vs transverse momentum**"
   ]
  },
  {
   "cell_type": "code",
   "execution_count": null,
   "id": "60716034-b41d-4983-a5a3-4dad574c907a",
   "metadata": {},
   "outputs": [],
   "source": [
    "%jsroot on\n",
    "objectName=\"h2DNClustersPt\"\n",
    "if checkIfExists(rootDataFile,objectName):\n",
    "    [quants,legend,canvas] = drawQuantileProjection(objectName,rootDataFile,size=[1000,400])\n",
    "    updateColors(quants,cols)\n",
    "    canvas.SetGrid(1)\n",
    "    canvas.SetCanvasSize(700,400)\n",
    "    canvas.SetLogx()\n",
    "    for quant in quants:\n",
    "        quant.GetYaxis().SetRangeUser(60,160)\n",
    "    legend.Draw()\n",
    "\n",
    "    histoOut, canvasOut = outlierDetection(objectName,quants,runList)\n",
    "    \n",
    "canvas.Draw()"
   ]
  },
  {
   "cell_type": "markdown",
   "id": "ae77aa8b",
   "metadata": {},
   "source": [
    "### DCAr"
   ]
  },
  {
   "cell_type": "markdown",
   "id": "dda7f5c0-a25a-40b0-b573-1b0e28ca0253",
   "metadata": {},
   "source": [
    "#### DCAr vs phi"
   ]
  },
  {
   "cell_type": "code",
   "execution_count": null,
   "id": "e439180b-5d8d-4c34-a993-64e1f7018737",
   "metadata": {},
   "outputs": [],
   "source": [
    "%jsroot on\n",
    "objectName=\"hDCAr_A_Pos\"\n",
    "if checkIfExists(rootDataFile,objectName):\n",
    "    [quants,legend,canvas] = drawQuantileProjection(objectName,rootDataFile,size=[1200,400])\n",
    "    updateColors(quants,cols)\n",
    "    canvas.SetGridy(1)\n",
    "    canvas.SetCanvasSize(1000,350)\n",
    "    for quant in quants:\n",
    "        quant.GetYaxis().SetRangeUser(-3,3)\n",
    "        quant.SetTitle(\"DCAr A-Side - Positive\")\n",
    "    canvas.cd()\n",
    "    sectorBoundary = ROOT.TLine(0,quant.GetMinimum(),0,quant.GetMaximum())\n",
    "    sectorBoundary.SetLineStyle(2)\n",
    "    sectorNum = ROOT.TText(.5,.5,\"test\")\n",
    "    sectorNum.SetTextAlign(22)\n",
    "    sectorNum.SetTextColor(ROOT.kGray+1)\n",
    "    sectorNum.SetTextFont(0)\n",
    "    for j in range(19):\n",
    "        sectorBoundary.DrawLine((j*2*math.pi)/18,quant.GetMinimum(),(j*2*math.pi)/18,quant.GetMaximum())\n",
    "        if j < 18 : sectorNum.DrawText(((j+0.5)*2*math.pi)/18,quant.GetMaximum()*0.95+quant.GetMinimum()*0.05,str(j))\n",
    "    \n",
    "    histoOut, canvasOut = outlierDetection(objectName,quants,runList)\n",
    "\n",
    "    legend.Draw()\n",
    "    canvas.Draw()"
   ]
  },
  {
   "cell_type": "code",
   "execution_count": null,
   "id": "b0eb056b-e630-4812-ac76-d98f9f62bfbf",
   "metadata": {},
   "outputs": [],
   "source": [
    "%jsroot on\n",
    "objectName=\"hDCAr_A_Neg\"\n",
    "if checkIfExists(rootDataFile,objectName):\n",
    "    [quants,legend,canvas] = drawQuantileProjection(objectName,rootDataFile,size=[1200,400])\n",
    "    updateColors(quants,cols)\n",
    "    canvas.SetGridy(1)\n",
    "    canvas.SetCanvasSize(1000,350)\n",
    "    for quant in quants:\n",
    "        quant.GetYaxis().SetRangeUser(-3,3)\n",
    "        quant.SetTitle(\"DCAr A-Side - Negative\")\n",
    "    canvas.cd()\n",
    "    sectorBoundary = ROOT.TLine(0,quant.GetMinimum(),0,quant.GetMaximum())\n",
    "    sectorBoundary.SetLineStyle(2)\n",
    "    sectorNum = ROOT.TText(.5,.5,\"test\")\n",
    "    sectorNum.SetTextAlign(22)\n",
    "    sectorNum.SetTextColor(ROOT.kGray+1)\n",
    "    sectorNum.SetTextFont(0)\n",
    "    for j in range(19):\n",
    "        sectorBoundary.DrawLine((j*2*math.pi)/18,quant.GetMinimum(),(j*2*math.pi)/18,quant.GetMaximum())\n",
    "        if j < 18 : sectorNum.DrawText(((j+0.5)*2*math.pi)/18,quant.GetMaximum()*0.95+quant.GetMinimum()*0.05,str(j))\n",
    "    \n",
    "    histoOut, canvasOut = outlierDetection(objectName,quants,runList)\n",
    "    \n",
    "    legend.Draw()\n",
    "    canvas.Draw()"
   ]
  },
  {
   "cell_type": "code",
   "execution_count": null,
   "id": "6f4125b9-2961-4315-9014-73ca4486a001",
   "metadata": {},
   "outputs": [],
   "source": [
    "%jsroot on\n",
    "objectName=\"hDCAr_C_Pos\"\n",
    "if checkIfExists(rootDataFile,objectName):\n",
    "    [quants,legend,canvas] = drawQuantileProjection(objectName,rootDataFile,size=[1200,400])\n",
    "    updateColors(quants,cols)\n",
    "    canvas.SetGridy(1)\n",
    "    canvas.SetCanvasSize(1000,350)\n",
    "    for quant in quants:\n",
    "        quant.GetYaxis().SetRangeUser(-3,3)\n",
    "        quant.SetTitle(\"DCAr C-Side - Positive\")\n",
    "    canvas.cd()\n",
    "    sectorBoundary = ROOT.TLine(0,quant.GetMinimum(),0,quant.GetMaximum())\n",
    "    sectorBoundary.SetLineStyle(2)\n",
    "    sectorNum = ROOT.TText(.5,.5,\"test\")\n",
    "    sectorNum.SetTextAlign(22)\n",
    "    sectorNum.SetTextColor(ROOT.kGray+1)\n",
    "    sectorNum.SetTextFont(0)\n",
    "    for j in range(19):\n",
    "        sectorBoundary.DrawLine((j*2*math.pi)/18,quant.GetMinimum(),(j*2*math.pi)/18,quant.GetMaximum())\n",
    "        if j < 18 : sectorNum.DrawText(((j+0.5)*2*math.pi)/18,quant.GetMaximum()*0.95+quant.GetMinimum()*0.05,str(j))\n",
    "\n",
    "    histoOut, canvasOut = outlierDetection(objectName,quants,runList)\n",
    "    \n",
    "    legend.Draw()\n",
    "    canvas.Draw()"
   ]
  },
  {
   "cell_type": "code",
   "execution_count": null,
   "id": "c8c8ae14-8f11-45e5-8edf-927a208859c2",
   "metadata": {},
   "outputs": [],
   "source": [
    "%jsroot on\n",
    "objectName=\"hDCAr_C_Neg\"\n",
    "if checkIfExists(rootDataFile,objectName):\n",
    "    [quants,legend,canvas] = drawQuantileProjection(objectName,rootDataFile,size=[1200,400])\n",
    "    updateColors(quants,cols)\n",
    "    canvas.SetGridy(1)\n",
    "    canvas.SetCanvasSize(1000,350)\n",
    "    for quant in quants:\n",
    "        quant.GetYaxis().SetRangeUser(-3,3)\n",
    "        quant.SetTitle(\"DCAr C-Side - Negative\")\n",
    "    canvas.cd()\n",
    "    sectorBoundary = ROOT.TLine(0,quant.GetMinimum(),0,quant.GetMaximum())\n",
    "    sectorBoundary.SetLineStyle(2)\n",
    "    sectorNum = ROOT.TText(.5,.5,\"test\")\n",
    "    sectorNum.SetTextAlign(22)\n",
    "    sectorNum.SetTextColor(ROOT.kGray+1)\n",
    "    sectorNum.SetTextFont(0)\n",
    "    for j in range(19):\n",
    "        sectorBoundary.DrawLine((j*2*math.pi)/18,quant.GetMinimum(),(j*2*math.pi)/18,quant.GetMaximum())\n",
    "        if j < 18 : sectorNum.DrawText(((j+0.5)*2*math.pi)/18,quant.GetMaximum()*0.95+quant.GetMinimum()*0.05,str(j))\n",
    "\n",
    "    histoOut, canvasOut = outlierDetection(objectName,quants,runList)\n",
    "    \n",
    "    legend.Draw()\n",
    "    canvas.Draw()"
   ]
  },
  {
   "cell_type": "markdown",
   "id": "17d81ac3",
   "metadata": {},
   "source": [
    "#### DCAr vs eta"
   ]
  },
  {
   "cell_type": "code",
   "execution_count": null,
   "id": "d3646de0",
   "metadata": {},
   "outputs": [],
   "source": [
    "%jsroot on\n",
    "objectName=\"hDCArVsEtaPos\"\n",
    "title = \"DCAr vs eta - Positive\"\n",
    "if checkIfExists(rootDataFile,objectName):\n",
    "    [quants,legend,canvas] = drawQuantileProjection(objectName,rootDataFile,size=[1200,400])\n",
    "    updateColors(quants,cols)\n",
    "    canvas.SetGrid(1)\n",
    "    canvas.SetCanvasSize(1000,350)\n",
    "    for quant in quants:\n",
    "        quant.GetYaxis().SetRangeUser(-3,3)\n",
    "        quant.GetXaxis().SetRangeUser(-1,1)\n",
    "        quant.SetTitle(title)\n",
    "    \n",
    "    histoOut, canvasOut = outlierDetection(objectName,quants,runList)\n",
    "    \n",
    "    canvas.cd()\n",
    "    legend.Draw()\n",
    "    canvas.Draw()"
   ]
  },
  {
   "cell_type": "code",
   "execution_count": null,
   "id": "66528b36",
   "metadata": {},
   "outputs": [],
   "source": [
    "%jsroot on\n",
    "objectName=\"hDCArVsEtaNeg\"\n",
    "title = \"DCAr vs eta - Negative\"\n",
    "if checkIfExists(rootDataFile,objectName):\n",
    "    [quants,legend,canvas] = drawQuantileProjection(objectName,rootDataFile,size=[1200,400])\n",
    "    updateColors(quants,cols)\n",
    "    canvas.SetGrid(1)\n",
    "    canvas.SetCanvasSize(1000,350)\n",
    "    for quant in quants:\n",
    "        quant.GetYaxis().SetRangeUser(-3,3)\n",
    "        quant.GetXaxis().SetRangeUser(-1,1)\n",
    "        quant.SetTitle(title)\n",
    "    \n",
    "    histoOut, canvasOut = outlierDetection(objectName,quants,runList)\n",
    "    \n",
    "    canvas.cd()\n",
    "    legend.Draw()\n",
    "    canvas.Draw()"
   ]
  },
  {
   "cell_type": "markdown",
   "id": "caaa7f41",
   "metadata": {},
   "source": [
    "#### DCAr vs pT"
   ]
  },
  {
   "cell_type": "code",
   "execution_count": null,
   "id": "840c3f0c",
   "metadata": {},
   "outputs": [],
   "source": [
    "%jsroot on\n",
    "objectName=\"hDCArVsPtPos\"\n",
    "title = \"DCAr vs pT - Positive\"\n",
    "if checkIfExists(rootDataFile,objectName):\n",
    "    [quants,legend,canvas] = drawQuantileProjection(objectName,rootDataFile,size=[1200,400])\n",
    "    updateColors(quants,cols)\n",
    "    canvas.SetGrid(1)\n",
    "    canvas.SetCanvasSize(1000,350)\n",
    "    for quant in quants:\n",
    "        quant.GetYaxis().SetRangeUser(-3,3)\n",
    "        quant.GetXaxis().SetRangeUser(0.1,20)\n",
    "        quant.SetTitle(title)\n",
    "    \n",
    "    histoOut, canvasOut = outlierDetection(objectName,quants,runList)\n",
    "    \n",
    "    canvas.cd()\n",
    "    legend.Draw()\n",
    "    canvas.SetLogx()\n",
    "    canvas.Draw()"
   ]
  },
  {
   "cell_type": "code",
   "execution_count": null,
   "id": "5fd537df",
   "metadata": {},
   "outputs": [],
   "source": [
    "%jsroot on\n",
    "objectName=\"hDCArVsPtNeg\"\n",
    "title = \"DCAr vs pT - Negative\"\n",
    "if checkIfExists(rootDataFile,objectName):\n",
    "    [quants,legend,canvas] = drawQuantileProjection(objectName,rootDataFile,size=[1200,400])\n",
    "    updateColors(quants,cols)\n",
    "    canvas.SetGrid(1)\n",
    "    canvas.SetCanvasSize(1000,350)\n",
    "    for quant in quants:\n",
    "        quant.GetYaxis().SetRangeUser(-3,3)\n",
    "        quant.GetXaxis().SetRangeUser(0.1,20)\n",
    "        quant.SetTitle(title)\n",
    "    \n",
    "    histoOut, canvasOut = outlierDetection(objectName,quants,runList)\n",
    "    \n",
    "    canvas.cd()\n",
    "    legend.Draw()\n",
    "    canvas.SetLogx()\n",
    "    canvas.Draw()"
   ]
  },
  {
   "cell_type": "markdown",
   "id": "ded5bdf8",
   "metadata": {},
   "source": [
    "#### DCAr vs nClusters"
   ]
  },
  {
   "cell_type": "code",
   "execution_count": null,
   "id": "9e2c1dfa",
   "metadata": {},
   "outputs": [],
   "source": [
    "%jsroot on\n",
    "objectName=\"hDCArVsNClsPos\"\n",
    "title = \"DCAr vs nClusters - Positive\"\n",
    "if checkIfExists(rootDataFile,objectName):\n",
    "    [quants,legend,canvas] = drawQuantileProjection(objectName,rootDataFile,size=[1200,400])\n",
    "    updateColors(quants,cols)\n",
    "    canvas.SetGrid(1)\n",
    "    canvas.SetCanvasSize(1000,350)\n",
    "    for quant in quants:\n",
    "        quant.GetYaxis().SetRangeUser(-3,3)\n",
    "        quant.GetXaxis().SetRangeUser(60,160)\n",
    "        quant.SetTitle(title)\n",
    "    \n",
    "    histoOut, canvasOut = outlierDetection(objectName,quants,runList)\n",
    "    \n",
    "    canvas.cd()\n",
    "    legend.Draw()\n",
    "    canvas.Draw()"
   ]
  },
  {
   "cell_type": "code",
   "execution_count": null,
   "id": "022bfc79",
   "metadata": {},
   "outputs": [],
   "source": [
    "%jsroot on\n",
    "objectName=\"hDCArVsNClsNeg\"\n",
    "title = \"DCAr vs nClusters - Negative\"\n",
    "if checkIfExists(rootDataFile,objectName):\n",
    "    [quants,legend,canvas] = drawQuantileProjection(objectName,rootDataFile,size=[1200,400])\n",
    "    updateColors(quants,cols)\n",
    "    canvas.SetGrid(1)\n",
    "    canvas.SetCanvasSize(1000,350)\n",
    "    for quant in quants:\n",
    "        quant.GetYaxis().SetRangeUser(-3,3)\n",
    "        quant.GetXaxis().SetRangeUser(60,160)\n",
    "        quant.SetTitle(title)\n",
    "    \n",
    "    histoOut, canvasOut = outlierDetection(objectName,quants,runList)\n",
    "    \n",
    "    canvas.cd()\n",
    "    legend.Draw()\n",
    "    canvas.Draw()"
   ]
  },
  {
   "cell_type": "markdown",
   "id": "8d8b92cf",
   "metadata": {},
   "source": [
    "### PID\n",
    "#### dEdxTot of MIP"
   ]
  },
  {
   "cell_type": "code",
   "execution_count": null,
   "id": "e1995b55-5a5f-4cd2-8615-25288a28c662",
   "metadata": {},
   "outputs": [],
   "source": [
    "%jsroot on\n",
    "objects = [\"hdEdxTotMIP_\" + region for region in [\"TPC\",\"IROC\",\"OROC1\",\"OROC2\",\"OROC3\"]]\n",
    "if all([checkIfExists(rootDataFile,objectName) for objectName in objects]):\n",
    "    hists = []\n",
    "    for objectName in objects:\n",
    "        [hist,legend,canvas,pad1] = drawHistograms(objectName,rootDataFile,normalize=True,legend=True,legendNames=LegRunParam,pads=False,\n",
    "                                               drawOption=\"HIST E SAME\",log=\"logx\")\n",
    "        updateColors(hist,cols)\n",
    "        hists.append(copy(hist))\n",
    "    c = ROOT.TCanvas(\"MIP\",\"MIP\",1100,600)\n",
    "    c.Divide(2)\n",
    "    leftPad = c.cd(1)\n",
    "    leftPad.SetGrid(1)\n",
    "    ranges = [updateRanges(histograms) for histograms in hists]\n",
    "\n",
    "    histoOut, canvasOut = outlierDetection(objectName,hists[0],runList)\n",
    "\n",
    "    for hist in hists[0]:\n",
    "        hist.Draw(\"HIST E SAME\")\n",
    "        hist.SetStats(0)\n",
    "    #Draw target 50\n",
    "    targets = [ROOT.TLine(50,yRange[0],50,yRange[1]) for yRange in ranges]\n",
    "    for i in range(len(objects)):\n",
    "        targets[i].SetLineStyle(2)\n",
    "        targets[i].SetLineColor(3)\n",
    "        targets[i].SetLineWidth(3)\n",
    "    targets[0].Draw()\n",
    "    legend.SetHeader(\"Normalized to integral, #Run polarity IRstart IRmid IRend\", \"C\")\n",
    "    legend.Draw()\n",
    "    rightPad = c.cd(2)\n",
    "    rightPad.Divide(2,2)\n",
    "    for i in range(1,5):\n",
    "        rightPad.cd(i)\n",
    "        ROOT.gPad.SetGrid(1)\n",
    "\n",
    "        histoOut, canvasOut = outlierDetection(objectName,hists[i],runList)\n",
    "        \n",
    "        for hist in hists[i]:\n",
    "            hist.Draw(\"HIST E SAME\")\n",
    "            hist.SetStats(0)\n",
    "        targets[i].Draw()\n",
    "    c.Draw()"
   ]
  },
  {
   "cell_type": "markdown",
   "id": "b9ed6bf3",
   "metadata": {},
   "source": [
    "#### TPC Gain calibration\n",
    "**dEdx of MIP vs sector**"
   ]
  },
  {
   "cell_type": "code",
   "execution_count": null,
   "id": "b3d4f947-e97e-4c8d-9e0d-c22eef7d2913",
   "metadata": {},
   "outputs": [],
   "source": [
    "%jsroot on\n",
    "objectName=\"hdEdxTotMIPVsSec_TPC\"\n",
    "\n",
    "if checkIfExists(rootDataFile,objectName):\n",
    "    [fits_mean,legend_mean,canvas_mean] = sliceAndFit(objectName,rootDataFile,size=[1200,400])\n",
    "    updateColors(fits_mean,cols)\n",
    "    canvas_mean.SetGridy(1)\n",
    "    canvas_mean.SetCanvasSize(1000,350)\n",
    "    for fit in fits_mean:\n",
    "        fit.GetYaxis().SetRangeUser(45,55)\n",
    "        fit.SetTitle(\"TPC Mean MIP Q_{Tot} vs Sector\")\n",
    "    sectorBoundary = ROOT.TLine()\n",
    "    sectorBoundary.SetLineStyle(2)\n",
    "    sectorBoundary.SetLineColor(ROOT.kBlack)\n",
    "    sectorBoundary.SetLineWidth(2)\n",
    "    sectorBoundary.DrawLine(0,50,36,50)\n",
    "\n",
    "    histoOut, canvasOut = outlierDetection(objectName,fits_mean,runList)\n",
    "\n",
    "    canvas_mean.cd()\n",
    "    canvas_mean.Draw()\n",
    "    \n",
    "if checkIfExists(rootDataFile,objectName):\n",
    "    [fits_width,legend_width,canvas_width] = sliceAndFitWidth(objectName,rootDataFile,size=[1200,400])\n",
    "    updateColors(fits_width,cols)\n",
    "    canvas_width.SetGridy(1)\n",
    "    canvas_width.SetCanvasSize(1000,350)\n",
    "    for fit in fits_width:\n",
    "        fit.GetYaxis().SetRangeUser(0,10)\n",
    "        fit.SetTitle(\"TPC Width MIP Q_{Tot} vs Sector\")\n",
    "    sectorBoundary = ROOT.TLine()\n",
    "    sectorBoundary.SetLineStyle(2)\n",
    "    sectorBoundary.SetLineColor(ROOT.kBlack)\n",
    "    sectorBoundary.SetLineWidth(2)\n",
    "    sectorBoundary.DrawLine(0,50,36,50)\n",
    "\n",
    "    histoOut, canvasOut = outlierDetection(objectName,fits_width,runList)\n",
    "\n",
    "    canvas_width.cd()\n",
    "    canvas_width.Draw()\n"
   ]
  },
  {
   "cell_type": "markdown",
   "id": "dedc1882",
   "metadata": {},
   "source": [
    "**dEdx of Mip vs nClusters**"
   ]
  },
  {
   "cell_type": "code",
   "execution_count": null,
   "id": "91d4c491-8c38-4a13-8221-6e164424c2af",
   "metadata": {},
   "outputs": [],
   "source": [
    "%jsroot on\n",
    "objectName=\"hdEdxTotMIPVsNcl_TPC\"\n",
    "\n",
    "if checkIfExists(rootDataFile,objectName):\n",
    "    [fits_mean,legend_mean,canvas_mean] = sliceAndFit(objectName,rootDataFile,size=[1200,400])\n",
    "    updateColors(fits_mean,cols)\n",
    "    canvas_mean.SetGridy(1)\n",
    "    canvas_mean.SetCanvasSize(1000,350)\n",
    "    for fit in fits_mean:\n",
    "        fit.GetYaxis().SetRangeUser(45,55)\n",
    "        fit.GetXaxis().SetRangeUser(60,160)\n",
    "        fit.SetTitle(\"TPC Mean MIP Q_{Tot} vs nClusters\")\n",
    "    sectorBoundary = ROOT.TLine()\n",
    "    sectorBoundary.SetLineStyle(2)\n",
    "    sectorBoundary.SetLineColor(ROOT.kBlack)\n",
    "    sectorBoundary.SetLineWidth(2)\n",
    "    sectorBoundary.DrawLine(60,50,153,50)\n",
    "\n",
    "    histoOut, canvasOut = outlierDetection(objectName,fits_mean,runList)\n",
    "\n",
    "    canvas_mean.cd()\n",
    "    canvas_mean.Draw()\n",
    "\n",
    "if checkIfExists(rootDataFile,objectName):\n",
    "    [fits_width,legend_width,canvas_width] = sliceAndFitWidth(objectName,rootDataFile,size=[1200,400])\n",
    "    updateColors(fits_width,cols)\n",
    "    canvas_width.SetGridy(1)\n",
    "    canvas_width.SetCanvasSize(1000,350)\n",
    "    for fit in fits_width:\n",
    "        fit.GetYaxis().SetRangeUser(0,10)\n",
    "        fit.SetTitle(\"TPC Width MIP Q_{Tot} vs nClusters\")\n",
    "    sectorBoundary = ROOT.TLine()\n",
    "    sectorBoundary.SetLineStyle(2)\n",
    "    sectorBoundary.SetLineColor(ROOT.kBlack)\n",
    "    sectorBoundary.SetLineWidth(2)\n",
    "    sectorBoundary.DrawLine(0,50,36,50)\n",
    "\n",
    "    histoOut, canvasOut = outlierDetection(objectName,fits_width,runList)\n",
    "\n",
    "    canvas_width.cd()\n",
    "    canvas_width.Draw()\n"
   ]
  },
  {
   "cell_type": "markdown",
   "id": "61714520",
   "metadata": {},
   "source": [
    "**dEdx of Mip vs sin(phi)**"
   ]
  },
  {
   "cell_type": "code",
   "execution_count": null,
   "id": "c5e9bdae-e112-472e-be5a-82277ad7ea37",
   "metadata": {},
   "outputs": [],
   "source": [
    "%jsroot on\n",
    "objectName=\"hdEdxTotMIPVsSnp_TPC\"\n",
    "\n",
    "if checkIfExists(rootDataFile,objectName):\n",
    "    [fits_mean,legend_mean,canvas_mean] = sliceAndFit(objectName,rootDataFile,fitRange=[40,60],size=[1200,400])\n",
    "    updateColors(fits_mean,cols)\n",
    "    canvas_mean.SetGridy(1)\n",
    "    canvas_mean.SetCanvasSize(1000,350)\n",
    "    for fit in fits_mean:\n",
    "        fit.GetYaxis().SetRangeUser(35,65)\n",
    "        fit.GetXaxis().SetRangeUser(-1,1)\n",
    "        fit.SetTitle(\"TPC Mean MIP Q_{Tot} vs sin(phi)\")\n",
    "        sectorBoundary = ROOT.TLine()\n",
    "        sectorBoundary.SetLineStyle(2)\n",
    "        sectorBoundary.SetLineColor(ROOT.kBlack)\n",
    "        sectorBoundary.SetLineWidth(2)\n",
    "        sectorBoundary.DrawLine(-1,50,1,50)\n",
    "    \n",
    "    histoOut, canvasOut = outlierDetection(objectName,fits_mean,runList)\n",
    "\n",
    "    canvas_mean.cd()\n",
    "    canvas_mean.Draw()\n",
    "\n",
    "if checkIfExists(rootDataFile,objectName):\n",
    "    [fits_width,legend_width,canvas_width] = sliceAndFitWidth(objectName,rootDataFile,size=[1200,400])\n",
    "    updateColors(fits_width,cols)\n",
    "    canvas_width.SetGridy(1)\n",
    "    canvas_width.SetCanvasSize(1000,350)\n",
    "    for fit in fits_width:\n",
    "        fit.GetYaxis().SetRangeUser(0,30)\n",
    "        fit.SetTitle(\"TPC Width MIP Q_{Tot} vs sin(phi)\")\n",
    "    sectorBoundary = ROOT.TLine()\n",
    "    sectorBoundary.SetLineStyle(2)\n",
    "    sectorBoundary.SetLineColor(ROOT.kBlack)\n",
    "    sectorBoundary.SetLineWidth(2)\n",
    "    sectorBoundary.DrawLine(0,50,36,50)\n",
    "\n",
    "    histoOut, canvasOut = outlierDetection(objectName,fits_width,runList)\n",
    "\n",
    "    canvas_width.cd()\n",
    "    canvas_width.Draw()\n"
   ]
  },
  {
   "cell_type": "markdown",
   "id": "560a30ec",
   "metadata": {},
   "source": [
    "**dEdx of Mip vs tan(lambda)**"
   ]
  },
  {
   "cell_type": "code",
   "execution_count": null,
   "id": "ea06236c-f411-42e6-a8f6-6cb0c3b96a4b",
   "metadata": {},
   "outputs": [],
   "source": [
    "%jsroot on\n",
    "objectName=\"hdEdxTotMIPVsTgl_TPC\"\n",
    "if checkIfExists(rootDataFile,objectName):\n",
    "    [fits_mean,legend_mean,canvas_mean] = sliceAndFit(objectName,rootDataFile,fitRange=[40,60],size=[1200,400])\n",
    "    updateColors(fits_mean,cols)\n",
    "    canvas_mean.SetGridy(1)\n",
    "    canvas_mean.SetCanvasSize(1000,350)\n",
    "    for fit in fits_mean:\n",
    "        fit.GetYaxis().SetRangeUser(45,55)\n",
    "        fit.GetXaxis().SetRangeUser(-2,2)\n",
    "        fit.SetTitle(\"TPC Mean MIP Q_{Tot} vs tan(lambda)\")\n",
    "        sectorBoundary = ROOT.TLine()\n",
    "        sectorBoundary.SetLineStyle(2)\n",
    "        sectorBoundary.SetLineColor(ROOT.kBlack)\n",
    "        sectorBoundary.SetLineWidth(2)\n",
    "        sectorBoundary.DrawLine(-2,50,2,50)\n",
    "\n",
    "    histoOut, canvasOut = outlierDetection(objectName,fits_mean,runList)\n",
    "    \n",
    "    canvas_mean.cd()\n",
    "    canvas_mean.Draw()\n",
    "    \n",
    "if checkIfExists(rootDataFile,objectName):\n",
    "    [fits_width,legend_width,canvas_width] = sliceAndFitWidth(objectName,rootDataFile,size=[1200,400])\n",
    "    updateColors(fits_width,cols)\n",
    "    canvas_width.SetGridy(1)\n",
    "    canvas_width.SetCanvasSize(1000,350)\n",
    "    for fit in fits_width:\n",
    "        fit.GetYaxis().SetRangeUser(0,10)\n",
    "        fit.SetTitle(\"TPC Width MIP Q_{Tot} vs tan(lambda)\")\n",
    "    sectorBoundary = ROOT.TLine()\n",
    "    sectorBoundary.SetLineStyle(2)\n",
    "    sectorBoundary.SetLineColor(ROOT.kBlack)\n",
    "    sectorBoundary.SetLineWidth(2)\n",
    "    sectorBoundary.DrawLine(0,50,36,50)\n",
    "\n",
    "    histoOut, canvasOut = outlierDetection(objectName,fits_width,runList)\n",
    "\n",
    "    canvas_width.cd()\n",
    "    canvas_width.Draw()\n"
   ]
  },
  {
   "cell_type": "markdown",
   "id": "4d5e6ec8",
   "metadata": {},
   "source": [
    "#### PID Hypothesis Profile"
   ]
  },
  {
   "cell_type": "code",
   "execution_count": null,
   "id": "74235946",
   "metadata": {},
   "outputs": [],
   "source": [
    "%jsroot on\n",
    "if checkIfExists(rootDataFile, \"CdEdxPIDHypothesisVsp\") and checkIfExists(rootDataFile, \"hdEdxTotVsP_Pos_TPC\"):\n",
    "    canvas = ROOT.TCanvas(\"\",\"\",1200,600)\n",
    "    legend = ROOT.TLegend()\n",
    "    profilesAllRuns = [getPIDProfiles(file,charge=\"pos\",rebin=4)[1] for file in rootDataFile]\n",
    "    canvas.cd()\n",
    "    for i,run in enumerate(runList):\n",
    "        for j in range(len(profilesAllRuns[0])):\n",
    "            profilesAllRuns[i][j].SetName(f\"{run}-{profilesAllRuns[i][j].GetName()}\")\n",
    "            profilesAllRuns[i][j].SetMinimum(20)\n",
    "            profilesAllRuns[i][j].SetMaximum(6000)\n",
    "            profilesAllRuns[i][j].SetLineWidth(2)\n",
    "            profilesAllRuns[i][j].SetLineColor(colors[i])\n",
    "            profilesAllRuns[i][j].Draw(\"HIST E SAME\")\n",
    "        #legend.AddEntry(profilesAllRuns[i][j],run)\n",
    "        legend.AddEntry(profilesAllRuns[i][j],LegRunParam[i])\n",
    "    \n",
    "    # Loop over profiles (j) for all runs\n",
    "    #for j in range(len(profilesAllRuns[0])):  # Iterate over the same plot for all runs\n",
    "        # For each profile j, compare the same profile across all runs\n",
    "        histoOut, canvasOut = outlierDetection(f\"profile_{j}\", [profilesAllRuns[i][j] for i in range(len(runList))], runList)\n",
    "    \n",
    "    canvas.SetGrid()\n",
    "    canvas.SetLogx()\n",
    "    canvas.SetLogy()\n",
    "    legend.SetNColumns(math.ceil(len(rootDataFile)/8))\n",
    "    legend.SetHeader(\"#Run polarity IRstart IRmid IRend\", \"C\")\n",
    "    legend.Draw()\n",
    "    canvas.Draw()"
   ]
  },
  {
   "cell_type": "code",
   "execution_count": null,
   "id": "46706c19",
   "metadata": {},
   "outputs": [],
   "source": [
    "%jsroot on\n",
    "if checkIfExists(rootDataFile, \"CdEdxPIDHypothesisVsp\") and checkIfExists(rootDataFile, \"hdEdxTotVsP_Neg_TPC\"):\n",
    "    canvas = ROOT.TCanvas(\"\",\"\",1200,600)\n",
    "    legend = ROOT.TLegend()\n",
    "    profilesAllRuns = [getPIDProfiles(file,charge=\"neg\",rebin=4)[1] for file in rootDataFile]\n",
    "    canvas.cd()\n",
    "    for i,run in enumerate(runList):\n",
    "        for j in range(len(profilesAllRuns[0])):\n",
    "            profilesAllRuns[i][j].SetName(f\"{run}-{profilesAllRuns[i][j].GetName()}\")\n",
    "            profilesAllRuns[i][j].SetMinimum(20)\n",
    "            profilesAllRuns[i][j].SetMaximum(6000)\n",
    "            profilesAllRuns[i][j].SetLineWidth(2)\n",
    "            profilesAllRuns[i][j].SetLineColor(colors[i])\n",
    "            profilesAllRuns[i][j].Draw(\"HIST E SAME\")\n",
    "        #legend.AddEntry(profilesAllRuns[i][j],run)\n",
    "        legend.AddEntry(profilesAllRuns[i][j],LegRunParam[i])\n",
    "    \n",
    "    # Loop over profiles (j) for all runs\n",
    "    for j in range(len(profilesAllRuns[0])):  # Iterate over the same plot for all runs\n",
    "        # For each profile j, compare the same profile across all runs\n",
    "        histoOut, canvasOut = outlierDetection(f\"profile_{j}\", [profilesAllRuns[i][j] for i in range(len(runList))], runList)\n",
    "    \n",
    "    canvas.SetGrid()\n",
    "    canvas.SetLogx()\n",
    "    canvas.SetLogy()\n",
    "    legend.SetNColumns(math.ceil(len(rootDataFile)/8))\n",
    "    legend.SetHeader(\"#Run polarity IRstart IRmid IRend\", \"C\")\n",
    "    legend.Draw()\n",
    "    canvas.Draw()"
   ]
  }
 ],
 "metadata": {
  "kernelspec": {
   "display_name": "Python 3 (ipykernel)",
   "language": "python",
   "name": "python3"
  },
  "language_info": {
   "codemirror_mode": {
    "name": "ipython",
    "version": 3
   },
   "file_extension": ".py",
   "mimetype": "text/x-python",
   "name": "python",
   "nbconvert_exporter": "python",
   "pygments_lexer": "ipython3",
   "version": "3.9.16"
  },
  "toc": {
   "base_numbering": 1,
   "nav_menu": {},
   "number_sections": false,
   "sideBar": false,
   "skip_h1_title": true,
   "title_cell": "Table of Contents",
   "title_sidebar": "Contents",
   "toc_cell": true,
   "toc_position": {},
   "toc_section_display": true,
   "toc_window_display": false
  },
  "widgets": {
   "application/vnd.jupyter.widget-state+json": {
    "state": {
     "0406058ce7b34920a5002f002b388a11": {
      "model_module": "@jupyter-widgets/output",
      "model_module_version": "1.0.0",
      "model_name": "OutputModel",
      "state": {
       "layout": "IPY_MODEL_e5c089c3d1f54e06aa7c69d6be7b7d7a"
      }
     },
     "04f7abbb945649049c088602c240cddf": {
      "model_module": "@jupyter-widgets/controls",
      "model_module_version": "1.4.0",
      "model_name": "ButtonModel",
      "state": {
       "_model_module_version": "1.4.0",
       "_view_module_version": "1.4.0",
       "description": "Save to Root",
       "layout": "IPY_MODEL_a3a8439080a4433c8cfc3592bcac145a",
       "style": "IPY_MODEL_ca9438839a46429aaa3f24354ee42db5"
      }
     },
     "0879c08a037c40b59978c9acbf2b6698": {
      "model_module": "@jupyter-widgets/controls",
      "model_module_version": "1.4.0",
      "model_name": "ButtonStyleModel",
      "state": {
       "_model_module_version": "1.4.0",
       "_view_module_version": "1.1.0"
      }
     },
     "0e66ecb30df5491980f781135fa73613": {
      "model_module": "@jupyter-widgets/controls",
      "model_module_version": "1.4.0",
      "model_name": "ButtonStyleModel",
      "state": {
       "_model_module_version": "1.4.0",
       "_view_module_version": "1.1.0"
      }
     },
     "0ee941a35f4e48c0ae62d26a3e4022b9": {
      "model_module": "@jupyter-widgets/controls",
      "model_module_version": "1.4.0",
      "model_name": "ButtonModel",
      "state": {
       "_model_module_version": "1.4.0",
       "_view_module_version": "1.4.0",
       "description": "Save to Root",
       "layout": "IPY_MODEL_4e0b4767d50c45d4a3059b25b084f5ae",
       "style": "IPY_MODEL_6f24f617f4e8405baa6588f13c520940"
      }
     },
     "1088528976754aab8271549957380321": {
      "model_module": "@jupyter-widgets/controls",
      "model_module_version": "1.4.0",
      "model_name": "ButtonModel",
      "state": {
       "_model_module_version": "1.4.0",
       "_view_module_version": "1.4.0",
       "description": "Save to PDF",
       "layout": "IPY_MODEL_56dbdc8b10b144ecab1eb0b2dd996fbe",
       "style": "IPY_MODEL_0879c08a037c40b59978c9acbf2b6698"
      }
     },
     "10ee510d3cee4e4fbc3f48e8b75680c2": {
      "model_module": "@jupyter-widgets/base",
      "model_module_version": "1.1.0",
      "model_name": "LayoutModel",
      "state": {
       "_model_module_version": "1.1.0",
       "_view_module_version": "1.1.0",
       "border": null,
       "overflow_x": null,
       "overflow_y": null
      }
     },
     "20e680f74b7d40f395649181965c1d39": {
      "model_module": "@jupyter-widgets/controls",
      "model_module_version": "1.4.0",
      "model_name": "ButtonStyleModel",
      "state": {
       "_model_module_version": "1.4.0",
       "_view_module_version": "1.1.0"
      }
     },
     "26fda7ba48bf41428588a380515d67c5": {
      "model_module": "@jupyter-widgets/base",
      "model_module_version": "1.1.0",
      "model_name": "LayoutModel",
      "state": {
       "_model_module_version": "1.1.0",
       "_view_module_version": "1.1.0",
       "border": null,
       "overflow_x": null,
       "overflow_y": null
      }
     },
     "2926bb68cdaa4f858a67ce97bd19c469": {
      "model_module": "@jupyter-widgets/output",
      "model_module_version": "1.0.0",
      "model_name": "OutputModel",
      "state": {
       "layout": "IPY_MODEL_9eb16856a0e443978661ce094f708029"
      }
     },
     "2ae503cdb98942fd9cfe9369ff0968de": {
      "model_module": "@jupyter-widgets/base",
      "model_module_version": "1.1.0",
      "model_name": "LayoutModel",
      "state": {
       "_model_module_version": "1.1.0",
       "_view_module_version": "1.1.0",
       "border": null,
       "overflow_x": null,
       "overflow_y": null
      }
     },
     "36c7b3e4573e44f19456b149ff230bc6": {
      "model_module": "@jupyter-widgets/base",
      "model_module_version": "1.1.0",
      "model_name": "LayoutModel",
      "state": {
       "_model_module_version": "1.1.0",
       "_view_module_version": "1.1.0",
       "border": null,
       "overflow_x": null,
       "overflow_y": null
      }
     },
     "384fad664c4549dbbfc6371a56598c46": {
      "model_module": "@jupyter-widgets/controls",
      "model_module_version": "1.4.0",
      "model_name": "ButtonStyleModel",
      "state": {
       "_model_module_version": "1.4.0",
       "_view_module_version": "1.1.0"
      }
     },
     "395a63505c3c454cac74c6db62abe6ec": {
      "model_module": "@jupyter-widgets/base",
      "model_module_version": "1.1.0",
      "model_name": "LayoutModel",
      "state": {
       "_model_module_version": "1.1.0",
       "_view_module_version": "1.1.0",
       "border": null,
       "overflow_x": null,
       "overflow_y": null
      }
     },
     "3af37c07964a4ae7b4c80a9e18031e8c": {
      "model_module": "@jupyter-widgets/base",
      "model_module_version": "1.1.0",
      "model_name": "LayoutModel",
      "state": {
       "_model_module_version": "1.1.0",
       "_view_module_version": "1.1.0",
       "border": null,
       "overflow_x": null,
       "overflow_y": null
      }
     },
     "3dcab56d27034a0a9cd076681a0c3af3": {
      "model_module": "@jupyter-widgets/controls",
      "model_module_version": "1.4.0",
      "model_name": "ButtonStyleModel",
      "state": {
       "_model_module_version": "1.4.0",
       "_view_module_version": "1.1.0"
      }
     },
     "4e0b4767d50c45d4a3059b25b084f5ae": {
      "model_module": "@jupyter-widgets/base",
      "model_module_version": "1.1.0",
      "model_name": "LayoutModel",
      "state": {
       "_model_module_version": "1.1.0",
       "_view_module_version": "1.1.0",
       "border": null,
       "overflow_x": null,
       "overflow_y": null
      }
     },
     "50ad71ba430a4e65af089a66a036d98f": {
      "model_module": "@jupyter-widgets/output",
      "model_module_version": "1.0.0",
      "model_name": "OutputModel",
      "state": {
       "layout": "IPY_MODEL_7afbf7a09ee940d988779e898d39f6b1",
       "outputs": [
        {
         "ename": "NameError",
         "evalue": "name 'TFile' is not defined",
         "output_type": "error",
         "traceback": [
          "\u001b[0;31m---------------------------------------------------------------------------\u001b[0m",
          "\u001b[0;31mNameError\u001b[0m                                 Traceback (most recent call last)",
          "\u001b[0;32m<ipython-input-43-4b1715ce1e25>\u001b[0m in \u001b[0;36msaveButtonRoot\u001b[0;34m(b)\u001b[0m\n\u001b[1;32m      5\u001b[0m \u001b[0;32mdef\u001b[0m \u001b[0msaveButtonRoot\u001b[0m\u001b[0;34m(\u001b[0m\u001b[0mb\u001b[0m\u001b[0;34m)\u001b[0m\u001b[0;34m:\u001b[0m\u001b[0;34m\u001b[0m\u001b[0;34m\u001b[0m\u001b[0m\n\u001b[1;32m      6\u001b[0m     \u001b[0;32mwith\u001b[0m \u001b[0moutput\u001b[0m\u001b[0;34m:\u001b[0m\u001b[0;34m\u001b[0m\u001b[0;34m\u001b[0m\u001b[0m\n\u001b[0;32m----> 7\u001b[0;31m         \u001b[0;32mwith\u001b[0m \u001b[0mTFile\u001b[0m\u001b[0;34m(\u001b[0m\u001b[0;34m\"file1.root\"\u001b[0m\u001b[0;34m,\u001b[0m \u001b[0;34m\"recreate\"\u001b[0m\u001b[0;34m)\u001b[0m \u001b[0;32mas\u001b[0m \u001b[0moutfile\u001b[0m\u001b[0;34m:\u001b[0m\u001b[0;34m\u001b[0m\u001b[0;34m\u001b[0m\u001b[0m\n\u001b[0m\u001b[1;32m      8\u001b[0m             \u001b[0moutfile\u001b[0m\u001b[0;34m.\u001b[0m\u001b[0mWriteObject\u001b[0m\u001b[0;34m(\u001b[0m\u001b[0mcanvas\u001b[0m\u001b[0;34m,\u001b[0m \u001b[0;34m\"myCanvas\"\u001b[0m\u001b[0;34m)\u001b[0m\u001b[0;34m\u001b[0m\u001b[0;34m\u001b[0m\u001b[0m\n",
          "\u001b[0;31mNameError\u001b[0m: name 'TFile' is not defined"
         ]
        }
       ]
      }
     },
     "56dbdc8b10b144ecab1eb0b2dd996fbe": {
      "model_module": "@jupyter-widgets/base",
      "model_module_version": "1.1.0",
      "model_name": "LayoutModel",
      "state": {
       "_model_module_version": "1.1.0",
       "_view_module_version": "1.1.0",
       "border": null,
       "overflow_x": null,
       "overflow_y": null
      }
     },
     "60e33b896df246778339f4dff4be8f25": {
      "model_module": "@jupyter-widgets/controls",
      "model_module_version": "1.4.0",
      "model_name": "ButtonModel",
      "state": {
       "_model_module_version": "1.4.0",
       "_view_module_version": "1.4.0",
       "description": "Save to PDF",
       "layout": "IPY_MODEL_395a63505c3c454cac74c6db62abe6ec",
       "style": "IPY_MODEL_818a6a2006cd45a685b9b1bbc4db9c76"
      }
     },
     "62f5350b3b1440088cb5206a67058fde": {
      "model_module": "@jupyter-widgets/base",
      "model_module_version": "1.1.0",
      "model_name": "LayoutModel",
      "state": {
       "_model_module_version": "1.1.0",
       "_view_module_version": "1.1.0",
       "border": null,
       "overflow_x": null,
       "overflow_y": null
      }
     },
     "695713c99706467f875821a5ef7f992e": {
      "model_module": "@jupyter-widgets/controls",
      "model_module_version": "1.4.0",
      "model_name": "ButtonStyleModel",
      "state": {
       "_model_module_version": "1.4.0",
       "_view_module_version": "1.1.0"
      }
     },
     "6a80bacd37dd4454a07080adc1395665": {
      "model_module": "@jupyter-widgets/base",
      "model_module_version": "1.1.0",
      "model_name": "LayoutModel",
      "state": {
       "_model_module_version": "1.1.0",
       "_view_module_version": "1.1.0",
       "border": null,
       "overflow_x": null,
       "overflow_y": null
      }
     },
     "6b44fe66f54148a9995780522c1665ad": {
      "model_module": "@jupyter-widgets/controls",
      "model_module_version": "1.4.0",
      "model_name": "ButtonModel",
      "state": {
       "_model_module_version": "1.4.0",
       "_view_module_version": "1.4.0",
       "description": "Save to Root",
       "layout": "IPY_MODEL_36c7b3e4573e44f19456b149ff230bc6",
       "style": "IPY_MODEL_72aeead3a6904e9ea2c2a224224a8c63"
      }
     },
     "6f24f617f4e8405baa6588f13c520940": {
      "model_module": "@jupyter-widgets/controls",
      "model_module_version": "1.4.0",
      "model_name": "ButtonStyleModel",
      "state": {
       "_model_module_version": "1.4.0",
       "_view_module_version": "1.1.0"
      }
     },
     "72aeead3a6904e9ea2c2a224224a8c63": {
      "model_module": "@jupyter-widgets/controls",
      "model_module_version": "1.4.0",
      "model_name": "ButtonStyleModel",
      "state": {
       "_model_module_version": "1.4.0",
       "_view_module_version": "1.1.0"
      }
     },
     "7afbf7a09ee940d988779e898d39f6b1": {
      "model_module": "@jupyter-widgets/base",
      "model_module_version": "1.1.0",
      "model_name": "LayoutModel",
      "state": {
       "_model_module_version": "1.1.0",
       "_view_module_version": "1.1.0",
       "border": null,
       "overflow_x": null,
       "overflow_y": null
      }
     },
     "818a6a2006cd45a685b9b1bbc4db9c76": {
      "model_module": "@jupyter-widgets/controls",
      "model_module_version": "1.4.0",
      "model_name": "ButtonStyleModel",
      "state": {
       "_model_module_version": "1.4.0",
       "_view_module_version": "1.1.0"
      }
     },
     "823ef688583b43b3b7dc29e5d3422aa8": {
      "model_module": "@jupyter-widgets/output",
      "model_module_version": "1.0.0",
      "model_name": "OutputModel",
      "state": {
       "layout": "IPY_MODEL_8aa1aa0ffe69479fba520c5f0e95576b"
      }
     },
     "831b63241ada4949ae7ddc9cf3f6f3ad": {
      "model_module": "@jupyter-widgets/base",
      "model_module_version": "1.1.0",
      "model_name": "LayoutModel",
      "state": {
       "_model_module_version": "1.1.0",
       "_view_module_version": "1.1.0",
       "border": null,
       "overflow_x": null,
       "overflow_y": null
      }
     },
     "8417421b463a46c9872d37497c3b663d": {
      "model_module": "@jupyter-widgets/controls",
      "model_module_version": "1.4.0",
      "model_name": "ButtonModel",
      "state": {
       "_model_module_version": "1.4.0",
       "_view_module_version": "1.4.0",
       "description": "Save to Root",
       "layout": "IPY_MODEL_9a4fe9d3c94d4621bf792f335bbd40fe",
       "style": "IPY_MODEL_f771512ee9df4ba5bee6a026a4e83de5"
      }
     },
     "8aa1aa0ffe69479fba520c5f0e95576b": {
      "model_module": "@jupyter-widgets/base",
      "model_module_version": "1.1.0",
      "model_name": "LayoutModel",
      "state": {
       "_model_module_version": "1.1.0",
       "_view_module_version": "1.1.0",
       "border": null,
       "overflow_x": null,
       "overflow_y": null
      }
     },
     "8d62ef6a181e417c949955ba277e179d": {
      "model_module": "@jupyter-widgets/output",
      "model_module_version": "1.0.0",
      "model_name": "OutputModel",
      "state": {
       "layout": "IPY_MODEL_b9925dbb44cf40f0a3e0fa6aaff4d77f",
       "outputs": [
        {
         "ename": "AttributeError",
         "evalue": "__enter__",
         "output_type": "error",
         "traceback": [
          "\u001b[0;31m---------------------------------------------------------------------------\u001b[0m",
          "\u001b[0;31mAttributeError\u001b[0m                            Traceback (most recent call last)",
          "\u001b[0;32m<ipython-input-46-87e37fcb9b6d>\u001b[0m in \u001b[0;36msaveButtonRoot\u001b[0;34m(b)\u001b[0m\n\u001b[1;32m      5\u001b[0m \u001b[0;32mdef\u001b[0m \u001b[0msaveButtonRoot\u001b[0m\u001b[0;34m(\u001b[0m\u001b[0mb\u001b[0m\u001b[0;34m)\u001b[0m\u001b[0;34m:\u001b[0m\u001b[0;34m\u001b[0m\u001b[0;34m\u001b[0m\u001b[0m\n\u001b[1;32m      6\u001b[0m     \u001b[0;32mwith\u001b[0m \u001b[0moutput\u001b[0m\u001b[0;34m:\u001b[0m\u001b[0;34m\u001b[0m\u001b[0;34m\u001b[0m\u001b[0m\n\u001b[0;32m----> 7\u001b[0;31m         \u001b[0;32mwith\u001b[0m \u001b[0mROOT\u001b[0m\u001b[0;34m.\u001b[0m\u001b[0mTFile\u001b[0m\u001b[0;34m(\u001b[0m\u001b[0;34m\"file1.root\"\u001b[0m\u001b[0;34m,\u001b[0m \u001b[0;34m\"recreate\"\u001b[0m\u001b[0;34m)\u001b[0m \u001b[0;32mas\u001b[0m \u001b[0moutfile\u001b[0m\u001b[0;34m:\u001b[0m\u001b[0;34m\u001b[0m\u001b[0;34m\u001b[0m\u001b[0m\n\u001b[0m\u001b[1;32m      8\u001b[0m             \u001b[0moutfile\u001b[0m\u001b[0;34m.\u001b[0m\u001b[0mWriteObject\u001b[0m\u001b[0;34m(\u001b[0m\u001b[0mcanvas\u001b[0m\u001b[0;34m,\u001b[0m \u001b[0;34m\"myCanvas\"\u001b[0m\u001b[0;34m)\u001b[0m\u001b[0;34m\u001b[0m\u001b[0;34m\u001b[0m\u001b[0m\n",
          "\u001b[0;31mAttributeError\u001b[0m: __enter__"
         ]
        },
        {
         "ename": "AttributeError",
         "evalue": "__enter__",
         "output_type": "error",
         "traceback": [
          "\u001b[0;31m---------------------------------------------------------------------------\u001b[0m",
          "\u001b[0;31mAttributeError\u001b[0m                            Traceback (most recent call last)",
          "\u001b[0;32m<ipython-input-46-87e37fcb9b6d>\u001b[0m in \u001b[0;36msaveButtonRoot\u001b[0;34m(b)\u001b[0m\n\u001b[1;32m      5\u001b[0m \u001b[0;32mdef\u001b[0m \u001b[0msaveButtonRoot\u001b[0m\u001b[0;34m(\u001b[0m\u001b[0mb\u001b[0m\u001b[0;34m)\u001b[0m\u001b[0;34m:\u001b[0m\u001b[0;34m\u001b[0m\u001b[0;34m\u001b[0m\u001b[0m\n\u001b[1;32m      6\u001b[0m     \u001b[0;32mwith\u001b[0m \u001b[0moutput\u001b[0m\u001b[0;34m:\u001b[0m\u001b[0;34m\u001b[0m\u001b[0;34m\u001b[0m\u001b[0m\n\u001b[0;32m----> 7\u001b[0;31m         \u001b[0;32mwith\u001b[0m \u001b[0mROOT\u001b[0m\u001b[0;34m.\u001b[0m\u001b[0mTFile\u001b[0m\u001b[0;34m(\u001b[0m\u001b[0;34m\"file1.root\"\u001b[0m\u001b[0;34m,\u001b[0m \u001b[0;34m\"recreate\"\u001b[0m\u001b[0;34m)\u001b[0m \u001b[0;32mas\u001b[0m \u001b[0moutfile\u001b[0m\u001b[0;34m:\u001b[0m\u001b[0;34m\u001b[0m\u001b[0;34m\u001b[0m\u001b[0m\n\u001b[0m\u001b[1;32m      8\u001b[0m             \u001b[0moutfile\u001b[0m\u001b[0;34m.\u001b[0m\u001b[0mWriteObject\u001b[0m\u001b[0;34m(\u001b[0m\u001b[0mcanvas\u001b[0m\u001b[0;34m,\u001b[0m \u001b[0;34m\"myCanvas\"\u001b[0m\u001b[0;34m)\u001b[0m\u001b[0;34m\u001b[0m\u001b[0;34m\u001b[0m\u001b[0m\n",
          "\u001b[0;31mAttributeError\u001b[0m: __enter__"
         ]
        }
       ]
      }
     },
     "9242204266e343ae8a441c776e80f4f0": {
      "model_module": "@jupyter-widgets/controls",
      "model_module_version": "1.4.0",
      "model_name": "ButtonStyleModel",
      "state": {
       "_model_module_version": "1.4.0",
       "_view_module_version": "1.1.0"
      }
     },
     "929e5779ad394a799083037ff870d526": {
      "model_module": "@jupyter-widgets/controls",
      "model_module_version": "1.4.0",
      "model_name": "ButtonStyleModel",
      "state": {
       "_model_module_version": "1.4.0",
       "_view_module_version": "1.1.0"
      }
     },
     "93749ab864be49de92dbce533bdae34f": {
      "model_module": "@jupyter-widgets/base",
      "model_module_version": "1.1.0",
      "model_name": "LayoutModel",
      "state": {
       "_model_module_version": "1.1.0",
       "_view_module_version": "1.1.0",
       "border": null,
       "overflow_x": null,
       "overflow_y": null
      }
     },
     "938ac682ac6545cfb80a6da1bc8c26c1": {
      "model_module": "@jupyter-widgets/output",
      "model_module_version": "1.0.0",
      "model_name": "OutputModel",
      "state": {
       "layout": "IPY_MODEL_ce589ac0e83d4bd38fd711550e349c6a"
      }
     },
     "9a4fe9d3c94d4621bf792f335bbd40fe": {
      "model_module": "@jupyter-widgets/base",
      "model_module_version": "1.1.0",
      "model_name": "LayoutModel",
      "state": {
       "_model_module_version": "1.1.0",
       "_view_module_version": "1.1.0",
       "border": null,
       "overflow_x": null,
       "overflow_y": null
      }
     },
     "9e2719717feb49c9938e46061e59b4a1": {
      "model_module": "@jupyter-widgets/output",
      "model_module_version": "1.0.0",
      "model_name": "OutputModel",
      "state": {
       "layout": "IPY_MODEL_10ee510d3cee4e4fbc3f48e8b75680c2"
      }
     },
     "9eb16856a0e443978661ce094f708029": {
      "model_module": "@jupyter-widgets/base",
      "model_module_version": "1.1.0",
      "model_name": "LayoutModel",
      "state": {
       "_model_module_version": "1.1.0",
       "_view_module_version": "1.1.0",
       "border": null,
       "overflow_x": null,
       "overflow_y": null
      }
     },
     "9fdc5097fef143f580581ed9f63baf19": {
      "model_module": "@jupyter-widgets/controls",
      "model_module_version": "1.4.0",
      "model_name": "ButtonModel",
      "state": {
       "_model_module_version": "1.4.0",
       "_view_module_version": "1.4.0",
       "description": "Save to PDF",
       "layout": "IPY_MODEL_6a80bacd37dd4454a07080adc1395665",
       "style": "IPY_MODEL_9242204266e343ae8a441c776e80f4f0"
      }
     },
     "a0caf4fc7e3e4a0daf064e63c0e3234a": {
      "model_module": "@jupyter-widgets/output",
      "model_module_version": "1.0.0",
      "model_name": "OutputModel",
      "state": {
       "layout": "IPY_MODEL_93749ab864be49de92dbce533bdae34f"
      }
     },
     "a2eef3a45bed4115932b9e88827850e1": {
      "model_module": "@jupyter-widgets/controls",
      "model_module_version": "1.4.0",
      "model_name": "ButtonModel",
      "state": {
       "_model_module_version": "1.4.0",
       "_view_module_version": "1.4.0",
       "description": "Save to PDF",
       "layout": "IPY_MODEL_831b63241ada4949ae7ddc9cf3f6f3ad",
       "style": "IPY_MODEL_20e680f74b7d40f395649181965c1d39"
      }
     },
     "a39b71b5f18a4a3089aae76958a3cc55": {
      "model_module": "@jupyter-widgets/base",
      "model_module_version": "1.1.0",
      "model_name": "LayoutModel",
      "state": {
       "_model_module_version": "1.1.0",
       "_view_module_version": "1.1.0",
       "border": null,
       "overflow_x": null,
       "overflow_y": null
      }
     },
     "a3a8439080a4433c8cfc3592bcac145a": {
      "model_module": "@jupyter-widgets/base",
      "model_module_version": "1.1.0",
      "model_name": "LayoutModel",
      "state": {
       "_model_module_version": "1.1.0",
       "_view_module_version": "1.1.0",
       "border": null,
       "overflow_x": null,
       "overflow_y": null
      }
     },
     "a8c867acf084415fba648604326f8c9d": {
      "model_module": "@jupyter-widgets/controls",
      "model_module_version": "1.4.0",
      "model_name": "ButtonStyleModel",
      "state": {
       "_model_module_version": "1.4.0",
       "_view_module_version": "1.1.0"
      }
     },
     "b635d6f1a72043699079245523aadc13": {
      "model_module": "@jupyter-widgets/base",
      "model_module_version": "1.1.0",
      "model_name": "LayoutModel",
      "state": {
       "_model_module_version": "1.1.0",
       "_view_module_version": "1.1.0",
       "border": null,
       "overflow_x": null,
       "overflow_y": null
      }
     },
     "b97779ed35cd4f1f8b3d360fd1d1cc0e": {
      "model_module": "@jupyter-widgets/controls",
      "model_module_version": "1.4.0",
      "model_name": "ButtonModel",
      "state": {
       "_model_module_version": "1.4.0",
       "_view_module_version": "1.4.0",
       "description": "Save to PDF",
       "layout": "IPY_MODEL_b635d6f1a72043699079245523aadc13",
       "style": "IPY_MODEL_0e66ecb30df5491980f781135fa73613"
      }
     },
     "b9925dbb44cf40f0a3e0fa6aaff4d77f": {
      "model_module": "@jupyter-widgets/base",
      "model_module_version": "1.1.0",
      "model_name": "LayoutModel",
      "state": {
       "_model_module_version": "1.1.0",
       "_view_module_version": "1.1.0",
       "border": null,
       "overflow_x": null,
       "overflow_y": null
      }
     },
     "c38d6de6905f44c4b32b9c73fb8276ba": {
      "model_module": "@jupyter-widgets/controls",
      "model_module_version": "1.4.0",
      "model_name": "ButtonModel",
      "state": {
       "_model_module_version": "1.4.0",
       "_view_module_version": "1.4.0",
       "description": "Save to PDF",
       "layout": "IPY_MODEL_fa9655bf72304c2bb97bf8c45500503b",
       "style": "IPY_MODEL_929e5779ad394a799083037ff870d526"
      }
     },
     "c52a903ddba4487e93fc08785f78bdbe": {
      "model_module": "@jupyter-widgets/controls",
      "model_module_version": "1.4.0",
      "model_name": "ButtonModel",
      "state": {
       "_model_module_version": "1.4.0",
       "_view_module_version": "1.4.0",
       "description": "Save to PDF",
       "layout": "IPY_MODEL_26fda7ba48bf41428588a380515d67c5",
       "style": "IPY_MODEL_695713c99706467f875821a5ef7f992e"
      }
     },
     "ca9438839a46429aaa3f24354ee42db5": {
      "model_module": "@jupyter-widgets/controls",
      "model_module_version": "1.4.0",
      "model_name": "ButtonStyleModel",
      "state": {
       "_model_module_version": "1.4.0",
       "_view_module_version": "1.1.0"
      }
     },
     "cce918eab1414c88ad12d08f31aaac47": {
      "model_module": "@jupyter-widgets/controls",
      "model_module_version": "1.4.0",
      "model_name": "ButtonModel",
      "state": {
       "_model_module_version": "1.4.0",
       "_view_module_version": "1.4.0",
       "description": "Save to PDF",
       "layout": "IPY_MODEL_f2a3cad8e9254cc9af9a6ed86874d83d",
       "style": "IPY_MODEL_a8c867acf084415fba648604326f8c9d"
      }
     },
     "ce589ac0e83d4bd38fd711550e349c6a": {
      "model_module": "@jupyter-widgets/base",
      "model_module_version": "1.1.0",
      "model_name": "LayoutModel",
      "state": {
       "_model_module_version": "1.1.0",
       "_view_module_version": "1.1.0",
       "border": null,
       "overflow_x": null,
       "overflow_y": null
      }
     },
     "d3e65f21f57643d188d5b1e4b7c7775c": {
      "model_module": "@jupyter-widgets/controls",
      "model_module_version": "1.4.0",
      "model_name": "ButtonModel",
      "state": {
       "_model_module_version": "1.4.0",
       "_view_module_version": "1.4.0",
       "description": "Save to PDF",
       "layout": "IPY_MODEL_a39b71b5f18a4a3089aae76958a3cc55",
       "style": "IPY_MODEL_384fad664c4549dbbfc6371a56598c46"
      }
     },
     "d4b09a17060d4dc19cad65f89af8b8b1": {
      "model_module": "@jupyter-widgets/controls",
      "model_module_version": "1.4.0",
      "model_name": "ButtonModel",
      "state": {
       "_model_module_version": "1.4.0",
       "_view_module_version": "1.4.0",
       "description": "Save to PDF",
       "layout": "IPY_MODEL_62f5350b3b1440088cb5206a67058fde",
       "style": "IPY_MODEL_3dcab56d27034a0a9cd076681a0c3af3"
      }
     },
     "e5c089c3d1f54e06aa7c69d6be7b7d7a": {
      "model_module": "@jupyter-widgets/base",
      "model_module_version": "1.1.0",
      "model_name": "LayoutModel",
      "state": {
       "_model_module_version": "1.1.0",
       "_view_module_version": "1.1.0",
       "border": null,
       "overflow_x": null,
       "overflow_y": null
      }
     },
     "e6380f2797b54ba8b9859882ee113294": {
      "model_module": "@jupyter-widgets/output",
      "model_module_version": "1.0.0",
      "model_name": "OutputModel",
      "state": {
       "layout": "IPY_MODEL_3af37c07964a4ae7b4c80a9e18031e8c"
      }
     },
     "f2a3cad8e9254cc9af9a6ed86874d83d": {
      "model_module": "@jupyter-widgets/base",
      "model_module_version": "1.1.0",
      "model_name": "LayoutModel",
      "state": {
       "_model_module_version": "1.1.0",
       "_view_module_version": "1.1.0",
       "border": null,
       "overflow_x": null,
       "overflow_y": null
      }
     },
     "f771512ee9df4ba5bee6a026a4e83de5": {
      "model_module": "@jupyter-widgets/controls",
      "model_module_version": "1.4.0",
      "model_name": "ButtonStyleModel",
      "state": {
       "_model_module_version": "1.4.0",
       "_view_module_version": "1.1.0"
      }
     },
     "f7b6aafe840345ad9c68def299dd0a29": {
      "model_module": "@jupyter-widgets/output",
      "model_module_version": "1.0.0",
      "model_name": "OutputModel",
      "state": {
       "layout": "IPY_MODEL_2ae503cdb98942fd9cfe9369ff0968de"
      }
     },
     "fa9655bf72304c2bb97bf8c45500503b": {
      "model_module": "@jupyter-widgets/base",
      "model_module_version": "1.1.0",
      "model_name": "LayoutModel",
      "state": {
       "_model_module_version": "1.1.0",
       "_view_module_version": "1.1.0",
       "border": null,
       "overflow_x": null,
       "overflow_y": null
      }
     }
    },
    "version_major": 2,
    "version_minor": 0
   }
  }
 },
 "nbformat": 4,
 "nbformat_minor": 5
}
