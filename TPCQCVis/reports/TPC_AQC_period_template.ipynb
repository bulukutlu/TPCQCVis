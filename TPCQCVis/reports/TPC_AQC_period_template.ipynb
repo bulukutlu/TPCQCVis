{
 "cells": [
  {
   "cell_type": "code",
   "execution_count": null,
   "id": "6ba04481",
   "metadata": {},
   "outputs": [],
   "source": [
    "%%capture\n",
    "import ROOT\n",
    "import glob\n",
    "import math\n",
    "import sys\n",
    "import numpy as np\n",
    "import pandas as pd\n",
    "from IPython.display import display, Markdown, HTML\n",
    "import ipywidgets as widgets\n",
    "from TPCQCVis.src.drawHistograms import *\n",
    "from TPCQCVis.src.drawTrending import *\n",
    "from TPCQCVis.src.drawMultiTrending import *\n",
    "from TPCQCVis.src.checkHistograms import *\n",
    "from TPCQCVis.src.checkTrending import *\n",
    "import warnings\n",
    "from copy import copy\n",
    "warnings.filterwarnings('ignore')"
   ]
  },
  {
   "cell_type": "code",
   "execution_count": null,
   "id": "0f0e02f1",
   "metadata": {},
   "outputs": [],
   "source": [
    "%jsroot on\n",
    "display(HTML(\"<style>.container { width:95% !important; align-items: center;}</style>\"))\n",
    "display(HTML(\"<style>table {float:left;}</style>\"))\n",
    "ROOT.gErrorIgnoreLevel = ROOT.kError\n",
    "#display(HTML('<style>{}</style>'.format(CSS)))\n",
    "#ROOT.gStyle.SetPalette(57)"
   ]
  },
  {
   "cell_type": "code",
   "execution_count": null,
   "id": "17dd6043-886c-40ba-ad78-be93e31a9d3d",
   "metadata": {},
   "outputs": [],
   "source": [
    "def checkIfExists(files, title):\n",
    "    objectAvailable = False\n",
    "    hist = None\n",
    "    goodFiles = []\n",
    "    if type(files) is list:\n",
    "        file = files[0]\n",
    "        try:\n",
    "            hist = file.PIDQC.Get(title)\n",
    "            if not hist : hist = file.TracksQC.Get(title)\n",
    "            if not hist : hist = file.ClusterQC.Get(title)\n",
    "            if not hist : hist = file.PID.Get(title)\n",
    "            if not hist : hist = file.Tracks.Get(title)\n",
    "        except:\n",
    "            objectAvailable = False\n",
    "        else:\n",
    "            if hist:\n",
    "                objectAvailable = True\n",
    "            else:\n",
    "                objectAvailable = False\n",
    "        if not objectAvailable:\n",
    "            print(title,\"not found\")\n",
    "    else:\n",
    "        for file in files:\n",
    "            try:\n",
    "                hist = file.PIDQC.Get(title)\n",
    "                if not hist : hist = file.TracksQC.Get(title)\n",
    "                if not hist : hist = file.ClusterQC.Get(title)\n",
    "                if not hist : hist = file.PID.Get(title)\n",
    "                if not hist : hist = file.Tracks.Get(title)\n",
    "            except:\n",
    "                objectAvailable = False\n",
    "            else:\n",
    "                if hist:\n",
    "                    objectAvailable = True\n",
    "                    goodFiles.append(file)\n",
    "                else:\n",
    "                    objectAvailable = False\n",
    "            if not objectAvailable:\n",
    "                print(title,\"not found in\", file)\n",
    "        files = goodFiles\n",
    "        if len(files):\n",
    "            objectAvailable = True\n",
    "    return objectAvailable"
   ]
  },
  {
   "cell_type": "code",
   "execution_count": null,
   "id": "1e556f7f-d199-4a14-bb9f-0515fb139009",
   "metadata": {},
   "outputs": [],
   "source": [
    "def drawQuantileProjection(objectName,rootDataFile,quantileOrder=0.5, axis=\"x\"):\n",
    "    from copy import copy\n",
    "    canvas = ROOT.TCanvas()\n",
    "    legend = ROOT.TLegend()\n",
    "    [hist,leg,canvo,pad1] = drawHistograms(objectName,rootDataFile,normalize=False,legend=False,\n",
    "                                               legendNames=runList,pads=True,drawOption=\"COLZ\",maxColumns=3)\n",
    "    quants = []\n",
    "    canvas.cd()\n",
    "    ROOT.gPad.SetGridy(1)\n",
    "    for i,histo in enumerate(hist):\n",
    "        if axis == \"y\":\n",
    "            quant = copy(histo.QuantilesY(quantileOrder))\n",
    "        else:\n",
    "            quant = copy(histo.QuantilesX(quantileOrder))\n",
    "        quant.SetYTitle(\"Median \"+ histo.GetYaxis().GetTitle())\n",
    "        quant.SetXTitle(histo.GetXaxis().GetTitle())\n",
    "        quant.SetTitle(quant.GetYaxis().GetTitle()+\" vs. \"+quant.GetXaxis().GetTitle())\n",
    "        quant.SetLineWidth(2)\n",
    "        quants.append(quant)\n",
    "        quants[i].SetStats(0)\n",
    "        quants[i].Draw(\"SAME L\")\n",
    "        legend.AddEntry(quant,runList[i])\n",
    "    return quants,legend,canvas\n",
    "    \n",
    "def sliceAndFit(objectName,rootDataFile,fitFunc=\"gaus\",fitRange=[40,60]):\n",
    "    from copy import copy\n",
    "    canvas = ROOT.TCanvas()\n",
    "    legend = ROOT.TLegend()\n",
    "    [hist,leg,canvo,pad1] = drawHistograms(objectName,rootDataFile,normalize=False,legend=False,\n",
    "                                               legendNames=runList,pads=True,drawOption=\"COLZ\",maxColumns=3)\n",
    "    fits = []\n",
    "    myFunc = ROOT.TF1(\"myFunc\",\"gaus\",40,60)\n",
    "    canvas.cd()\n",
    "    for i,histo in enumerate(hist):\n",
    "        try:\n",
    "            histo.FitSlicesY(myFunc, 0, -1, 0, \"QNR\")\n",
    "            fit = copy(ROOT.gDirectory.Get(histo.GetName()+\"_1\"))\n",
    "        except:\n",
    "            print(\"Could not perform fit.\")\n",
    "            return [],legend,canvas\n",
    "        fit.SetYTitle(\"Gaus Fit Mean \"+ histo.GetYaxis().GetTitle())\n",
    "        fit.SetXTitle(histo.GetXaxis().GetTitle())\n",
    "        fit.SetTitle(quant.GetYaxis().GetTitle()+\" vs. \"+quant.GetXaxis().GetTitle())\n",
    "        fit.SetLineWidth(2)\n",
    "        fits.append(fit)\n",
    "        legend.AddEntry(fit,runList[i])\n",
    "        fit.Draw(\"SAME L\")\n",
    "    legend.Draw()\n",
    "    return fits, legend, canvas"
   ]
  },
  {
   "cell_type": "code",
   "execution_count": null,
   "id": "0b4c56f8-1009-40aa-8a1f-12c5bd2e1ffb",
   "metadata": {},
   "outputs": [],
   "source": [
    "ROOT.gStyle.SetPalette(57)\n",
    "ROOT.gStyle.SetPalette(55)\n",
    "ROOT.gStyle.SetGridStyle(3)\n",
    "ROOT.gStyle.SetGridWidth(1)\n",
    "ROOT.gStyle.SetOptStat(0)\n",
    "cols = list(ROOT.TColor.GetPalette())\n",
    "def updateColors(histograms,palette):\n",
    "    colors = []\n",
    "    for i,hist in enumerate(histograms):\n",
    "        if len(histograms)>1:\n",
    "            color = palette[math.floor((i/(len(histograms)-1))*(len(palette)-1))]\n",
    "        else:\n",
    "            color = palette[0]\n",
    "        #color = i\n",
    "        colors.append(color)\n",
    "        hist.SetLineColor(color)\n",
    "        hist.SetMarkerColor(color)\n",
    "    return colors\n",
    "\n",
    "def updateRanges(histograms):\n",
    "    maxRange = max([hist.GetMaximum() for hist in histograms])\n",
    "    minRange = min([hist.GetMinimum() for hist in histograms])\n",
    "    for i,hist in enumerate(histograms):\n",
    "        if len(histograms)>1:\n",
    "            hist.SetMaximum(maxRange)\n",
    "            hist.SetMinimum(maxRange)"
   ]
  },
  {
   "cell_type": "code",
   "execution_count": null,
   "id": "bb0c55ba",
   "metadata": {},
   "outputs": [],
   "source": [
    "# Notebook variables\n",
    "periodName = \"myPeriod\"\n",
    "passName = \"myPass\"\n",
    "runNumber = 123456\n",
    "path = \"myPath\"\n",
    "\n",
    "# Read the Root Files\n",
    "fileList = glob.glob(path+\"/\"+periodName+\"/\"+passName+\"/\"+\"*_QC.root\")\n",
    "fileList = [file for file in fileList if file[-13] != \"_\"]\n",
    "fileList.sort()\n",
    "#fileList = fileList[13:]\n",
    "runList = [fileList[i][-14:-8] for i in range(len(fileList))]\n",
    "rootDataFile=[]\n",
    "for file in fileList:\n",
    "    rootDataFile.append(ROOT.TFile.Open(file,\"READ\"))"
   ]
  },
  {
   "cell_type": "markdown",
   "id": "38300728",
   "metadata": {},
   "source": [
    "# TPC Async QC Report - myPeriod - myPass\n",
    "### RCT Tables:\n",
    "+ [2022](https://docs.google.com/spreadsheets/d/14vXFYVx3oVE8wgJKmIBhjvAt6NpGp7D6H4AmBM9E0Cw/edit#gid=0), [2023](https://docs.google.com/spreadsheets/d/1YBQLXWwwc3aC3B_PYVpFkTgEP0n6u1ovtYfiCOMWnTc/edit?pli=1#gid=0), [2023_PbPb](https://docs.google.com/spreadsheets/d/1vsl-pkLdUoNXZm6muPyMENWdDSKM7UDtQLcXc2B9QhE/edit#gid=492527515)"
   ]
  },
  {
   "cell_type": "markdown",
   "id": "897badfe",
   "metadata": {
    "toc": true
   },
   "source": [
    "<h1>Table of Contents<span class=\"tocSkip\"></span></h1>\n",
    "<div class=\"toc\"><ul class=\"toc-item\"><li><span><a href=\"#TPC-asyncQC\" data-toc-modified-id=\"TPC-asyncQC\">TPC asyncQC</a></span><ul class=\"toc-item\"><li><span><a href=\"#General-notes\" data-toc-modified-id=\"General-notes-1.1\">General notes</a></span></li><li><span><a href=\"#Run-Table\" data-toc-modified-id=\"Run-Table-1.2\">Run Table</a></span></li></ul></li><li><span><a href=\"#Quality-Observer\" data-toc-modified-id=\"Quality-Observer-2\">Quality Observer</a></span><ul class=\"toc-item\"><li><span><a href=\"#Clusters\" data-toc-modified-id=\"Clusters-2.1\">Clusters</a></span></li><li><span><a href=\"#Tracks\" data-toc-modified-id=\"Tracks-2.2\">Tracks</a></span></li></ul></li><li><span><a href=\"#Trendings\" data-toc-modified-id=\"Trendings-3\">Trendings</a></span></li><li><span><a href=\"#Plots\" data-toc-modified-id=\"Plots-4\">Plots</a></span><ul class=\"toc-item\"><li><span><a href=\"#Clusters\" data-toc-modified-id=\"Clusters-4.1\">Clusters</a></span></li><li><span><a href=\"#Tracks\" data-toc-modified-id=\"Tracks-4.2\">Tracks</a></span><ul class=\"toc-item\"><li><span><a href=\"#Geometrical-distributions-of-tracks\" data-toc-modified-id=\"Geometrical-distributions-of-tracks-4.2.1\">Geometrical distributions of tracks</a></span></li><li><span><a href=\"#Track-properties\" data-toc-modified-id=\"Track-properties-4.2.2\">Track properties</a></span></li></ul></li><li><span><a href=\"#PID\" data-toc-modified-id=\"PID-4.3\">PID</a></span><ul class=\"toc-item\"><li><span><a href=\"#TPC-Gain-calibration\" data-toc-modified-id=\"TPC-Gain-calibration-4.3.1\">TPC Gain calibration</a></span></li><li><span><a href=\"#dEdx-vs-p\" data-toc-modified-id=\"dEdx-vs-p-4.3.2\">dEdx vs p</a></span></li></ul></li></ul></li></ul></div>"
   ]
  },
  {
   "cell_type": "markdown",
   "id": "a4b8dc0f",
   "metadata": {},
   "source": [
    "---\n",
    "## Quality Observer"
   ]
  },
  {
   "cell_type": "markdown",
   "id": "b1074ba1",
   "metadata": {},
   "source": [
    "### Clusters"
   ]
  },
  {
   "cell_type": "code",
   "execution_count": null,
   "id": "4052a354",
   "metadata": {},
   "outputs": [],
   "source": [
    "qualityDFClusters = pd.DataFrame({'runNumber':runList})\n",
    "names = []\n",
    "for i in range(72):\n",
    "    if i < 18*2: roc = \"IROC-\"\n",
    "    else: roc = \"OROC-\"\n",
    "    if i%(18*2) < 18: side = \"A\"\n",
    "    else : side = \"C\"\n",
    "    names.append(roc+side+str(i%18).zfill(2))"
   ]
  },
  {
   "cell_type": "code",
   "execution_count": null,
   "id": "69a20633",
   "metadata": {},
   "outputs": [],
   "source": [
    "objectName=\"c_ROCs_N_Clusters_1D;1\"\n",
    "trending = \"mean\"\n",
    "error = \"\"\n",
    "[trends,canvas] = drawMultiTrending(objectName,rootDataFile,names=runList,namesFromRunList=True,\n",
    "                               trend=trending,error=error,pads=True,normalize=True,\n",
    "                               log=\"none\",yAxisRange=[0,500])\n",
    "for iPad,pad in enumerate(canvas.GetListOfPrimitives()):\n",
    "    trend = trends[iPad]\n",
    "    [qualities,pad] = checkTrending(trend,canvas=pad,thresholds={\"GOOD\":1.5,\"MEDIUM\":3,\"BAD\":6})\n",
    "    qualityDFClusters[names[iPad]] = qualities\n",
    "    canvas.Update()\n",
    "canvas.Draw()"
   ]
  },
  {
   "cell_type": "code",
   "execution_count": null,
   "id": "293f06ea",
   "metadata": {},
   "outputs": [],
   "source": [
    "for i,row in qualityDFClusters.iterrows():\n",
    "    probs = [columnName for (columnName, columnData) in row.items() if columnData in [\"MEDIUM\",\"BAD\"]]\n",
    "    if len(probs) != 0:\n",
    "        print([row.runNumber]+probs)"
   ]
  },
  {
   "cell_type": "code",
   "execution_count": null,
   "id": "957b6a56",
   "metadata": {},
   "outputs": [],
   "source": [
    "%jsroot on\n",
    "myPalette = np.array([920, 414, 801, 633],dtype=np.int32)\n",
    "ROOT.gStyle.SetPalette(4,myPalette)\n",
    "ROOT.gStyle.SetGridStyle(1)\n",
    "qualityLabels = {\"NULL\":0,\"GOOD\":1,\"MEDIUM\":2,\"BAD\":3}\n",
    "\n",
    "canvas = ROOT.TCanvas(\"QualityMatrixClusters\",\"\",1100,600)\n",
    "canvas.SetLeftMargin(0.15)\n",
    "canvas.SetBottomMargin(0.15)\n",
    "canvas.SetRightMargin(0.15)\n",
    "canvas.SetGrid()\n",
    "\n",
    "qualityHistClusters = ROOT.TH2I(\"QualityMatrixClusters\",\"Clusters - Quality Matrix\",\n",
    "                        len(qualityDFClusters.index),min(qualityDFClusters.index),max(qualityDFClusters.index)+1,\n",
    "                        len(qualityDFClusters.columns)-1,0,len(qualityDFClusters.columns)-1)\n",
    "qualityHistClusters.SetCanExtend(ROOT.TH1.kAllAxes)\n",
    "qualityHistClusters.SetStats(0)\n",
    "for runIndex,run in enumerate(qualityDFClusters.runNumber):\n",
    "    qualityHistClusters.GetXaxis().SetBinLabel(runIndex+1,str(run))\n",
    "    qualityHistClusters.GetXaxis().SetTickLength( 0.03)\n",
    "    for checkIndex,check in enumerate(qualityDFClusters.loc[:, qualityDFClusters.columns != \"runNumber\"].columns):\n",
    "        #print(checkIndex,runIndex)\n",
    "        qualityHistClusters.Fill(run,check,qualityLabels.get(qualityDFClusters.iloc[runIndex][check]))\n",
    "\n",
    "qualityHistClusters.LabelsOption(\"u\")\n",
    "qualityHistClusters.Draw(\"COLZ\")\n",
    "qualityHistClusters.GetZaxis().SetRangeUser(-0.5,3.5);\n",
    "qualityHistClusters.GetZaxis().SetTitle(\"Quality\")\n",
    "qualityHistClusters.LabelsOption(\"v\")\n",
    "canvas.Draw()\n",
    "\n",
    "\n",
    "data = []  # List to store the row data\n",
    "\n",
    "for x in range(1, qualityHistClusters.GetNbinsX() + 1):  # x-axis bins\n",
    "    for y in range(1, qualityHistClusters.GetNbinsY() + 1):  # y-axis bins\n",
    "        binContent = qualityHistClusters.GetBinContent(x, y)\n",
    "        if binContent > 1.5:\n",
    "            # Getting the labels for x and y axis\n",
    "            xLabel = qualityHistClusters.GetXaxis().GetBinLabel(x)\n",
    "            yLabel = qualityHistClusters.GetYaxis().GetBinLabel(y)\n",
    "\n",
    "            # Determine the quality status\n",
    "            if 1.5 < binContent <= 2.5:\n",
    "                qualityStatus = \"medium\"\n",
    "            elif binContent > 2.5:\n",
    "                qualityStatus = \"bad\"\n",
    "            else:\n",
    "                continue  # Skip if the value is not in the specified range\n",
    "\n",
    "            # Append the data to the list\n",
    "            data.append({\n",
    "                \"X label\": xLabel,\n",
    "                \"Y label\": yLabel,\n",
    "                \"Quality\": qualityStatus\n",
    "            })\n",
    "\n",
    "# Convert the list of dictionaries to a DataFrame\n",
    "clustersquality = pd.DataFrame(data)\n",
    "\n"
   ]
  },
  {
   "cell_type": "markdown",
   "id": "217c98c8",
   "metadata": {},
   "source": [
    "### Tracks"
   ]
  },
  {
   "cell_type": "code",
   "execution_count": null,
   "id": "0969cccc",
   "metadata": {},
   "outputs": [],
   "source": [
    "qualityDF = pd.DataFrame({'runNumber':runList})\n",
    "objects = [\"hPhiAside;1\",\"hPhiCside;1\",\"hEta;1\",\"hPt;1\",\"hSign;1\",\"hdEdxTotMIP_TPC;1\",\"hNClustersAfterCuts;1\",\"hdEdxVsTgl;1\",\"hdEdxTotMIPVsSnp_TPC;1\"]\n",
    "trending = \"mean\"\n",
    "error = \"meanError\"\n",
    "for objectName in objects:\n",
    "    if objectName == \"hdEdxTotMIP_TPC;1\":\n",
    "        trending = \"fit(gaus,Sq,N,40,60)\"\n",
    "    else:\n",
    "        trending = \"mean\"\n",
    "    [trend,canvas] = drawTrending(objectName,rootDataFile,names=runList,namesFromRunList=True,\n",
    "                                   trend=trending,error=error,log=\"none\",axis=1)\n",
    "    [qualities,canvas] = checkTrending(trend,canvas=canvas,thresholds={\"GOOD\":1.5,\"MEDIUM\":3,\"BAD\":6})\n",
    "    qualityDF[objectName] = qualities"
   ]
  },
  {
   "cell_type": "code",
   "execution_count": null,
   "id": "3ac8fbbd",
   "metadata": {
    "scrolled": true
   },
   "outputs": [],
   "source": [
    "canvas = ROOT.TCanvas(\"QualityMatrixTracks\",\"\",1000,500)\n",
    "canvas.SetLeftMargin(0.15)\n",
    "canvas.SetBottomMargin(0.15)\n",
    "canvas.SetRightMargin(0.15)\n",
    "canvas.SetGrid()\n",
    "\n",
    "qualityHist = ROOT.TH2I(\"QualityMatrixTracks\",\"Tracks Observables - Quality Matrix\",\n",
    "                        len(qualityDF.index),min(qualityDF.index),max(qualityDF.index)+1,\n",
    "                        len(qualityDF.columns)-1,0,len(qualityDF.columns)-1)\n",
    "qualityHist.SetCanExtend(ROOT.TH1.kAllAxes)\n",
    "qualityHist.SetStats(0)\n",
    "for runIndex,run in enumerate(qualityDF.runNumber):\n",
    "    qualityHist.GetXaxis().SetBinLabel(runIndex+1,str(run))\n",
    "    qualityHist.GetXaxis().SetTickLength( 0.03)\n",
    "    for checkIndex,check in enumerate(qualityDF.loc[:, qualityDF.columns != \"runNumber\"].columns):\n",
    "        #print(checkIndex,runIndex)\n",
    "        qualityHist.Fill(run,check,qualityLabels.get(qualityDF.iloc[runIndex][check]))\n",
    "\n",
    "qualityHist.LabelsOption(\"u\")\n",
    "qualityHist.Draw(\"COLZ\")\n",
    "qualityHist.GetZaxis().SetRangeUser(-0.5,3.5)\n",
    "qualityHist.GetZaxis().SetTitle(\"Quality\")\n",
    "qualityHist.LabelsOption(\"v\")\n",
    "\n",
    "# Update the canvas\n",
    "canvas.Update()\n",
    "canvas.Draw()\n",
    "\n",
    "\n",
    "data = []  # List to store the row data\n",
    "\n",
    "for x in range(1, qualityHist.GetNbinsX() + 1):  # x-axis bins\n",
    "    for y in range(1, qualityHist.GetNbinsY() + 1):  # y-axis bins\n",
    "        binContent = qualityHist.GetBinContent(x, y)\n",
    "        if binContent > 1.5:\n",
    "            # Getting the labels for x and y axis\n",
    "            xLabel = qualityHist.GetXaxis().GetBinLabel(x)\n",
    "            yLabel = qualityHist.GetYaxis().GetBinLabel(y)\n",
    "\n",
    "            # Determine the quality status\n",
    "            if 1.5 < binContent <= 2.5:\n",
    "                qualityStatus = \"medium\"\n",
    "            elif binContent > 2.5:\n",
    "                qualityStatus = \"bad\"\n",
    "            else:\n",
    "                continue  # Skip if the value is not in the specified range\n",
    "\n",
    "            # Append the data to the list\n",
    "            data.append({\n",
    "                \"X label\": xLabel,\n",
    "                \"Y label\": yLabel,\n",
    "                \"Quality\": qualityStatus\n",
    "            })\n",
    "\n",
    "# Convert the list of dictionaries to a DataFrame\n",
    "tracksquality = pd.DataFrame(data)\n",
    "\n"
   ]
  },
  {
   "cell_type": "markdown",
   "id": "126029ee",
   "metadata": {},
   "source": [
    "---\n",
    "## Trendings\n",
    "### Mean phi of tracks"
   ]
  },
  {
   "cell_type": "code",
   "execution_count": null,
   "id": "8ec22c83",
   "metadata": {},
   "outputs": [],
   "source": [
    "%jsroot on\n",
    "objectName=\"hPhiAside;1\"\n",
    "trending = \"mean\"\n",
    "error = \"meanError\"\n",
    "leg = ROOT.TLegend()\n",
    "[trend,canvas] = drawTrending(objectName,rootDataFile,names=runList,namesFromRunList=True,\n",
    "                               trend=trending,error=error,axis=1,log=\"none\")\n",
    "[qualities,canvas] = checkTrending(trend,canvas=canvas,thresholds={\"GOOD\":1.5,\"MEDIUM\":3,\"BAD\":6})\n",
    "canvas.SetCanvasSize(1000,400)\n",
    "qualityDF[objectName] = qualities\n",
    "canvas.Draw()\n",
    "\n",
    "data = []  # List to store the data\n",
    "\n",
    "# Iterate over the elements in qualities\n",
    "for bin_index, quality_status in enumerate(qualities, start=1):  # Assuming bin indexing starts at 1\n",
    "    if quality_status in [\"MEDIUM\", \"BAD\"]:\n",
    "        # Retrieve the X label for the bin\n",
    "        x_label = trend.GetXaxis().GetBinLabel(bin_index)\n",
    "        data.append({\"Run\": x_label, \"Quality\": quality_status})\n",
    "\n",
    "# Convert the list of dictionaries to a DataFrame\n",
    "hPhiAsideTrendingQuality = pd.DataFrame(data)"
   ]
  },
  {
   "cell_type": "code",
   "execution_count": null,
   "id": "f8d93b41",
   "metadata": {},
   "outputs": [],
   "source": [
    "%jsroot on\n",
    "objectName=\"hPhiCside;1\"\n",
    "trending = \"mean\"\n",
    "error = \"meanError\"\n",
    "leg = ROOT.TLegend()\n",
    "[trend,canvas] = drawTrending(objectName,rootDataFile,names=runList,namesFromRunList=True,\n",
    "                               trend=trending,error=error,log=\"none\")\n",
    "[qualities,canvas] = checkTrending(trend,canvas=canvas,thresholds={\"GOOD\":1.5,\"MEDIUM\":3,\"BAD\":6})\n",
    "qualityDF[objectName] = qualities\n",
    "canvas.SetCanvasSize(1000,400)\n",
    "trend.SetTitle(\"Number of tracks - Trend\")\n",
    "canvas.Draw()\n",
    "\n",
    "data = []  # List to store the data\n",
    "\n",
    "# Iterate over the elements in qualities\n",
    "for bin_index, quality_status in enumerate(qualities, start=1):  # Assuming bin indexing starts at 1\n",
    "    if quality_status in [\"MEDIUM\", \"BAD\"]:\n",
    "        # Retrieve the X label for the bin\n",
    "        x_label = trend.GetXaxis().GetBinLabel(bin_index)\n",
    "        data.append({\"Run\": x_label, \"Quality\": quality_status})\n",
    "\n",
    "# Convert the list of dictionaries to a DataFrame\n",
    "numberofTracksTrendingQuality = pd.DataFrame(data)"
   ]
  },
  {
   "cell_type": "markdown",
   "id": "e0c37372",
   "metadata": {
    "slideshow": {
     "slide_type": "fragment"
    }
   },
   "source": [
    "### Mean eta of tracks"
   ]
  },
  {
   "cell_type": "code",
   "execution_count": null,
   "id": "e909f751",
   "metadata": {},
   "outputs": [],
   "source": [
    "%jsroot on\n",
    "objectName=\"hEta;1\"\n",
    "trending = \"mean\"\n",
    "error = \"meanError\"\n",
    "leg = ROOT.TLegend()\n",
    "[trend,canvas] = drawTrending(objectName,rootDataFile,names=runList,namesFromRunList=True,\n",
    "                               trend=trending,error=error,log=\"none\")\n",
    "[qualities,canvas] = checkTrending(trend,canvas=canvas,thresholds={\"GOOD\":1.5,\"MEDIUM\":3,\"BAD\":6})\n",
    "qualityDF[objectName] = qualities\n",
    "#trend.SetTitle(\"Number of tracks - Trend\")\n",
    "canvas.SetCanvasSize(1000,400)\n",
    "canvas.Draw()\n",
    "\n",
    "data = []  # List to store the data\n",
    "\n",
    "# Iterate over the elements in qualities\n",
    "for bin_index, quality_status in enumerate(qualities, start=1):  # Assuming bin indexing starts at 1\n",
    "    if quality_status in [\"MEDIUM\", \"BAD\"]:\n",
    "        # Retrieve the X label for the bin\n",
    "        x_label = trend.GetXaxis().GetBinLabel(bin_index)\n",
    "        data.append({\"Run\": x_label, \"Quality\": quality_status})\n",
    "\n",
    "# Convert the list of dictionaries to a DataFrame\n",
    "hEtaTrendingQuality = pd.DataFrame(data)"
   ]
  },
  {
   "cell_type": "markdown",
   "id": "5dd7a37b",
   "metadata": {},
   "source": [
    "### Mean tracks transverse momentum of tracks"
   ]
  },
  {
   "cell_type": "code",
   "execution_count": null,
   "id": "68e05779",
   "metadata": {},
   "outputs": [],
   "source": [
    "%jsroot on\n",
    "objectName=\"hPt;1\"\n",
    "trending = \"mean\"\n",
    "error = \"meanError\"\n",
    "leg = ROOT.TLegend()\n",
    "[trend,canvas] = drawTrending(objectName,rootDataFile,names=runList,namesFromRunList=True,\n",
    "                               trend=trending,error=error,log=\"none\")\n",
    "[qualities,canvas] = checkTrending(trend,canvas=canvas,thresholds={\"GOOD\":1.5,\"MEDIUM\":3,\"BAD\":6})\n",
    "qualityDF[objectName] = qualities\n",
    "#trend.SetTitle(\"Number of tracks - Trend\")\n",
    "canvas.SetCanvasSize(1000,400)\n",
    "canvas.Draw()\n",
    "\n",
    "data = []  # List to store the data\n",
    "\n",
    "# Iterate over the elements in qualities\n",
    "for bin_index, quality_status in enumerate(qualities, start=1):  # Assuming bin indexing starts at 1\n",
    "    if quality_status in [\"MEDIUM\", \"BAD\"]:\n",
    "        # Retrieve the X label for the bin\n",
    "        x_label = trend.GetXaxis().GetBinLabel(bin_index)\n",
    "        data.append({\"Run\": x_label, \"Quality\": quality_status})\n",
    "\n",
    "# Convert the list of dictionaries to a DataFrame\n",
    "hPtTrendingQuality = pd.DataFrame(data)"
   ]
  },
  {
   "cell_type": "markdown",
   "id": "527b2c4d",
   "metadata": {},
   "source": [
    "### Mean charge sign of tracks"
   ]
  },
  {
   "cell_type": "code",
   "execution_count": null,
   "id": "b2784f4c",
   "metadata": {},
   "outputs": [],
   "source": [
    "%jsroot on\n",
    "objectName=\"hSign;1\"\n",
    "trending = \"mean\"\n",
    "error = \"meanError\"\n",
    "leg = ROOT.TLegend()\n",
    "[trend,canvas] = drawTrending(objectName,rootDataFile,names=runList,namesFromRunList=True,\n",
    "                               trend=trending,error=error,log=\"none\")\n",
    "[qualities,canvas] = checkTrending(trend,canvas=canvas,thresholds={\"GOOD\":1.5,\"MEDIUM\":3,\"BAD\":6})\n",
    "qualityDF[objectName] = qualities\n",
    "#trend.SetTitle(\"Number of tracks - Trend\")\n",
    "canvas.SetCanvasSize(1000,400)\n",
    "canvas.Draw()\n",
    "\n",
    "data = []  # List to store the data\n",
    "\n",
    "# Iterate over the elements in qualities\n",
    "for bin_index, quality_status in enumerate(qualities, start=1):  # Assuming bin indexing starts at 1\n",
    "    if quality_status in [\"MEDIUM\", \"BAD\"]:\n",
    "        # Retrieve the X label for the bin\n",
    "        x_label = trend.GetXaxis().GetBinLabel(bin_index)\n",
    "        data.append({\"Run\": x_label, \"Quality\": quality_status})\n",
    "\n",
    "# Convert the list of dictionaries to a DataFrame\n",
    "hSignTrendingQuality = pd.DataFrame(data)"
   ]
  },
  {
   "cell_type": "markdown",
   "id": "847683fb",
   "metadata": {},
   "source": [
    "### Mean dEdxTot of MIPs tracks"
   ]
  },
  {
   "cell_type": "code",
   "execution_count": null,
   "id": "accf51f9",
   "metadata": {},
   "outputs": [],
   "source": [
    "%jsroot on\n",
    "objectName=\"hdEdxTotMIP_TPC;1\"\n",
    "trending = \"fit(gaus,Sq,N,40,60)\"\n",
    "error = \"meanError\"\n",
    "leg = ROOT.TLegend()\n",
    "[trend,canvas] = drawTrending(objectName,rootDataFile,names=runList,namesFromRunList=True,\n",
    "                               trend=trending,error=error,log=\"none\",yAxisRange=[30,70])\n",
    "trend.Draw()\n",
    "[qualities,canvas] = checkTrending(trend,canvas=canvas,thresholds={\"GOOD\":1.5,\"MEDIUM\":3,\"BAD\":6})\n",
    "\n",
    "qualityDF[objectName] = qualities\n",
    "#trend.GetYaxis().SetRangeUser(45,55)\n",
    "#trend.SetTitle(\"Number of tracks - Trend\")\n",
    "canvas.SetCanvasSize(1000,400)\n",
    "canvas.Draw()\n",
    "\n",
    "data = []  # List to store the data\n",
    "\n",
    "# Iterate over the elements in qualities\n",
    "for bin_index, quality_status in enumerate(qualities, start=1):  # Assuming bin indexing starts at 1\n",
    "    if quality_status in [\"MEDIUM\", \"BAD\"]:\n",
    "        # Retrieve the X label for the bin\n",
    "        x_label = trend.GetXaxis().GetBinLabel(bin_index)\n",
    "        data.append({\"Run\": x_label, \"Quality\": quality_status})\n",
    "\n",
    "# Convert the list of dictionaries to a DataFrame\n",
    "hdEdxTotMIP_TPCTrendingQuality = pd.DataFrame(data)"
   ]
  },
  {
   "cell_type": "markdown",
   "id": "5d518beb",
   "metadata": {},
   "source": [
    "**Mean number of clusters per tracks:**"
   ]
  },
  {
   "cell_type": "code",
   "execution_count": null,
   "id": "5249d911",
   "metadata": {},
   "outputs": [],
   "source": [
    "%jsroot on\n",
    "objectName=\"hNClustersAfterCuts;1\"\n",
    "trending = \"mean\"\n",
    "error = \"meanError\"\n",
    "leg = ROOT.TLegend()\n",
    "[trend,canvas] = drawTrending(objectName,rootDataFile,names=runList,namesFromRunList=True,\n",
    "                               trend=trending,error=error,log=\"none\")\n",
    "[qualities,canvas] = checkTrending(trend,canvas=canvas,thresholds={\"GOOD\":1.5,\"MEDIUM\":3,\"BAD\":6})\n",
    "qualityDF[objectName] = qualities\n",
    "#trend.SetTitle(\"Number of tracks - Trend\")\n",
    "canvas.SetCanvasSize(1000,400)\n",
    "canvas.Draw()\n",
    "\n",
    "data = []  # List to store the data\n",
    "\n",
    "# Iterate over the elements in qualities\n",
    "for bin_index, quality_status in enumerate(qualities, start=1):  # Assuming bin indexing starts at 1\n",
    "    if quality_status in [\"MEDIUM\", \"BAD\"]:\n",
    "        # Retrieve the X label for the bin\n",
    "        x_label = trend.GetXaxis().GetBinLabel(bin_index)\n",
    "        data.append({\"Run\": x_label, \"Quality\": quality_status})\n",
    "\n",
    "# Convert the list of dictionaries to a DataFrame\n",
    "hNClustersAfterCutsTrendingQuality = pd.DataFrame(data)"
   ]
  },
  {
   "cell_type": "markdown",
   "id": "d252f445",
   "metadata": {},
   "source": [
    "**Mean tan(lambda) of tracks:**"
   ]
  },
  {
   "cell_type": "code",
   "execution_count": null,
   "id": "573dac03",
   "metadata": {},
   "outputs": [],
   "source": [
    "%jsroot on\n",
    "objectName=\"hdEdxVsTgl;1\"\n",
    "trending = \"mean\"\n",
    "error = \"meanError\"\n",
    "leg = ROOT.TLegend()\n",
    "[trend,canvas] = drawTrending(objectName,rootDataFile,names=runList,namesFromRunList=True,\n",
    "                               trend=trending,error=error,log=\"none\")\n",
    "[qualities,canvas] = checkTrending(trend,canvas=canvas,thresholds={\"GOOD\":1.5,\"MEDIUM\":3,\"BAD\":6})\n",
    "qualityDF[objectName] = qualities\n",
    "#trend.SetTitle(\"Number of tracks - Trend\")\n",
    "canvas.SetCanvasSize(1000,400)\n",
    "canvas.Draw()\n",
    "\n",
    "data = []  # List to store the data\n",
    "\n",
    "# Iterate over the elements in qualities\n",
    "for bin_index, quality_status in enumerate(qualities, start=1):  # Assuming bin indexing starts at 1\n",
    "    if quality_status in [\"MEDIUM\", \"BAD\"]:\n",
    "        # Retrieve the X label for the bin\n",
    "        x_label = trend.GetXaxis().GetBinLabel(bin_index)\n",
    "        data.append({\"Run\": x_label, \"Quality\": quality_status})\n",
    "\n",
    "# Convert the list of dictionaries to a DataFrame\n",
    "hdEdxVsTglTrendingQuality = pd.DataFrame(data)"
   ]
  },
  {
   "cell_type": "markdown",
   "id": "14abf883",
   "metadata": {},
   "source": [
    "**Mean sin(phi) of tracks:**"
   ]
  },
  {
   "cell_type": "code",
   "execution_count": null,
   "id": "824fe439",
   "metadata": {},
   "outputs": [],
   "source": [
    "%jsroot on\n",
    "objectName=\"hdEdxTotMIPVsSnp_TPC;1\"\n",
    "trending = \"mean\"\n",
    "error = \"meanError\"\n",
    "leg = ROOT.TLegend()\n",
    "[trend,canvas] = drawTrending(objectName,rootDataFile,names=runList,namesFromRunList=True,\n",
    "                               trend=trending,error=error,axis=1,log=\"none\")\n",
    "[qualities,canvas] = checkTrending(trend,canvas=canvas,thresholds={\"GOOD\":1.5,\"MEDIUM\":3,\"BAD\":6})\n",
    "qualityDF[objectName] = qualities\n",
    "#trend.SetTitle(\"Number of tracks - Trend\")\n",
    "canvas.SetCanvasSize(1000,400)\n",
    "canvas.Draw()\n",
    "\n",
    "data = []  # List to store the data\n",
    "\n",
    "# Iterate over the elements in qualities\n",
    "for bin_index, quality_status in enumerate(qualities, start=1):  # Assuming bin indexing starts at 1\n",
    "    if quality_status in [\"MEDIUM\", \"BAD\"]:\n",
    "        # Retrieve the X label for the bin\n",
    "        x_label = trend.GetXaxis().GetBinLabel(bin_index)\n",
    "        data.append({\"Run\": x_label, \"Quality\": quality_status})\n",
    "\n",
    "# Convert the list of dictionaries to a DataFrame\n",
    "hdEdxTotMIPVsSnp_TPCTrendingQuality = pd.DataFrame(data)"
   ]
  },
  {
   "cell_type": "markdown",
   "id": "2ca94113",
   "metadata": {},
   "source": [
    "---\n",
    "## Plots"
   ]
  },
  {
   "cell_type": "code",
   "execution_count": null,
   "id": "94dac685",
   "metadata": {},
   "outputs": [],
   "source": [
    "ROOT.gStyle.SetPalette(57)\n",
    "ROOT.gStyle.SetGridStyle(3)\n",
    "ROOT.gStyle.SetGridWidth(1)"
   ]
  },
  {
   "cell_type": "markdown",
   "id": "03eca5ad",
   "metadata": {},
   "source": [
    "### Clusters\n",
    "**Number of clusters per pad, A-side:**"
   ]
  },
  {
   "cell_type": "markdown",
   "id": "9de1092e",
   "metadata": {},
   "source": [
    "<a id='h2DRPhinClustersAside'></a>\n"
   ]
  },
  {
   "cell_type": "code",
   "execution_count": null,
   "id": "2fefdb4c",
   "metadata": {},
   "outputs": [],
   "source": [
    "%jsroot on\n",
    "\n",
    "objectName=\"h2DRPhinClustersAside\"\n",
    "if checkIfExists(rootDataFile,objectName):\n",
    "    [hist,legend,canvas,pad1] = drawHistograms(objectName,rootDataFile,normalize=False,legend=False,\n",
    "                                               legendNames=runList,pads=True,drawOption=\"COLZ\")\n",
    "    canvas.Draw()"
   ]
  },
  {
   "cell_type": "markdown",
   "id": "a09e8b4b",
   "metadata": {},
   "source": [
    "**Number of clusters per pad, C-side:**"
   ]
  },
  {
   "cell_type": "markdown",
   "id": "65c00534",
   "metadata": {},
   "source": [
    "<a id='h2DRPhinClustersCside'></a>"
   ]
  },
  {
   "cell_type": "code",
   "execution_count": null,
   "id": "a0520a40",
   "metadata": {},
   "outputs": [],
   "source": [
    "%jsroot on\n",
    "objectName=\"h2DRPhinClustersCside\"\n",
    "if checkIfExists(rootDataFile,objectName):\n",
    "    [hist,legend,canvas,pad1] = drawHistograms(objectName,rootDataFile,normalize=False,legend=False,legendNames=runList,\n",
    "                                               pads=True,drawOption=\"COLZ\")\n",
    "    canvas.Draw()"
   ]
  },
  {
   "cell_type": "markdown",
   "id": "9deaf879",
   "metadata": {},
   "source": [
    "---\n",
    "**Cluster total charge per pad, A-side:**"
   ]
  },
  {
   "cell_type": "markdown",
   "id": "398fc290",
   "metadata": {},
   "source": [
    "<a id='h2DRPhiqTotAside'></a>\n"
   ]
  },
  {
   "cell_type": "code",
   "execution_count": null,
   "id": "70283598",
   "metadata": {},
   "outputs": [],
   "source": [
    "%jsroot on\n",
    "objectName=\"h2DRPhiqTotAside\"\n",
    "if checkIfExists(rootDataFile,objectName):\n",
    "    [hist,legend,canvas,pad1] = drawHistograms(objectName,rootDataFile,normalize=False,legend=False,\n",
    "                                               legendNames=runList,pads=True,drawOption=\"COLZ\")\n",
    "    canvas.Draw()"
   ]
  },
  {
   "cell_type": "markdown",
   "id": "af239228",
   "metadata": {},
   "source": [
    "**Cluster total charge per pad, C-side:**"
   ]
  },
  {
   "cell_type": "markdown",
   "id": "f861b5e9",
   "metadata": {},
   "source": [
    "<a id='h2DRPhiqTotCside'></a>"
   ]
  },
  {
   "cell_type": "code",
   "execution_count": null,
   "id": "5b07097e",
   "metadata": {},
   "outputs": [],
   "source": [
    "%jsroot on\n",
    "objectName=\"h2DRPhiqTotCside\"\n",
    "if checkIfExists(rootDataFile,objectName):\n",
    "    [hist,legend,canvas,pad1] = drawHistograms(objectName,rootDataFile,normalize=False,legend=False,\n",
    "                                               legendNames=runList,pads=True,drawOption=\"COLZ\")\n",
    "    canvas.Draw()"
   ]
  },
  {
   "cell_type": "markdown",
   "id": "549deb42",
   "metadata": {},
   "source": [
    "---\n",
    "### Tracks\n",
    "#### Geometrical distributions of tracks\n",
    "**Phi distribution A-side tracks:**"
   ]
  },
  {
   "cell_type": "markdown",
   "id": "abb86f1d",
   "metadata": {},
   "source": [
    "<a id='hPhiAside'></a>\n"
   ]
  },
  {
   "cell_type": "code",
   "execution_count": null,
   "id": "d4d46a67",
   "metadata": {},
   "outputs": [],
   "source": [
    "%jsroot on\n",
    "objectName=\"hPhiAside\"\n",
    "if checkIfExists(rootDataFile,objectName):\n",
    "    [hist,legend,canvas,pad1] = drawHistograms(objectName,rootDataFile,normalize=True,legend=True,legendNames=runList,pads=False,\n",
    "                                               drawOption=\"SAME L\",yAxisRange=[2.2e-3,3.2e-3],grid=False)\n",
    "    #Sector boundatries\n",
    "    pad1.cd()\n",
    "    sectorBoundary = ROOT.TLine(0,hist[0].GetMinimum(),0,hist[0].GetMaximum())\n",
    "    sectorBoundary.SetLineStyle(2)\n",
    "    sectorNum = ROOT.TText(.5,.5,\"test\")\n",
    "    sectorNum.SetTextAlign(22)\n",
    "    sectorNum.SetTextColor(ROOT.kGray+1)\n",
    "    sectorNum.SetTextFont(0)\n",
    "    for j in range(19):\n",
    "        sectorBoundary.DrawLine((j*2*math.pi)/18,hist[0].GetMinimum(),(j*2*math.pi)/18,hist[0].GetMaximum())\n",
    "        if j < 18 : sectorNum.DrawText(((j+0.5)*2*math.pi)/18,hist[0].GetMaximum(),str(j))\n",
    "    pad1.SetGridy(1)\n",
    "    canvas.SetCanvasSize(1000,400)\n",
    "    updateColors(hist,cols)\n",
    "    canvas.Draw()"
   ]
  },
  {
   "cell_type": "markdown",
   "id": "6305738a",
   "metadata": {},
   "source": [
    "**Phi distribution C-side tracks:**"
   ]
  },
  {
   "cell_type": "markdown",
   "id": "c30523c3",
   "metadata": {},
   "source": [
    "<a id='hPhiCside'></a>\n"
   ]
  },
  {
   "cell_type": "code",
   "execution_count": null,
   "id": "347e4057",
   "metadata": {},
   "outputs": [],
   "source": [
    "%jsroot on\n",
    "objectName=\"hPhiCside\"\n",
    "if checkIfExists(rootDataFile,objectName):\n",
    "    [hist,legend,canvas,pad1] = drawHistograms(objectName,rootDataFile,normalize=True,legend=True,legendNames=runList,pads=False,\n",
    "                                               drawOption=\"SAME L\",yAxisRange=[2.2e-3,3.2e-3],grid=False)\n",
    "    updateColors(hist,cols)\n",
    "    #Sector boundatries\n",
    "    pad1.cd()\n",
    "    sectorBoundary = ROOT.TLine(0,hist[0].GetMinimum(),0,hist[0].GetMaximum())\n",
    "    sectorBoundary.SetLineStyle(2)\n",
    "    sectorNum = ROOT.TText(.5,.5,\"test\")\n",
    "    sectorNum.SetTextAlign(22)\n",
    "    sectorNum.SetTextColor(ROOT.kGray+1)\n",
    "    sectorNum.SetTextFont(0)\n",
    "    for j in range(19):\n",
    "        sectorBoundary.DrawLine((j*2*math.pi)/18,hist[0].GetMinimum(),(j*2*math.pi)/18,hist[0].GetMaximum())\n",
    "        if j < 18 : sectorNum.DrawText(((j+0.5)*2*math.pi)/18,hist[0].GetMaximum(),str(j))\n",
    "    pad1.SetGridy(1)\n",
    "    canvas.SetCanvasSize(1000,400)\n",
    "    canvas.Draw()"
   ]
  },
  {
   "cell_type": "markdown",
   "id": "87f2c477",
   "metadata": {},
   "source": [
    "**Eta distribution:**"
   ]
  },
  {
   "cell_type": "markdown",
   "id": "66c949a2",
   "metadata": {},
   "source": [
    "<a id='hEta'></a>\n"
   ]
  },
  {
   "cell_type": "code",
   "execution_count": null,
   "id": "e2d2dcfc",
   "metadata": {},
   "outputs": [],
   "source": [
    "%jsroot on\n",
    "objectName=\"hEta\"\n",
    "if checkIfExists(rootDataFile,objectName):\n",
    "    [hist,legend,canvas,pad1] = drawHistograms(objectName,rootDataFile,normalize=True,legend=True,legendNames=runList,pads=False,\n",
    "                                               drawOption=\"SAME L\",xAxisRange=[-1.1,1.1],grid=True)\n",
    "    updateColors(hist,cols)\n",
    "    pad1.SetGrid(1)\n",
    "    canvas.SetCanvasSize(700,400)\n",
    "    canvas.Draw()"
   ]
  },
  {
   "cell_type": "code",
   "execution_count": null,
   "id": "99e1195a-bfe1-450e-a934-f1d591424808",
   "metadata": {},
   "outputs": [],
   "source": [
    "%jsroot on\n",
    "objectName=\"h2DEtaPhi\"\n",
    "if checkIfExists(rootDataFile,objectName):\n",
    "    [quants,legend,canvas] = drawQuantileProjection(objectName,rootDataFile)\n",
    "    updateColors(quants,cols)\n",
    "    canvas.SetGridy(1)\n",
    "    canvas.SetCanvasSize(1000,400)\n",
    "    for quant in quants:\n",
    "        quant.GetYaxis().SetRangeUser(-.1,.1)\n",
    "        quant.SetTitle(\"Median eta vs phi\")\n",
    "    canvas.cd()\n",
    "    sectorBoundary = ROOT.TLine(0,quant.GetMinimum(),0,quant.GetMaximum())\n",
    "    sectorBoundary.SetLineStyle(2)\n",
    "    sectorNum = ROOT.TText(.5,.5,\"test\")\n",
    "    sectorNum.SetTextAlign(22)\n",
    "    sectorNum.SetTextColor(ROOT.kGray+1)\n",
    "    sectorNum.SetTextFont(0)\n",
    "    for j in range(19):\n",
    "        sectorBoundary.DrawLine((j*2*math.pi)/18,quant.GetMinimum(),(j*2*math.pi)/18,quant.GetMaximum())\n",
    "        if j < 18 : sectorNum.DrawText(((j+0.5)*2*math.pi)/18,quant.GetMaximum()*0.95+quant.GetMinimum()*0.05,str(j))\n",
    "    legend.Draw()\n",
    "    canvas.Draw()"
   ]
  },
  {
   "cell_type": "markdown",
   "id": "03ffcc21",
   "metadata": {},
   "source": [
    "<a id='h2DEtaPhi'></a>\n"
   ]
  },
  {
   "cell_type": "code",
   "execution_count": null,
   "id": "3d6a3d10",
   "metadata": {},
   "outputs": [],
   "source": [
    "%jsroot on\n",
    "objectName=\"h2DEtaPhi\"\n",
    "if checkIfExists(rootDataFile,objectName):\n",
    "    [hist,legend,canvas,pad1] = drawHistograms(objectName,rootDataFile,normalize=False,legend=False,yAxisRange = [-1.1,1.1],\n",
    "                                               legendNames=runList,pads=True,drawOption=\"COLZ\")\n",
    "    canvas.Draw()"
   ]
  },
  {
   "cell_type": "markdown",
   "id": "738f539d",
   "metadata": {},
   "source": [
    "#### Track properties\n",
    "**Transverse momentum**"
   ]
  },
  {
   "cell_type": "markdown",
   "id": "5365a42b",
   "metadata": {},
   "source": [
    "<a id='hPt'></a>\n"
   ]
  },
  {
   "cell_type": "code",
   "execution_count": null,
   "id": "fe939830",
   "metadata": {},
   "outputs": [],
   "source": [
    "%jsroot on\n",
    "objectName=\"hPt\"\n",
    "if checkIfExists(rootDataFile,objectName):\n",
    "    [hist,legend,canvas,pad1] = drawHistograms(objectName,rootDataFile,normalize=True,legend=True,legendNames=runList,pads=False,\n",
    "                                               drawOption=\"SAME L\",log=\"logxy\",\n",
    "                                               grid=True)\n",
    "    updateColors(hist,cols)\n",
    "    pad1.SetGrid(1)\n",
    "    canvas.SetCanvasSize(700,400)\n",
    "    canvas.Draw()"
   ]
  },
  {
   "cell_type": "markdown",
   "id": "5200e396",
   "metadata": {},
   "source": [
    "**Track sign**"
   ]
  },
  {
   "cell_type": "markdown",
   "id": "c1253070",
   "metadata": {},
   "source": [
    "<a id='hSign'></a>\n"
   ]
  },
  {
   "cell_type": "code",
   "execution_count": null,
   "id": "e222519f",
   "metadata": {},
   "outputs": [],
   "source": [
    "%jsroot on\n",
    "objectName=\"hSign\"\n",
    "if checkIfExists(rootDataFile,objectName):\n",
    "    [hist,legend,canvas,pad1] = drawHistograms(objectName,rootDataFile,normalize=True,legend=True,legendNames=runList,pads=False,\n",
    "                                               drawOption=\"SAME HIST\",grid=True)\n",
    "    updateColors(hist,cols)\n",
    "    pad1.SetGrid(1)\n",
    "    canvas.SetCanvasSize(700,400)\n",
    "    canvas.Draw()"
   ]
  },
  {
   "cell_type": "markdown",
   "id": "d58cf558",
   "metadata": {},
   "source": [
    "**Charge / transverse momentum**"
   ]
  },
  {
   "cell_type": "markdown",
   "id": "c7825a38",
   "metadata": {},
   "source": [
    "<a id='hQOverPt'></a>\n"
   ]
  },
  {
   "cell_type": "code",
   "execution_count": null,
   "id": "edc50695",
   "metadata": {},
   "outputs": [],
   "source": [
    "%jsroot on\n",
    "objectName=\"hQOverPt\"\n",
    "if checkIfExists(rootDataFile,objectName):\n",
    "    [hist,legend,canvas,pad1] = drawHistograms(objectName,rootDataFile,normalize=True,legend=True,legendNames=runList,pads=False,\n",
    "                                                        drawOption=\"SAME L\",grid=True)\n",
    "    updateColors(hist,cols)\n",
    "    pad1.SetGrid(1)\n",
    "    canvas.SetCanvasSize(700,400)\n",
    "    canvas.Draw()"
   ]
  },
  {
   "cell_type": "markdown",
   "id": "cb886e2a",
   "metadata": {},
   "source": [
    "**Number of clusters per track**"
   ]
  },
  {
   "cell_type": "markdown",
   "id": "27b056d7",
   "metadata": {},
   "source": [
    "<a id='hNClustersAfterCuts'></a>\n"
   ]
  },
  {
   "cell_type": "code",
   "execution_count": null,
   "id": "ad5067a9",
   "metadata": {},
   "outputs": [],
   "source": [
    "%jsroot on\n",
    "objectName=\"hNClustersAfterCuts\"\n",
    "if checkIfExists(rootDataFile,objectName):\n",
    "    [hist,legend,canvas,pad1] = drawHistograms(objectName,rootDataFile,normalize=True,legend=True,legendNames=runList,pads=False,\n",
    "                                               drawOption=\"SAME L\",xAxisRange = [50,160],yAxisRange=[0,40e-3],grid=True)\n",
    "    updateColors(hist,cols)\n",
    "    pad1.SetGrid(1)\n",
    "    canvas.SetCanvasSize(700,400)\n",
    "    canvas.Draw()"
   ]
  },
  {
   "cell_type": "markdown",
   "id": "f2925ae9",
   "metadata": {},
   "source": [
    "**nClusters vs phi**"
   ]
  },
  {
   "cell_type": "markdown",
   "id": "81f7cbb2",
   "metadata": {},
   "source": [
    "<a id='h2DNClustersPhiAside'></a>\n"
   ]
  },
  {
   "cell_type": "code",
   "execution_count": null,
   "id": "f4295051-b300-4f80-a42b-1f00d9fc10aa",
   "metadata": {},
   "outputs": [],
   "source": [
    "%jsroot on\n",
    "objectName=\"h2DNClustersPhiAside\"\n",
    "if checkIfExists(rootDataFile,objectName):\n",
    "    [quants,legend,canvas] = drawQuantileProjection(objectName,rootDataFile)\n",
    "    updateColors(quants,cols)\n",
    "    canvas.SetGridy(1)\n",
    "    canvas.SetCanvasSize(1000,400)\n",
    "    for quant in quants:\n",
    "        quant.GetYaxis().SetRangeUser(60,160)\n",
    "        quant.SetTitle(\"A-Side - nClusters per track vs phi\")\n",
    "    canvas.cd()\n",
    "    sectorBoundary = ROOT.TLine(0,quant.GetMinimum(),0,quant.GetMaximum())\n",
    "    sectorBoundary.SetLineStyle(2)\n",
    "    sectorNum = ROOT.TText(.5,.5,\"test\")\n",
    "    sectorNum.SetTextAlign(22)\n",
    "    sectorNum.SetTextColor(ROOT.kGray+1)\n",
    "    sectorNum.SetTextFont(0)\n",
    "    for j in range(19):\n",
    "        sectorBoundary.DrawLine((j*2*math.pi)/18,quant.GetMinimum(),(j*2*math.pi)/18,quant.GetMaximum())\n",
    "        if j < 18 : sectorNum.DrawText(((j+0.5)*2*math.pi)/18,quant.GetMaximum()*0.95+quant.GetMinimum()*0.05,str(j))\n",
    "    legend.Draw()\n",
    "canvas.Draw()"
   ]
  },
  {
   "cell_type": "markdown",
   "id": "be7e248b",
   "metadata": {},
   "source": [
    "<a id='h2DNClustersPhiCside'></a>\n"
   ]
  },
  {
   "cell_type": "code",
   "execution_count": null,
   "id": "a8a24637-f8e4-49c8-9b0f-7dc8cdceebd4",
   "metadata": {},
   "outputs": [],
   "source": [
    "%jsroot on\n",
    "objectName=\"h2DNClustersPhiCside\"\n",
    "if checkIfExists(rootDataFile,objectName):\n",
    "    [quants,legend,canvas] = drawQuantileProjection(objectName,rootDataFile)\n",
    "    updateColors(quants,cols)\n",
    "    canvas.SetGridy(1)\n",
    "    canvas.SetCanvasSize(1000,400)\n",
    "    for quant in quants:\n",
    "        quant.GetYaxis().SetRangeUser(60,160)\n",
    "        quant.SetTitle(\"C-Side - nClusters per track vs phi\")\n",
    "    canvas.cd()\n",
    "    sectorBoundary = ROOT.TLine(0,quant.GetMinimum(),0,quant.GetMaximum())\n",
    "    sectorBoundary.SetLineStyle(2)\n",
    "    sectorNum = ROOT.TText(.5,.5,\"test\")\n",
    "    sectorNum.SetTextAlign(22)\n",
    "    sectorNum.SetTextColor(ROOT.kGray+1)\n",
    "    sectorNum.SetTextFont(0)\n",
    "    for j in range(19):\n",
    "        sectorBoundary.DrawLine((j*2*math.pi)/18,quant.GetMinimum(),(j*2*math.pi)/18,quant.GetMaximum())\n",
    "        if j < 18 : sectorNum.DrawText(((j+0.5)*2*math.pi)/18,quant.GetMaximum()*0.95+quant.GetMinimum()*0.05,str(j))\n",
    "    legend.Draw()\n",
    "canvas.Draw()"
   ]
  },
  {
   "cell_type": "markdown",
   "id": "91903ed3",
   "metadata": {},
   "source": [
    "**nClusters vs eta**"
   ]
  },
  {
   "cell_type": "markdown",
   "id": "edaf185a",
   "metadata": {},
   "source": [
    "<a id='h2DNClustersEta'></a>"
   ]
  },
  {
   "cell_type": "code",
   "execution_count": null,
   "id": "9fe0d2ad-6969-4d87-9ac2-ade8f2ab95e7",
   "metadata": {},
   "outputs": [],
   "source": [
    "%jsroot on\n",
    "objectName=\"h2DNClustersEta\"\n",
    "if checkIfExists(rootDataFile,objectName):\n",
    "    [quants,legend,canvas] = drawQuantileProjection(objectName,rootDataFile)\n",
    "    updateColors(quants,cols)\n",
    "    canvas.SetGrid(1)\n",
    "    canvas.SetCanvasSize(700,400)\n",
    "    for quant in quants:\n",
    "        quant.GetXaxis().SetRangeUser(-1.1,1.1)\n",
    "        quant.GetYaxis().SetRangeUser(60,160)\n",
    "    legend.Draw()\n",
    "canvas.Draw()"
   ]
  },
  {
   "cell_type": "markdown",
   "id": "9254b83e",
   "metadata": {},
   "source": [
    "**nClusters vs transverse momentum**"
   ]
  },
  {
   "cell_type": "markdown",
   "id": "fb31cb26",
   "metadata": {},
   "source": [
    "<a id='h2DNClustersPt'></a>\n"
   ]
  },
  {
   "cell_type": "code",
   "execution_count": null,
   "id": "60716034-b41d-4983-a5a3-4dad574c907a",
   "metadata": {},
   "outputs": [],
   "source": [
    "%jsroot on\n",
    "objectName=\"h2DNClustersPt\"\n",
    "if checkIfExists(rootDataFile,objectName):\n",
    "    [quants,legend,canvas] = drawQuantileProjection(objectName,rootDataFile)\n",
    "    updateColors(quants,cols)\n",
    "    canvas.SetGrid(1)\n",
    "    canvas.SetCanvasSize(700,400)\n",
    "    canvas.SetLogx()\n",
    "    for quant in quants:\n",
    "        quant.GetYaxis().SetRangeUser(60,160)\n",
    "    legend.Draw()\n",
    "canvas.Draw()"
   ]
  },
  {
   "cell_type": "markdown",
   "id": "dda7f5c0-a25a-40b0-b573-1b0e28ca0253",
   "metadata": {},
   "source": [
    "### DCAr"
   ]
  },
  {
   "cell_type": "code",
   "execution_count": null,
   "id": "e439180b-5d8d-4c34-a993-64e1f7018737",
   "metadata": {},
   "outputs": [],
   "source": [
    "%jsroot on\n",
    "objectName=\"hDCAr_A_Pos\"\n",
    "if checkIfExists(rootDataFile,objectName):\n",
    "    [quants,legend,canvas] = drawQuantileProjection(objectName,rootDataFile)\n",
    "    updateColors(quants,cols)\n",
    "    canvas.SetGridy(1)\n",
    "    canvas.SetCanvasSize(1000,350)\n",
    "    for quant in quants:\n",
    "        quant.GetYaxis().SetRangeUser(-3,3)\n",
    "        quant.SetTitle(\"DCAr A-Side - Positive\")\n",
    "    canvas.cd()\n",
    "    sectorBoundary = ROOT.TLine(0,quant.GetMinimum(),0,quant.GetMaximum())\n",
    "    sectorBoundary.SetLineStyle(2)\n",
    "    sectorNum = ROOT.TText(.5,.5,\"test\")\n",
    "    sectorNum.SetTextAlign(22)\n",
    "    sectorNum.SetTextColor(ROOT.kGray+1)\n",
    "    sectorNum.SetTextFont(0)\n",
    "    for j in range(19):\n",
    "        sectorBoundary.DrawLine((j*2*math.pi)/18,quant.GetMinimum(),(j*2*math.pi)/18,quant.GetMaximum())\n",
    "        if j < 18 : sectorNum.DrawText(((j+0.5)*2*math.pi)/18,quant.GetMaximum()*0.95+quant.GetMinimum()*0.05,str(j))\n",
    "    legend.Draw()\n",
    "    canvas.Draw()"
   ]
  },
  {
   "cell_type": "code",
   "execution_count": null,
   "id": "b0eb056b-e630-4812-ac76-d98f9f62bfbf",
   "metadata": {},
   "outputs": [],
   "source": [
    "%jsroot on\n",
    "objectName=\"hDCAr_A_Neg\"\n",
    "if checkIfExists(rootDataFile,objectName):\n",
    "    [quants,legend,canvas] = drawQuantileProjection(objectName,rootDataFile)\n",
    "    updateColors(quants,cols)\n",
    "    canvas.SetGridy(1)\n",
    "    canvas.SetCanvasSize(1000,350)\n",
    "    for quant in quants:\n",
    "        quant.GetYaxis().SetRangeUser(-3,3)\n",
    "        quant.SetTitle(\"DCAr A-Side - Negative\")\n",
    "    canvas.cd()\n",
    "    sectorBoundary = ROOT.TLine(0,quant.GetMinimum(),0,quant.GetMaximum())\n",
    "    sectorBoundary.SetLineStyle(2)\n",
    "    sectorNum = ROOT.TText(.5,.5,\"test\")\n",
    "    sectorNum.SetTextAlign(22)\n",
    "    sectorNum.SetTextColor(ROOT.kGray+1)\n",
    "    sectorNum.SetTextFont(0)\n",
    "    for j in range(19):\n",
    "        sectorBoundary.DrawLine((j*2*math.pi)/18,quant.GetMinimum(),(j*2*math.pi)/18,quant.GetMaximum())\n",
    "        if j < 18 : sectorNum.DrawText(((j+0.5)*2*math.pi)/18,quant.GetMaximum()*0.95+quant.GetMinimum()*0.05,str(j))\n",
    "    legend.Draw()\n",
    "    canvas.Draw()"
   ]
  },
  {
   "cell_type": "code",
   "execution_count": null,
   "id": "6f4125b9-2961-4315-9014-73ca4486a001",
   "metadata": {},
   "outputs": [],
   "source": [
    "%jsroot on\n",
    "objectName=\"hDCAr_C_Pos\"\n",
    "if checkIfExists(rootDataFile,objectName):\n",
    "    [quants,legend,canvas] = drawQuantileProjection(objectName,rootDataFile)\n",
    "    updateColors(quants,cols)\n",
    "    canvas.SetGridy(1)\n",
    "    canvas.SetCanvasSize(1000,350)\n",
    "    for quant in quants:\n",
    "        quant.GetYaxis().SetRangeUser(-3,3)\n",
    "        quant.SetTitle(\"DCAr C-Side - Positive\")\n",
    "    canvas.cd()\n",
    "    sectorBoundary = ROOT.TLine(0,quant.GetMinimum(),0,quant.GetMaximum())\n",
    "    sectorBoundary.SetLineStyle(2)\n",
    "    sectorNum = ROOT.TText(.5,.5,\"test\")\n",
    "    sectorNum.SetTextAlign(22)\n",
    "    sectorNum.SetTextColor(ROOT.kGray+1)\n",
    "    sectorNum.SetTextFont(0)\n",
    "    for j in range(19):\n",
    "        sectorBoundary.DrawLine((j*2*math.pi)/18,quant.GetMinimum(),(j*2*math.pi)/18,quant.GetMaximum())\n",
    "        if j < 18 : sectorNum.DrawText(((j+0.5)*2*math.pi)/18,quant.GetMaximum()*0.95+quant.GetMinimum()*0.05,str(j))\n",
    "    legend.Draw()\n",
    "    canvas.Draw()"
   ]
  },
  {
   "cell_type": "code",
   "execution_count": null,
   "id": "c8c8ae14-8f11-45e5-8edf-927a208859c2",
   "metadata": {},
   "outputs": [],
   "source": [
    "%jsroot on\n",
    "objectName=\"hDCAr_C_Neg\"\n",
    "if checkIfExists(rootDataFile,objectName):\n",
    "    [quants,legend,canvas] = drawQuantileProjection(objectName,rootDataFile)\n",
    "    updateColors(quants,cols)\n",
    "    canvas.SetGridy(1)\n",
    "    canvas.SetCanvasSize(1000,350)\n",
    "    for quant in quants:\n",
    "        quant.GetYaxis().SetRangeUser(-3,3)\n",
    "        quant.SetTitle(\"DCAr C-Side - Negative\")\n",
    "    canvas.cd()\n",
    "    sectorBoundary = ROOT.TLine(0,quant.GetMinimum(),0,quant.GetMaximum())\n",
    "    sectorBoundary.SetLineStyle(2)\n",
    "    sectorNum = ROOT.TText(.5,.5,\"test\")\n",
    "    sectorNum.SetTextAlign(22)\n",
    "    sectorNum.SetTextColor(ROOT.kGray+1)\n",
    "    sectorNum.SetTextFont(0)\n",
    "    for j in range(19):\n",
    "        sectorBoundary.DrawLine((j*2*math.pi)/18,quant.GetMinimum(),(j*2*math.pi)/18,quant.GetMaximum())\n",
    "        if j < 18 : sectorNum.DrawText(((j+0.5)*2*math.pi)/18,quant.GetMaximum()*0.95+quant.GetMinimum()*0.05,str(j))\n",
    "    legend.Draw()\n",
    "    canvas.Draw()"
   ]
  },
  {
   "cell_type": "markdown",
   "id": "8d8b92cf",
   "metadata": {},
   "source": [
    "### PID\n",
    "#### dEdxTot of MIP"
   ]
  },
  {
   "cell_type": "markdown",
   "id": "74f05922",
   "metadata": {},
   "source": [
    "<a id='hdEdxTotMIP_TPC'></a>\n",
    "<a id='hdEdxTotMIP_IROC'></a>\n",
    "<a id='hdEdxTotMIP_OROC1'></a>\n",
    "<a id='hdEdxTotMIP_OROC2'></a>\n",
    "<a id='hdEdxTotMIP_OROC3'></a>\n"
   ]
  },
  {
   "cell_type": "code",
   "execution_count": null,
   "id": "e1995b55-5a5f-4cd2-8615-25288a28c662",
   "metadata": {},
   "outputs": [],
   "source": [
    "%jsroot on\n",
    "yRange = [0,0.09]\n",
    "objects = [\"hdEdxTotMIP_\" + region for region in [\"TPC\",\"IROC\",\"OROC1\",\"OROC2\",\"OROC3\"]]\n",
    "if all([checkIfExists(rootDataFile,objectName) for objectName in objects]):\n",
    "    hists = []\n",
    "    for objectName in objects:\n",
    "        [hist,legend,canvas,pad1] = drawHistograms(objectName,rootDataFile,normalize=True,legend=True,legendNames=runList,pads=False,\n",
    "                                               drawOption=\"SAME L\",yAxisRange=yRange,log=\"logx\")\n",
    "        updateColors(hist,cols)\n",
    "        hists.append(copy(hist))\n",
    "    c = ROOT.TCanvas(\"MIP\",\"MIP\",1100,600)\n",
    "    c.Divide(2)\n",
    "    leftPad = c.cd(1)\n",
    "    leftPad.SetGrid(1)\n",
    "    for hist in hists[0]:\n",
    "        hist.Draw(\"SAME L\")\n",
    "        hist.SetStats(0)\n",
    "    #Draw target 50\n",
    "    targets = [ROOT.TLine(50,yRange[0],50,yRange[1]) for hist in hists]\n",
    "    for i in range(len(objects)):\n",
    "        targets[i].SetLineStyle(2)\n",
    "        targets[i].SetLineColor(3)\n",
    "        targets[i].SetLineWidth(3)\n",
    "    targets[0].Draw()\n",
    "    legend.Draw()\n",
    "    rightPad = c.cd(2)\n",
    "    rightPad.Divide(2,2)\n",
    "    for i in range(1,5):\n",
    "        rightPad.cd(i)\n",
    "        ROOT.gPad.SetGrid(1)\n",
    "        for hist in hists[i]:\n",
    "            hist.Draw(\"SAME L\")\n",
    "            hist.SetStats(0)\n",
    "        targets[i].Draw()\n",
    "    c.Draw()"
   ]
  },
  {
   "cell_type": "markdown",
   "id": "b9ed6bf3",
   "metadata": {},
   "source": [
    "#### TPC Gain calibration\n",
    "**dEdx of MIP vs sector**"
   ]
  },
  {
   "cell_type": "markdown",
   "id": "67812972",
   "metadata": {},
   "source": [
    "<a id='hdEdxTotMIPVsSec_TPC'></a>"
   ]
  },
  {
   "cell_type": "code",
   "execution_count": null,
   "id": "b3d4f947-e97e-4c8d-9e0d-c22eef7d2913",
   "metadata": {},
   "outputs": [],
   "source": [
    "%jsroot on\n",
    "objectName=\"hdEdxTotMIPVsSec_TPC\"\n",
    "if checkIfExists(rootDataFile,objectName):\n",
    "    c = ROOT.TCanvas(\"MIP\",\"MIP\",1100,600)\n",
    "    c.Divide(2)\n",
    "    [fits,legend,canvas] = sliceAndFit(objectName,rootDataFile)\n",
    "    updateColors(fits,cols)\n",
    "    canvas.SetGridy(1)\n",
    "    canvas.SetCanvasSize(1000,350)\n",
    "    for fit in fits:\n",
    "        fit.GetYaxis().SetRangeUser(45,55)\n",
    "        fit.SetTitle(\"TPC Mean MIP Q_{Tot} vs Sector\")\n",
    "    canvas.Draw()"
   ]
  },
  {
   "cell_type": "markdown",
   "id": "dedc1882",
   "metadata": {},
   "source": [
    "**dEdx of Mip vs nClusters**"
   ]
  },
  {
   "cell_type": "markdown",
   "id": "8170a75c",
   "metadata": {},
   "source": [
    "<a id='hdEdxTotMIPVsNcl_TPC'></a>"
   ]
  },
  {
   "cell_type": "code",
   "execution_count": null,
   "id": "91d4c491-8c38-4a13-8221-6e164424c2af",
   "metadata": {},
   "outputs": [],
   "source": [
    "\n",
    "%jsroot on\n",
    "objectName=\"hdEdxTotMIPVsNcl_TPC\"\n",
    "if checkIfExists(rootDataFile,objectName):\n",
    "    [fits,legend,canvas] = sliceAndFit(objectName,rootDataFile)\n",
    "    updateColors(fits,cols)\n",
    "    canvas.SetGridy(1)\n",
    "    canvas.SetCanvasSize(1000,350)\n",
    "    for fit in fits:\n",
    "        fit.GetYaxis().SetRangeUser(45,55)\n",
    "        fit.GetXaxis().SetRangeUser(60,160)\n",
    "        fit.SetTitle(\"TPC Mean MIP Q_{Tot} vs nClusters\")\n",
    "        sectorBoundary = ROOT.TLine()\n",
    "        sectorBoundary.SetLineStyle(2)\n",
    "        sectorBoundary.SetLineColor(ROOT.kBlack)\n",
    "        sectorBoundary.SetLineWidth(2)\n",
    "        sectorBoundary.DrawLine(60,50,153,50)\n",
    "    canvas.Draw()"
   ]
  },
  {
   "cell_type": "markdown",
   "id": "560a30ec",
   "metadata": {},
   "source": [
    "**dEdx of Mip vs tan(lambda)**"
   ]
  },
  {
   "cell_type": "markdown",
   "id": "f080c7ff",
   "metadata": {},
   "source": [
    "<a id='hdEdxTotMIPVsTgl_TPC'></a>"
   ]
  },
  {
   "cell_type": "code",
   "execution_count": null,
   "id": "ea06236c-f411-42e6-a8f6-6cb0c3b96a4b",
   "metadata": {},
   "outputs": [],
   "source": [
    "%jsroot on\n",
    "objectName=\"hdEdxTotMIPVsTgl_TPC\"\n",
    "if checkIfExists(rootDataFile,objectName):\n",
    "    [fits,legend,canvas] = sliceAndFit(objectName,rootDataFile,fitRange=[40,60])\n",
    "    updateColors(fits,cols)\n",
    "    canvas.SetGridy(1)\n",
    "    canvas.SetCanvasSize(1000,350)\n",
    "    for fit in fits:\n",
    "        fit.GetYaxis().SetRangeUser(45,55)\n",
    "        fit.GetXaxis().SetRangeUser(-2,2)\n",
    "        fit.SetTitle(\"TPC Mean MIP Q_{Tot} vs tan(lambda)\")\n",
    "        sectorBoundary = ROOT.TLine()\n",
    "        sectorBoundary.SetLineStyle(2)\n",
    "        sectorBoundary.SetLineColor(ROOT.kBlack)\n",
    "        sectorBoundary.SetLineWidth(2)\n",
    "        sectorBoundary.DrawLine(-2,50,2,50)\n",
    "    canvas.Draw()"
   ]
  },
  {
   "cell_type": "markdown",
   "id": "61714520",
   "metadata": {},
   "source": [
    "**dEdx of Mip vs sin(phi)**"
   ]
  },
  {
   "cell_type": "markdown",
   "id": "80e80f03",
   "metadata": {},
   "source": [
    "<a id='hdEdxTotMIPVsSnp_TPC'></a>\n"
   ]
  },
  {
   "cell_type": "code",
   "execution_count": null,
   "id": "c5e9bdae-e112-472e-be5a-82277ad7ea37",
   "metadata": {},
   "outputs": [],
   "source": [
    "%jsroot on\n",
    "objectName=\"hdEdxTotMIPVsSnp_TPC\"\n",
    "if checkIfExists(rootDataFile,objectName):\n",
    "    [fits,legend,canvas] = sliceAndFit(objectName,rootDataFile,fitRange=[40,60])\n",
    "    updateColors(fits,cols)\n",
    "    canvas.SetGridy(1)\n",
    "    canvas.SetCanvasSize(1000,350)\n",
    "    for fit in fits:\n",
    "        fit.GetYaxis().SetRangeUser(35,65)\n",
    "        fit.GetXaxis().SetRangeUser(-1,1)\n",
    "        fit.SetTitle(\"TPC Mean MIP Q_{Tot} vs sin(phi)\")\n",
    "        sectorBoundary = ROOT.TLine()\n",
    "        sectorBoundary.SetLineStyle(2)\n",
    "        sectorBoundary.SetLineColor(ROOT.kBlack)\n",
    "        sectorBoundary.SetLineWidth(2)\n",
    "        sectorBoundary.DrawLine(-1,50,1,50)\n",
    "    canvas.Draw()"
   ]
  },
  {
   "cell_type": "markdown",
   "id": "4d5e6ec8",
   "metadata": {},
   "source": [
    "#### dEdx vs p"
   ]
  },
  {
   "cell_type": "markdown",
   "id": "86dde2b1",
   "metadata": {},
   "source": [
    "<a id='hdEdxTotVsP_TPC'></a>\n"
   ]
  },
  {
   "cell_type": "code",
   "execution_count": null,
   "id": "a3f91098",
   "metadata": {},
   "outputs": [],
   "source": [
    "%jsroot on\n",
    "from TPCQCVis.src.drawBetheBloch import *\n",
    "objectName=\"hdEdxTotVsP_TPC\"\n",
    "if checkIfExists(rootDataFile,objectName):\n",
    "    [hist,legend,canvas,pad1] = drawHistograms(objectName,rootDataFile,normalize=False,legend=False,log=\"logxyz\",legendNames=runList,pads=True,drawOption=\"COLZ\")\n",
    "    betheBlochLines = getBetheBloch(runList)\n",
    "    pad1 = drawBetheBloch(betheBlochLines,pad1)\n",
    "    canvas.Draw()"
   ]
  },
  {
   "cell_type": "code",
   "execution_count": null,
   "id": "b08ea383",
   "metadata": {},
   "outputs": [],
   "source": [
    "from ipywidgets import VBox, Button, Dropdown, HTML, Layout, ButtonStyle\n",
    "from IPython.display import FileLink\n",
    "\n",
    "def append_histogram_if_needed(hNClustersAfterCutsTrendingQuality, hNClustersAfterCuts):\n",
    "    global run, histogram_names  # Reference global or previously defined variables\n",
    "\n",
    "    # Filter the DataFrame for the current run\n",
    "    filtered_df = hNClustersAfterCutsTrendingQuality[hNClustersAfterCutsTrendingQuality['Run'] == str(run)]\n",
    "\n",
    "    # Check if there are any rows after filtering\n",
    "    if not filtered_df.empty:\n",
    "        # Get the quality for the current run\n",
    "        specific_run_quality = filtered_df['Quality'].iloc[0]\n",
    "\n",
    "        # Add 'hNClustersAfterCuts' only if the quality is 'MEDIUM' or 'BAD'\n",
    "        if specific_run_quality == 'MEDIUM' or specific_run_quality == 'BAD':\n",
    "            histogram_names.append(hNClustersAfterCuts)\n",
    "\n",
    "    return histogram_names\n",
    "\n",
    "\n",
    "def create_run_widget(run, histogram_names, worst_quality):\n",
    "    # Set button color based on the worst quality\n",
    "    button_style = ButtonStyle()\n",
    "    if worst_quality == \"BAD\":\n",
    "        button_style.button_color = 'red'\n",
    "    elif worst_quality == \"MEDIUM\":\n",
    "        button_style.button_color = 'yellow'\n",
    "    elif worst_quality == \"GOOD\":\n",
    "        button_style.button_color = 'green'\n",
    "\n",
    "    dropdown = Dropdown(options=histogram_names, description=f'Run {run}:')\n",
    "    button = Button(description=f\"Run {run}\", style=button_style)\n",
    "    link_output = HTML()  # Placeholder for the link\n",
    "    \n",
    "    # Initialize link output if there's only one histogram\n",
    "    if len(histogram_names) == 1:\n",
    "        link_output.value = f\"<a href='#{histogram_names[0]}'>Go to histogram {histogram_names[0]}</a>\"\n",
    "\n",
    "\n",
    "    def on_button_clicked(b):\n",
    "        dropdown.layout.display = 'flex'  # Show the dropdown\n",
    "        # Display the link immediately if there's only one histogram\n",
    "        if len(histogram_names) == 1:\n",
    "            link_output.value = f\"<a href='#{histogram_names[0]}'>Go to histogram {histogram_names[0]}</a>\"\n",
    "    def on_dropdown_change(change):\n",
    "        if change['type'] == 'change' and change['name'] == 'value':\n",
    "            # Directly create a link to the anchor\n",
    "            link_output.value = f\"<a href='#{change['new']}'>Go to histogram {change['new']}</a>\"\n",
    "\n",
    "    button.on_click(on_button_clicked)\n",
    "    dropdown.observe(on_dropdown_change, names='value')\n",
    "\n",
    "    return VBox([button, dropdown, link_output])\n",
    "\n",
    "\n",
    "\n",
    "# Base list of histogram names\n",
    "#all_histogram_names = ['hPhiCside','h2DRPhinClustersAside','h2DRPhinClustersCside','h2DRPhiqTotAside','h2DRPhiqTotCside','h2DEtaPhi','hQOverPt','h2DNClustersPhiAside','h2DNClustersPhiCside','h2DNClustersEta','h2DNClustersPt','hdEdxTotMIP_OROC3','hdEdxTotMIP_OROC2','hdEdxTotMIP_OROC1','hdEdxTotMIP_IROC','hdEdxTotMIPVsSec_TPC','hdEdxTotMIPVsNcl_TPC','hdEdxTotMIPVsSnp_TPC','hdEdxTotVsP_TPC']  # Add all histograms here\n",
    "all_histogram_names = []\n",
    "# List to store the widgets\n",
    "widgets_list = []\n",
    "run_summary = []\n",
    "\n",
    "for run in runList:\n",
    "    # Start with a copy of the base list of histogram names for each run\n",
    "    histogram_names = all_histogram_names.copy()\n",
    "    worst_quality = \"GOOD\"\n",
    "\n",
    "# Define a list of DataFrame and histogram name pairs\n",
    "    df_histogram_pairs = [\n",
    "        (hEtaTrendingQuality, 'hEta'),\n",
    "        (hPhiAsideTrendingQuality, 'hPhiAside'),\n",
    "        (numberofTracksTrendingQuality, 'hPhiCside'),\n",
    "        (hNClustersAfterCutsTrendingQuality, 'hNClustersAfterCuts'),\n",
    "        (hdEdxTotMIP_TPCTrendingQuality, 'hdEdxTotMIP_TPC'),\n",
    "        (hSignTrendingQuality, 'hSign'), \n",
    "        (hPtTrendingQuality, 'hPt'),\n",
    "        (hdEdxVsTglTrendingQuality, 'hdEdxVsTgl'),\n",
    "        (hdEdxTotMIPVsSnp_TPCTrendingQuality, 'hdEdxTotMIPVsSnp_TPC')\n",
    "\n",
    "    ] \n",
    "    \n",
    "    \n",
    "\n",
    "\n",
    "    # Iterate over each pair to check and append histogram names and determine worst quality\n",
    "    for df, histogram_name in df_histogram_pairs:\n",
    "        if not df.empty:\n",
    "            filtered_df = df[df['Run'] == str(run)]\n",
    "            if not filtered_df.empty:\n",
    "                specific_run_quality = filtered_df['Quality'].iloc[0]\n",
    "                if specific_run_quality == 'MEDIUM' or specific_run_quality == 'BAD':\n",
    "                    histogram_names.append(histogram_name)\n",
    "                    # Update the worst quality if needed\n",
    "                    if specific_run_quality == \"BAD\":\n",
    "                        worst_quality = \"BAD\"\n",
    "                        break  # Stop checking if any histogram is BAD\n",
    "                    elif specific_run_quality == \"MEDIUM\" and worst_quality != \"BAD\":\n",
    "                        worst_quality = \"MEDIUM\"\n",
    "\n",
    "    # Create and add the widget for this run to the list\n",
    "    widgets_list.append(create_run_widget(run, histogram_names, worst_quality))\n",
    "    \n",
    "    run_summary.append((run, worst_quality, histogram_names))\n",
    "\n",
    "with open(\"run_quality_summary.txt\", \"w\") as file:\n",
    "    for run, quality, histograms in run_summary:\n",
    "        file.write(f\"Run {run}, Worst Quality: {quality}, Histograms: {', '.join(histograms)}\\n\")\n",
    "        \n",
    "# Create a link to download the file\n",
    "download_link = FileLink('run_quality_summary.txt', result_html_prefix=\"Click here to download: \")\n",
    "\n",
    "# Display the link\n",
    "display(download_link)\n",
    "\n",
    "\n",
    "# Display all widgets\n",
    "display(VBox(widgets_list))\n"
   ]
  },
  {
   "cell_type": "code",
   "execution_count": null,
   "id": "03cd7c70",
   "metadata": {},
   "outputs": [],
   "source": []
  },
  {
   "cell_type": "code",
   "execution_count": null,
   "id": "da740a3b",
   "metadata": {},
   "outputs": [],
   "source": []
  }
 ],
 "metadata": {
  "kernelspec": {
   "display_name": "Python 3 (ipykernel)",
   "language": "python",
   "name": "python3"
  },
  "language_info": {
   "codemirror_mode": {
    "name": "ipython",
    "version": 3
   },
   "file_extension": ".py",
   "mimetype": "text/x-python",
   "name": "python",
   "nbconvert_exporter": "python",
   "pygments_lexer": "ipython3",
   "version": "3.9.6"
  },
  "toc": {
   "base_numbering": 1,
   "nav_menu": {},
   "number_sections": false,
   "sideBar": false,
   "skip_h1_title": true,
   "title_cell": "Table of Contents",
   "title_sidebar": "Contents",
   "toc_cell": true,
   "toc_position": {},
   "toc_section_display": true,
   "toc_window_display": false
  },
  "widgets": {
   "application/vnd.jupyter.widget-state+json": {
    "state": {
     "0406058ce7b34920a5002f002b388a11": {
      "model_module": "@jupyter-widgets/output",
      "model_module_version": "1.0.0",
      "model_name": "OutputModel",
      "state": {
       "layout": "IPY_MODEL_e5c089c3d1f54e06aa7c69d6be7b7d7a"
      }
     },
     "04f7abbb945649049c088602c240cddf": {
      "model_module": "@jupyter-widgets/controls",
      "model_module_version": "1.4.0",
      "model_name": "ButtonModel",
      "state": {
       "_model_module_version": "1.4.0",
       "_view_module_version": "1.4.0",
       "description": "Save to Root",
       "layout": "IPY_MODEL_a3a8439080a4433c8cfc3592bcac145a",
       "style": "IPY_MODEL_ca9438839a46429aaa3f24354ee42db5"
      }
     },
     "0879c08a037c40b59978c9acbf2b6698": {
      "model_module": "@jupyter-widgets/controls",
      "model_module_version": "1.4.0",
      "model_name": "ButtonStyleModel",
      "state": {
       "_model_module_version": "1.4.0",
       "_view_module_version": "1.1.0"
      }
     },
     "0e66ecb30df5491980f781135fa73613": {
      "model_module": "@jupyter-widgets/controls",
      "model_module_version": "1.4.0",
      "model_name": "ButtonStyleModel",
      "state": {
       "_model_module_version": "1.4.0",
       "_view_module_version": "1.1.0"
      }
     },
     "0ee941a35f4e48c0ae62d26a3e4022b9": {
      "model_module": "@jupyter-widgets/controls",
      "model_module_version": "1.4.0",
      "model_name": "ButtonModel",
      "state": {
       "_model_module_version": "1.4.0",
       "_view_module_version": "1.4.0",
       "description": "Save to Root",
       "layout": "IPY_MODEL_4e0b4767d50c45d4a3059b25b084f5ae",
       "style": "IPY_MODEL_6f24f617f4e8405baa6588f13c520940"
      }
     },
     "1088528976754aab8271549957380321": {
      "model_module": "@jupyter-widgets/controls",
      "model_module_version": "1.4.0",
      "model_name": "ButtonModel",
      "state": {
       "_model_module_version": "1.4.0",
       "_view_module_version": "1.4.0",
       "description": "Save to PDF",
       "layout": "IPY_MODEL_56dbdc8b10b144ecab1eb0b2dd996fbe",
       "style": "IPY_MODEL_0879c08a037c40b59978c9acbf2b6698"
      }
     },
     "10ee510d3cee4e4fbc3f48e8b75680c2": {
      "model_module": "@jupyter-widgets/base",
      "model_module_version": "1.1.0",
      "model_name": "LayoutModel",
      "state": {
       "_model_module_version": "1.1.0",
       "_view_module_version": "1.1.0",
       "border": null,
       "overflow_x": null,
       "overflow_y": null
      }
     },
     "20e680f74b7d40f395649181965c1d39": {
      "model_module": "@jupyter-widgets/controls",
      "model_module_version": "1.4.0",
      "model_name": "ButtonStyleModel",
      "state": {
       "_model_module_version": "1.4.0",
       "_view_module_version": "1.1.0"
      }
     },
     "26fda7ba48bf41428588a380515d67c5": {
      "model_module": "@jupyter-widgets/base",
      "model_module_version": "1.1.0",
      "model_name": "LayoutModel",
      "state": {
       "_model_module_version": "1.1.0",
       "_view_module_version": "1.1.0",
       "border": null,
       "overflow_x": null,
       "overflow_y": null
      }
     },
     "2926bb68cdaa4f858a67ce97bd19c469": {
      "model_module": "@jupyter-widgets/output",
      "model_module_version": "1.0.0",
      "model_name": "OutputModel",
      "state": {
       "layout": "IPY_MODEL_9eb16856a0e443978661ce094f708029"
      }
     },
     "2ae503cdb98942fd9cfe9369ff0968de": {
      "model_module": "@jupyter-widgets/base",
      "model_module_version": "1.1.0",
      "model_name": "LayoutModel",
      "state": {
       "_model_module_version": "1.1.0",
       "_view_module_version": "1.1.0",
       "border": null,
       "overflow_x": null,
       "overflow_y": null
      }
     },
     "36c7b3e4573e44f19456b149ff230bc6": {
      "model_module": "@jupyter-widgets/base",
      "model_module_version": "1.1.0",
      "model_name": "LayoutModel",
      "state": {
       "_model_module_version": "1.1.0",
       "_view_module_version": "1.1.0",
       "border": null,
       "overflow_x": null,
       "overflow_y": null
      }
     },
     "384fad664c4549dbbfc6371a56598c46": {
      "model_module": "@jupyter-widgets/controls",
      "model_module_version": "1.4.0",
      "model_name": "ButtonStyleModel",
      "state": {
       "_model_module_version": "1.4.0",
       "_view_module_version": "1.1.0"
      }
     },
     "395a63505c3c454cac74c6db62abe6ec": {
      "model_module": "@jupyter-widgets/base",
      "model_module_version": "1.1.0",
      "model_name": "LayoutModel",
      "state": {
       "_model_module_version": "1.1.0",
       "_view_module_version": "1.1.0",
       "border": null,
       "overflow_x": null,
       "overflow_y": null
      }
     },
     "3af37c07964a4ae7b4c80a9e18031e8c": {
      "model_module": "@jupyter-widgets/base",
      "model_module_version": "1.1.0",
      "model_name": "LayoutModel",
      "state": {
       "_model_module_version": "1.1.0",
       "_view_module_version": "1.1.0",
       "border": null,
       "overflow_x": null,
       "overflow_y": null
      }
     },
     "3dcab56d27034a0a9cd076681a0c3af3": {
      "model_module": "@jupyter-widgets/controls",
      "model_module_version": "1.4.0",
      "model_name": "ButtonStyleModel",
      "state": {
       "_model_module_version": "1.4.0",
       "_view_module_version": "1.1.0"
      }
     },
     "4e0b4767d50c45d4a3059b25b084f5ae": {
      "model_module": "@jupyter-widgets/base",
      "model_module_version": "1.1.0",
      "model_name": "LayoutModel",
      "state": {
       "_model_module_version": "1.1.0",
       "_view_module_version": "1.1.0",
       "border": null,
       "overflow_x": null,
       "overflow_y": null
      }
     },
     "50ad71ba430a4e65af089a66a036d98f": {
      "model_module": "@jupyter-widgets/output",
      "model_module_version": "1.0.0",
      "model_name": "OutputModel",
      "state": {
       "layout": "IPY_MODEL_7afbf7a09ee940d988779e898d39f6b1",
       "outputs": [
        {
         "ename": "NameError",
         "evalue": "name 'TFile' is not defined",
         "output_type": "error",
         "traceback": [
          "\u001b[0;31m---------------------------------------------------------------------------\u001b[0m",
          "\u001b[0;31mNameError\u001b[0m                                 Traceback (most recent call last)",
          "\u001b[0;32m<ipython-input-43-4b1715ce1e25>\u001b[0m in \u001b[0;36msaveButtonRoot\u001b[0;34m(b)\u001b[0m\n\u001b[1;32m      5\u001b[0m \u001b[0;32mdef\u001b[0m \u001b[0msaveButtonRoot\u001b[0m\u001b[0;34m(\u001b[0m\u001b[0mb\u001b[0m\u001b[0;34m)\u001b[0m\u001b[0;34m:\u001b[0m\u001b[0;34m\u001b[0m\u001b[0;34m\u001b[0m\u001b[0m\n\u001b[1;32m      6\u001b[0m     \u001b[0;32mwith\u001b[0m \u001b[0moutput\u001b[0m\u001b[0;34m:\u001b[0m\u001b[0;34m\u001b[0m\u001b[0;34m\u001b[0m\u001b[0m\n\u001b[0;32m----> 7\u001b[0;31m         \u001b[0;32mwith\u001b[0m \u001b[0mTFile\u001b[0m\u001b[0;34m(\u001b[0m\u001b[0;34m\"file1.root\"\u001b[0m\u001b[0;34m,\u001b[0m \u001b[0;34m\"recreate\"\u001b[0m\u001b[0;34m)\u001b[0m \u001b[0;32mas\u001b[0m \u001b[0moutfile\u001b[0m\u001b[0;34m:\u001b[0m\u001b[0;34m\u001b[0m\u001b[0;34m\u001b[0m\u001b[0m\n\u001b[0m\u001b[1;32m      8\u001b[0m             \u001b[0moutfile\u001b[0m\u001b[0;34m.\u001b[0m\u001b[0mWriteObject\u001b[0m\u001b[0;34m(\u001b[0m\u001b[0mcanvas\u001b[0m\u001b[0;34m,\u001b[0m \u001b[0;34m\"myCanvas\"\u001b[0m\u001b[0;34m)\u001b[0m\u001b[0;34m\u001b[0m\u001b[0;34m\u001b[0m\u001b[0m\n",
          "\u001b[0;31mNameError\u001b[0m: name 'TFile' is not defined"
         ]
        }
       ]
      }
     },
     "56dbdc8b10b144ecab1eb0b2dd996fbe": {
      "model_module": "@jupyter-widgets/base",
      "model_module_version": "1.1.0",
      "model_name": "LayoutModel",
      "state": {
       "_model_module_version": "1.1.0",
       "_view_module_version": "1.1.0",
       "border": null,
       "overflow_x": null,
       "overflow_y": null
      }
     },
     "60e33b896df246778339f4dff4be8f25": {
      "model_module": "@jupyter-widgets/controls",
      "model_module_version": "1.4.0",
      "model_name": "ButtonModel",
      "state": {
       "_model_module_version": "1.4.0",
       "_view_module_version": "1.4.0",
       "description": "Save to PDF",
       "layout": "IPY_MODEL_395a63505c3c454cac74c6db62abe6ec",
       "style": "IPY_MODEL_818a6a2006cd45a685b9b1bbc4db9c76"
      }
     },
     "62f5350b3b1440088cb5206a67058fde": {
      "model_module": "@jupyter-widgets/base",
      "model_module_version": "1.1.0",
      "model_name": "LayoutModel",
      "state": {
       "_model_module_version": "1.1.0",
       "_view_module_version": "1.1.0",
       "border": null,
       "overflow_x": null,
       "overflow_y": null
      }
     },
     "695713c99706467f875821a5ef7f992e": {
      "model_module": "@jupyter-widgets/controls",
      "model_module_version": "1.4.0",
      "model_name": "ButtonStyleModel",
      "state": {
       "_model_module_version": "1.4.0",
       "_view_module_version": "1.1.0"
      }
     },
     "6a80bacd37dd4454a07080adc1395665": {
      "model_module": "@jupyter-widgets/base",
      "model_module_version": "1.1.0",
      "model_name": "LayoutModel",
      "state": {
       "_model_module_version": "1.1.0",
       "_view_module_version": "1.1.0",
       "border": null,
       "overflow_x": null,
       "overflow_y": null
      }
     },
     "6b44fe66f54148a9995780522c1665ad": {
      "model_module": "@jupyter-widgets/controls",
      "model_module_version": "1.4.0",
      "model_name": "ButtonModel",
      "state": {
       "_model_module_version": "1.4.0",
       "_view_module_version": "1.4.0",
       "description": "Save to Root",
       "layout": "IPY_MODEL_36c7b3e4573e44f19456b149ff230bc6",
       "style": "IPY_MODEL_72aeead3a6904e9ea2c2a224224a8c63"
      }
     },
     "6f24f617f4e8405baa6588f13c520940": {
      "model_module": "@jupyter-widgets/controls",
      "model_module_version": "1.4.0",
      "model_name": "ButtonStyleModel",
      "state": {
       "_model_module_version": "1.4.0",
       "_view_module_version": "1.1.0"
      }
     },
     "72aeead3a6904e9ea2c2a224224a8c63": {
      "model_module": "@jupyter-widgets/controls",
      "model_module_version": "1.4.0",
      "model_name": "ButtonStyleModel",
      "state": {
       "_model_module_version": "1.4.0",
       "_view_module_version": "1.1.0"
      }
     },
     "7afbf7a09ee940d988779e898d39f6b1": {
      "model_module": "@jupyter-widgets/base",
      "model_module_version": "1.1.0",
      "model_name": "LayoutModel",
      "state": {
       "_model_module_version": "1.1.0",
       "_view_module_version": "1.1.0",
       "border": null,
       "overflow_x": null,
       "overflow_y": null
      }
     },
     "818a6a2006cd45a685b9b1bbc4db9c76": {
      "model_module": "@jupyter-widgets/controls",
      "model_module_version": "1.4.0",
      "model_name": "ButtonStyleModel",
      "state": {
       "_model_module_version": "1.4.0",
       "_view_module_version": "1.1.0"
      }
     },
     "823ef688583b43b3b7dc29e5d3422aa8": {
      "model_module": "@jupyter-widgets/output",
      "model_module_version": "1.0.0",
      "model_name": "OutputModel",
      "state": {
       "layout": "IPY_MODEL_8aa1aa0ffe69479fba520c5f0e95576b"
      }
     },
     "831b63241ada4949ae7ddc9cf3f6f3ad": {
      "model_module": "@jupyter-widgets/base",
      "model_module_version": "1.1.0",
      "model_name": "LayoutModel",
      "state": {
       "_model_module_version": "1.1.0",
       "_view_module_version": "1.1.0",
       "border": null,
       "overflow_x": null,
       "overflow_y": null
      }
     },
     "8417421b463a46c9872d37497c3b663d": {
      "model_module": "@jupyter-widgets/controls",
      "model_module_version": "1.4.0",
      "model_name": "ButtonModel",
      "state": {
       "_model_module_version": "1.4.0",
       "_view_module_version": "1.4.0",
       "description": "Save to Root",
       "layout": "IPY_MODEL_9a4fe9d3c94d4621bf792f335bbd40fe",
       "style": "IPY_MODEL_f771512ee9df4ba5bee6a026a4e83de5"
      }
     },
     "8aa1aa0ffe69479fba520c5f0e95576b": {
      "model_module": "@jupyter-widgets/base",
      "model_module_version": "1.1.0",
      "model_name": "LayoutModel",
      "state": {
       "_model_module_version": "1.1.0",
       "_view_module_version": "1.1.0",
       "border": null,
       "overflow_x": null,
       "overflow_y": null
      }
     },
     "8d62ef6a181e417c949955ba277e179d": {
      "model_module": "@jupyter-widgets/output",
      "model_module_version": "1.0.0",
      "model_name": "OutputModel",
      "state": {
       "layout": "IPY_MODEL_b9925dbb44cf40f0a3e0fa6aaff4d77f",
       "outputs": [
        {
         "ename": "AttributeError",
         "evalue": "__enter__",
         "output_type": "error",
         "traceback": [
          "\u001b[0;31m---------------------------------------------------------------------------\u001b[0m",
          "\u001b[0;31mAttributeError\u001b[0m                            Traceback (most recent call last)",
          "\u001b[0;32m<ipython-input-46-87e37fcb9b6d>\u001b[0m in \u001b[0;36msaveButtonRoot\u001b[0;34m(b)\u001b[0m\n\u001b[1;32m      5\u001b[0m \u001b[0;32mdef\u001b[0m \u001b[0msaveButtonRoot\u001b[0m\u001b[0;34m(\u001b[0m\u001b[0mb\u001b[0m\u001b[0;34m)\u001b[0m\u001b[0;34m:\u001b[0m\u001b[0;34m\u001b[0m\u001b[0;34m\u001b[0m\u001b[0m\n\u001b[1;32m      6\u001b[0m     \u001b[0;32mwith\u001b[0m \u001b[0moutput\u001b[0m\u001b[0;34m:\u001b[0m\u001b[0;34m\u001b[0m\u001b[0;34m\u001b[0m\u001b[0m\n\u001b[0;32m----> 7\u001b[0;31m         \u001b[0;32mwith\u001b[0m \u001b[0mROOT\u001b[0m\u001b[0;34m.\u001b[0m\u001b[0mTFile\u001b[0m\u001b[0;34m(\u001b[0m\u001b[0;34m\"file1.root\"\u001b[0m\u001b[0;34m,\u001b[0m \u001b[0;34m\"recreate\"\u001b[0m\u001b[0;34m)\u001b[0m \u001b[0;32mas\u001b[0m \u001b[0moutfile\u001b[0m\u001b[0;34m:\u001b[0m\u001b[0;34m\u001b[0m\u001b[0;34m\u001b[0m\u001b[0m\n\u001b[0m\u001b[1;32m      8\u001b[0m             \u001b[0moutfile\u001b[0m\u001b[0;34m.\u001b[0m\u001b[0mWriteObject\u001b[0m\u001b[0;34m(\u001b[0m\u001b[0mcanvas\u001b[0m\u001b[0;34m,\u001b[0m \u001b[0;34m\"myCanvas\"\u001b[0m\u001b[0;34m)\u001b[0m\u001b[0;34m\u001b[0m\u001b[0;34m\u001b[0m\u001b[0m\n",
          "\u001b[0;31mAttributeError\u001b[0m: __enter__"
         ]
        },
        {
         "ename": "AttributeError",
         "evalue": "__enter__",
         "output_type": "error",
         "traceback": [
          "\u001b[0;31m---------------------------------------------------------------------------\u001b[0m",
          "\u001b[0;31mAttributeError\u001b[0m                            Traceback (most recent call last)",
          "\u001b[0;32m<ipython-input-46-87e37fcb9b6d>\u001b[0m in \u001b[0;36msaveButtonRoot\u001b[0;34m(b)\u001b[0m\n\u001b[1;32m      5\u001b[0m \u001b[0;32mdef\u001b[0m \u001b[0msaveButtonRoot\u001b[0m\u001b[0;34m(\u001b[0m\u001b[0mb\u001b[0m\u001b[0;34m)\u001b[0m\u001b[0;34m:\u001b[0m\u001b[0;34m\u001b[0m\u001b[0;34m\u001b[0m\u001b[0m\n\u001b[1;32m      6\u001b[0m     \u001b[0;32mwith\u001b[0m \u001b[0moutput\u001b[0m\u001b[0;34m:\u001b[0m\u001b[0;34m\u001b[0m\u001b[0;34m\u001b[0m\u001b[0m\n\u001b[0;32m----> 7\u001b[0;31m         \u001b[0;32mwith\u001b[0m \u001b[0mROOT\u001b[0m\u001b[0;34m.\u001b[0m\u001b[0mTFile\u001b[0m\u001b[0;34m(\u001b[0m\u001b[0;34m\"file1.root\"\u001b[0m\u001b[0;34m,\u001b[0m \u001b[0;34m\"recreate\"\u001b[0m\u001b[0;34m)\u001b[0m \u001b[0;32mas\u001b[0m \u001b[0moutfile\u001b[0m\u001b[0;34m:\u001b[0m\u001b[0;34m\u001b[0m\u001b[0;34m\u001b[0m\u001b[0m\n\u001b[0m\u001b[1;32m      8\u001b[0m             \u001b[0moutfile\u001b[0m\u001b[0;34m.\u001b[0m\u001b[0mWriteObject\u001b[0m\u001b[0;34m(\u001b[0m\u001b[0mcanvas\u001b[0m\u001b[0;34m,\u001b[0m \u001b[0;34m\"myCanvas\"\u001b[0m\u001b[0;34m)\u001b[0m\u001b[0;34m\u001b[0m\u001b[0;34m\u001b[0m\u001b[0m\n",
          "\u001b[0;31mAttributeError\u001b[0m: __enter__"
         ]
        }
       ]
      }
     },
     "9242204266e343ae8a441c776e80f4f0": {
      "model_module": "@jupyter-widgets/controls",
      "model_module_version": "1.4.0",
      "model_name": "ButtonStyleModel",
      "state": {
       "_model_module_version": "1.4.0",
       "_view_module_version": "1.1.0"
      }
     },
     "929e5779ad394a799083037ff870d526": {
      "model_module": "@jupyter-widgets/controls",
      "model_module_version": "1.4.0",
      "model_name": "ButtonStyleModel",
      "state": {
       "_model_module_version": "1.4.0",
       "_view_module_version": "1.1.0"
      }
     },
     "93749ab864be49de92dbce533bdae34f": {
      "model_module": "@jupyter-widgets/base",
      "model_module_version": "1.1.0",
      "model_name": "LayoutModel",
      "state": {
       "_model_module_version": "1.1.0",
       "_view_module_version": "1.1.0",
       "border": null,
       "overflow_x": null,
       "overflow_y": null
      }
     },
     "938ac682ac6545cfb80a6da1bc8c26c1": {
      "model_module": "@jupyter-widgets/output",
      "model_module_version": "1.0.0",
      "model_name": "OutputModel",
      "state": {
       "layout": "IPY_MODEL_ce589ac0e83d4bd38fd711550e349c6a"
      }
     },
     "9a4fe9d3c94d4621bf792f335bbd40fe": {
      "model_module": "@jupyter-widgets/base",
      "model_module_version": "1.1.0",
      "model_name": "LayoutModel",
      "state": {
       "_model_module_version": "1.1.0",
       "_view_module_version": "1.1.0",
       "border": null,
       "overflow_x": null,
       "overflow_y": null
      }
     },
     "9e2719717feb49c9938e46061e59b4a1": {
      "model_module": "@jupyter-widgets/output",
      "model_module_version": "1.0.0",
      "model_name": "OutputModel",
      "state": {
       "layout": "IPY_MODEL_10ee510d3cee4e4fbc3f48e8b75680c2"
      }
     },
     "9eb16856a0e443978661ce094f708029": {
      "model_module": "@jupyter-widgets/base",
      "model_module_version": "1.1.0",
      "model_name": "LayoutModel",
      "state": {
       "_model_module_version": "1.1.0",
       "_view_module_version": "1.1.0",
       "border": null,
       "overflow_x": null,
       "overflow_y": null
      }
     },
     "9fdc5097fef143f580581ed9f63baf19": {
      "model_module": "@jupyter-widgets/controls",
      "model_module_version": "1.4.0",
      "model_name": "ButtonModel",
      "state": {
       "_model_module_version": "1.4.0",
       "_view_module_version": "1.4.0",
       "description": "Save to PDF",
       "layout": "IPY_MODEL_6a80bacd37dd4454a07080adc1395665",
       "style": "IPY_MODEL_9242204266e343ae8a441c776e80f4f0"
      }
     },
     "a0caf4fc7e3e4a0daf064e63c0e3234a": {
      "model_module": "@jupyter-widgets/output",
      "model_module_version": "1.0.0",
      "model_name": "OutputModel",
      "state": {
       "layout": "IPY_MODEL_93749ab864be49de92dbce533bdae34f"
      }
     },
     "a2eef3a45bed4115932b9e88827850e1": {
      "model_module": "@jupyter-widgets/controls",
      "model_module_version": "1.4.0",
      "model_name": "ButtonModel",
      "state": {
       "_model_module_version": "1.4.0",
       "_view_module_version": "1.4.0",
       "description": "Save to PDF",
       "layout": "IPY_MODEL_831b63241ada4949ae7ddc9cf3f6f3ad",
       "style": "IPY_MODEL_20e680f74b7d40f395649181965c1d39"
      }
     },
     "a39b71b5f18a4a3089aae76958a3cc55": {
      "model_module": "@jupyter-widgets/base",
      "model_module_version": "1.1.0",
      "model_name": "LayoutModel",
      "state": {
       "_model_module_version": "1.1.0",
       "_view_module_version": "1.1.0",
       "border": null,
       "overflow_x": null,
       "overflow_y": null
      }
     },
     "a3a8439080a4433c8cfc3592bcac145a": {
      "model_module": "@jupyter-widgets/base",
      "model_module_version": "1.1.0",
      "model_name": "LayoutModel",
      "state": {
       "_model_module_version": "1.1.0",
       "_view_module_version": "1.1.0",
       "border": null,
       "overflow_x": null,
       "overflow_y": null
      }
     },
     "a8c867acf084415fba648604326f8c9d": {
      "model_module": "@jupyter-widgets/controls",
      "model_module_version": "1.4.0",
      "model_name": "ButtonStyleModel",
      "state": {
       "_model_module_version": "1.4.0",
       "_view_module_version": "1.1.0"
      }
     },
     "b635d6f1a72043699079245523aadc13": {
      "model_module": "@jupyter-widgets/base",
      "model_module_version": "1.1.0",
      "model_name": "LayoutModel",
      "state": {
       "_model_module_version": "1.1.0",
       "_view_module_version": "1.1.0",
       "border": null,
       "overflow_x": null,
       "overflow_y": null
      }
     },
     "b97779ed35cd4f1f8b3d360fd1d1cc0e": {
      "model_module": "@jupyter-widgets/controls",
      "model_module_version": "1.4.0",
      "model_name": "ButtonModel",
      "state": {
       "_model_module_version": "1.4.0",
       "_view_module_version": "1.4.0",
       "description": "Save to PDF",
       "layout": "IPY_MODEL_b635d6f1a72043699079245523aadc13",
       "style": "IPY_MODEL_0e66ecb30df5491980f781135fa73613"
      }
     },
     "b9925dbb44cf40f0a3e0fa6aaff4d77f": {
      "model_module": "@jupyter-widgets/base",
      "model_module_version": "1.1.0",
      "model_name": "LayoutModel",
      "state": {
       "_model_module_version": "1.1.0",
       "_view_module_version": "1.1.0",
       "border": null,
       "overflow_x": null,
       "overflow_y": null
      }
     },
     "c38d6de6905f44c4b32b9c73fb8276ba": {
      "model_module": "@jupyter-widgets/controls",
      "model_module_version": "1.4.0",
      "model_name": "ButtonModel",
      "state": {
       "_model_module_version": "1.4.0",
       "_view_module_version": "1.4.0",
       "description": "Save to PDF",
       "layout": "IPY_MODEL_fa9655bf72304c2bb97bf8c45500503b",
       "style": "IPY_MODEL_929e5779ad394a799083037ff870d526"
      }
     },
     "c52a903ddba4487e93fc08785f78bdbe": {
      "model_module": "@jupyter-widgets/controls",
      "model_module_version": "1.4.0",
      "model_name": "ButtonModel",
      "state": {
       "_model_module_version": "1.4.0",
       "_view_module_version": "1.4.0",
       "description": "Save to PDF",
       "layout": "IPY_MODEL_26fda7ba48bf41428588a380515d67c5",
       "style": "IPY_MODEL_695713c99706467f875821a5ef7f992e"
      }
     },
     "ca9438839a46429aaa3f24354ee42db5": {
      "model_module": "@jupyter-widgets/controls",
      "model_module_version": "1.4.0",
      "model_name": "ButtonStyleModel",
      "state": {
       "_model_module_version": "1.4.0",
       "_view_module_version": "1.1.0"
      }
     },
     "cce918eab1414c88ad12d08f31aaac47": {
      "model_module": "@jupyter-widgets/controls",
      "model_module_version": "1.4.0",
      "model_name": "ButtonModel",
      "state": {
       "_model_module_version": "1.4.0",
       "_view_module_version": "1.4.0",
       "description": "Save to PDF",
       "layout": "IPY_MODEL_f2a3cad8e9254cc9af9a6ed86874d83d",
       "style": "IPY_MODEL_a8c867acf084415fba648604326f8c9d"
      }
     },
     "ce589ac0e83d4bd38fd711550e349c6a": {
      "model_module": "@jupyter-widgets/base",
      "model_module_version": "1.1.0",
      "model_name": "LayoutModel",
      "state": {
       "_model_module_version": "1.1.0",
       "_view_module_version": "1.1.0",
       "border": null,
       "overflow_x": null,
       "overflow_y": null
      }
     },
     "d3e65f21f57643d188d5b1e4b7c7775c": {
      "model_module": "@jupyter-widgets/controls",
      "model_module_version": "1.4.0",
      "model_name": "ButtonModel",
      "state": {
       "_model_module_version": "1.4.0",
       "_view_module_version": "1.4.0",
       "description": "Save to PDF",
       "layout": "IPY_MODEL_a39b71b5f18a4a3089aae76958a3cc55",
       "style": "IPY_MODEL_384fad664c4549dbbfc6371a56598c46"
      }
     },
     "d4b09a17060d4dc19cad65f89af8b8b1": {
      "model_module": "@jupyter-widgets/controls",
      "model_module_version": "1.4.0",
      "model_name": "ButtonModel",
      "state": {
       "_model_module_version": "1.4.0",
       "_view_module_version": "1.4.0",
       "description": "Save to PDF",
       "layout": "IPY_MODEL_62f5350b3b1440088cb5206a67058fde",
       "style": "IPY_MODEL_3dcab56d27034a0a9cd076681a0c3af3"
      }
     },
     "e5c089c3d1f54e06aa7c69d6be7b7d7a": {
      "model_module": "@jupyter-widgets/base",
      "model_module_version": "1.1.0",
      "model_name": "LayoutModel",
      "state": {
       "_model_module_version": "1.1.0",
       "_view_module_version": "1.1.0",
       "border": null,
       "overflow_x": null,
       "overflow_y": null
      }
     },
     "e6380f2797b54ba8b9859882ee113294": {
      "model_module": "@jupyter-widgets/output",
      "model_module_version": "1.0.0",
      "model_name": "OutputModel",
      "state": {
       "layout": "IPY_MODEL_3af37c07964a4ae7b4c80a9e18031e8c"
      }
     },
     "f2a3cad8e9254cc9af9a6ed86874d83d": {
      "model_module": "@jupyter-widgets/base",
      "model_module_version": "1.1.0",
      "model_name": "LayoutModel",
      "state": {
       "_model_module_version": "1.1.0",
       "_view_module_version": "1.1.0",
       "border": null,
       "overflow_x": null,
       "overflow_y": null
      }
     },
     "f771512ee9df4ba5bee6a026a4e83de5": {
      "model_module": "@jupyter-widgets/controls",
      "model_module_version": "1.4.0",
      "model_name": "ButtonStyleModel",
      "state": {
       "_model_module_version": "1.4.0",
       "_view_module_version": "1.1.0"
      }
     },
     "f7b6aafe840345ad9c68def299dd0a29": {
      "model_module": "@jupyter-widgets/output",
      "model_module_version": "1.0.0",
      "model_name": "OutputModel",
      "state": {
       "layout": "IPY_MODEL_2ae503cdb98942fd9cfe9369ff0968de"
      }
     },
     "fa9655bf72304c2bb97bf8c45500503b": {
      "model_module": "@jupyter-widgets/base",
      "model_module_version": "1.1.0",
      "model_name": "LayoutModel",
      "state": {
       "_model_module_version": "1.1.0",
       "_view_module_version": "1.1.0",
       "border": null,
       "overflow_x": null,
       "overflow_y": null
      }
     }
    },
    "version_major": 2,
    "version_minor": 0
   }
  }
 },
 "nbformat": 4,
 "nbformat_minor": 5
}
